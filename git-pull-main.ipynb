{
 "cells": [
  {
   "cell_type": "code",
   "execution_count": 2,
   "metadata": {},
   "outputs": [
    {
     "name": "stderr",
     "output_type": "stream",
     "text": [
      "From https://github.com/eylon-holon/python-a\n",
      "   95ca45d..e476890  lior-ovadia        -> origin/lior-ovadia\n",
      "   df872be..70bd4d7  maxim-haysenuk     -> origin/maxim-haysenuk\n",
      "   17e6213..31de3aa  michael-rosenhaiem -> origin/michael-rosenhaiem\n",
      "   6d2cc2b..80c22b3  monika-dovrolevski -> origin/monika-dovrolevski\n",
      "   0b9df4a..2fbb294  shay-yuhai         -> origin/shay-yuhai\n"
     ]
    },
    {
     "name": "stdout",
     "output_type": "stream",
     "text": [
      "Already up to date.\n",
      "\n",
      "\n",
      "[itay-habura c65485a] auto commit...\n",
      " 3 files changed, 136 insertions(+), 30 deletions(-)\n",
      "\n"
     ]
    },
    {
     "name": "stderr",
     "output_type": "stream",
     "text": [
      "To https://github.com/eylon-holon/python-a\n",
      "   6ec1d21..c65485a  itay-habura -> itay-habura\n"
     ]
    },
    {
     "name": "stdout",
     "output_type": "stream",
     "text": [
      "\n",
      "Already up to date.\n",
      "\n",
      "\n"
     ]
    },
    {
     "name": "stderr",
     "output_type": "stream",
     "text": [
      "Everything up-to-date\n"
     ]
    }
   ],
   "source": [
    "from eylon.core import *\n",
    "store_all_changes_to_github()\n",
    "get_next_lesson()"
   ]
  }
 ],
 "metadata": {
  "kernelspec": {
   "display_name": "Python 3",
   "language": "python",
   "name": "python3"
  },
  "language_info": {
   "codemirror_mode": {
    "name": "ipython",
    "version": 3
   },
   "file_extension": ".py",
   "mimetype": "text/x-python",
   "name": "python",
   "nbconvert_exporter": "python",
   "pygments_lexer": "ipython3",
   "version": "3.12.1"
  }
 },
 "nbformat": 4,
 "nbformat_minor": 2
}
