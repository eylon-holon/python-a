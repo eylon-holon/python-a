{
 "cells": [
  {
   "cell_type": "code",
   "execution_count": null,
   "metadata": {},
   "outputs": [
    {
     "name": "stderr",
     "output_type": "stream",
     "text": [
      "From https://github.com/eylon-holon/python-a\n",
      "   eb32532..c65485a  itay-habura        -> origin/itay-habura\n",
      "   3f6cdc6..1b796bc  lior-ovadia        -> origin/lior-ovadia\n",
      "   544f0bf..6a34f18  main               -> origin/main\n",
      "   697846e..70bd4d7  maxim-haysenuk     -> origin/maxim-haysenuk\n",
      "   17e6213..31de3aa  michael-rosenhaiem -> origin/michael-rosenhaiem\n",
      "   76302f4..80c22b3  monika-dovrolevski -> origin/monika-dovrolevski\n",
      "   9439f60..761f040  ofri-sharabi       -> origin/ofri-sharabi\n",
      "   efe6f9f..fbacf51  omri-grabli        -> origin/omri-grabli\n",
      "   87c12ae..db1089a  rotem-nahisi       -> origin/rotem-nahisi\n",
      "   2e91c15..2fbb294  shay-yuhai         -> origin/shay-yuhai\n",
      "   ccf5ad3..00f352f  yahel-yunos        -> origin/yahel-yunos\n",
      "   83213e9..c8e0177  yair-bracha        -> origin/yair-bracha\n"
     ]
    },
    {
     "name": "stdout",
     "output_type": "stream",
     "text": [
      "Already up to date.\n",
      "\n",
      "\n",
      "[denis-demidenko 3d39ad9] auto commit...\n",
      " 5 files changed, 578 insertions(+), 91 deletions(-)\n",
      "\n"
     ]
    },
    {
     "name": "stderr",
     "output_type": "stream",
     "text": [
      "To https://github.com/eylon-holon/python-a\n",
      "   2759161..3d39ad9  denis-demidenko -> denis-demidenko\n"
     ]
    },
    {
     "name": "stdout",
     "output_type": "stream",
     "text": [
      "\n",
      "Auto-merging mafmars/mafmar-a.ipynb\n",
      "Merge made by the 'ort' strategy.\n",
      " mafmars/img/img_00523.png       | Bin 0 -> 25835 bytes\n",
      " mafmars/img/img_00525.png       | Bin 0 -> 22833 bytes\n",
      " mafmars/img/img_00530.png       | Bin 0 -> 50947 bytes\n",
      " mafmars/img/img_00531.png       | Bin 0 -> 48884 bytes\n",
      " mafmars/img/img_00532.png       | Bin 0 -> 62063 bytes\n",
      " mafmars/img/img_00533.png       | Bin 0 -> 92488 bytes\n",
      " mafmars/img/img_00534.png       | Bin 0 -> 33949 bytes\n",
      " mafmars/img/img_00535.png       | Bin 0 -> 3966 bytes\n",
      " mafmars/img/img_00536.png       | Bin 0 -> 3600 bytes\n",
      " mafmars/img/img_00537.png       | Bin 0 -> 42576 bytes\n",
      " mafmars/img/img_00538.png       | Bin 0 -> 42428 bytes\n",
      " mafmars/img/img_00539.png       | Bin 0 -> 42852 bytes\n",
      " mafmars/img/img_00540.png       | Bin 0 -> 36165 bytes\n",
      " mafmars/img/img_00541.png       | Bin 0 -> 19083 bytes\n",
      " mafmars/img/img_00542.png       | Bin 0 -> 60072 bytes\n",
      " mafmars/img/img_00543.png       | Bin 0 -> 65697 bytes\n",
      " mafmars/img/img_00544.png       | Bin 0 -> 46649 bytes\n",
      " mafmars/img/img_00545.png       | Bin 0 -> 51069 bytes\n",
      " mafmars/img/img_00546.png       | Bin 0 -> 135429 bytes\n",
      " mafmars/img/img_00547.png       | Bin 0 -> 52559 bytes\n",
      " mafmars/img/img_00548.png       | Bin 0 -> 32936 bytes\n",
      " mafmars/mafmar-a.ipynb          |   2 +-\n",
      " mafmars/mafmar-a.solution.ipynb | 554 +++++++++++++++++++++++++++++++++\n",
      " mafmars/mafmar-b.ipynb          | 663 ++++++++++++++++++++++++++++++++++++++++\n",
      " 24 files changed, 1218 insertions(+), 1 deletion(-)\n",
      " create mode 100644 mafmars/img/img_00523.png\n",
      " create mode 100644 mafmars/img/img_00525.png\n",
      " create mode 100644 mafmars/img/img_00530.png\n",
      " create mode 100644 mafmars/img/img_00531.png\n",
      " create mode 100644 mafmars/img/img_00532.png\n",
      " create mode 100644 mafmars/img/img_00533.png\n",
      " create mode 100644 mafmars/img/img_00534.png\n",
      " create mode 100644 mafmars/img/img_00535.png\n",
      " create mode 100644 mafmars/img/img_00536.png\n",
      " create mode 100644 mafmars/img/img_00537.png\n",
      " create mode 100644 mafmars/img/img_00538.png\n",
      " create mode 100644 mafmars/img/img_00539.png\n",
      " create mode 100644 mafmars/img/img_00540.png\n",
      " create mode 100644 mafmars/img/img_00541.png\n",
      " create mode 100644 mafmars/img/img_00542.png\n",
      " create mode 100644 mafmars/img/img_00543.png\n",
      " create mode 100644 mafmars/img/img_00544.png\n",
      " create mode 100644 mafmars/img/img_00545.png\n",
      " create mode 100644 mafmars/img/img_00546.png\n",
      " create mode 100644 mafmars/img/img_00547.png\n",
      " create mode 100644 mafmars/img/img_00548.png\n",
      " create mode 100644 mafmars/mafmar-a.solution.ipynb\n",
      " create mode 100644 mafmars/mafmar-b.ipynb\n",
      "\n",
      "\n"
     ]
    },
    {
     "name": "stderr",
     "output_type": "stream",
     "text": [
      "To https://github.com/eylon-holon/python-a\n",
      "   3d39ad9..6a541c2  denis-demidenko -> denis-demidenko\n"
     ]
    }
   ],
   "source": [
    "from eylon.core import *\n",
    "store_all_changes_to_github()\n",
    "get_next_lesson()"
   ]
  }
 ],
 "metadata": {
  "kernelspec": {
   "display_name": "Python 3",
   "language": "python",
   "name": "python3"
  },
  "language_info": {
   "codemirror_mode": {
    "name": "ipython",
    "version": 3
   },
   "file_extension": ".py",
   "mimetype": "text/x-python",
   "name": "python",
   "nbconvert_exporter": "python",
   "pygments_lexer": "ipython3",
   "version": "3.12.1"
  }
 },
 "nbformat": 4,
 "nbformat_minor": 2
}
