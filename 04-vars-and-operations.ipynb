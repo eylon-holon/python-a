{
 "cells": [
  {
   "cell_type": "markdown",
   "metadata": {},
   "source": [
    "---\n"
   ]
  },
  {
   "cell_type": "code",
   "execution_count": null,
   "metadata": {},
   "outputs": [],
   "source": [
    "n1 = input(\"Enter number one\")\n",
    "n2 = input(\"Enter number two\")\n",
    "print(n1 + n2)"
   ]
  },
  {
   "cell_type": "markdown",
   "metadata": {},
   "source": [
    "הקוד מחבר את שני המספרים שכתבנו למספר אחד"
   ]
  },
  {
   "cell_type": "markdown",
   "metadata": {},
   "source": []
  },
  {
   "cell_type": "code",
   "execution_count": null,
   "metadata": {},
   "outputs": [],
   "source": [
    "n1 = int(input(\"Enter number one\"))\n",
    "n2 = int(input(\"Enter number two\"))\n",
    "print(n1 + n2)"
   ]
  },
  {
   "cell_type": "markdown",
   "metadata": {},
   "source": [
    "הקוד מדפיס את סכומם של המספרים שכתבנו"
   ]
  },
  {
   "cell_type": "code",
   "execution_count": null,
   "metadata": {},
   "outputs": [],
   "source": [
    "def plus(a, b):\n",
    "    return a + b\n",
    "\n",
    "x = plus(10, 20)\n",
    "print(x)\n",
    "    "
   ]
  },
  {
   "cell_type": "markdown",
   "metadata": {},
   "source": [
    "מגדיר את פונקציה פלוס ומכניס אליו את 10 ו20"
   ]
  },
  {
   "cell_type": "markdown",
   "metadata": {},
   "source": [
    "---\n",
    "מה קוד הבא אמור לעושה?"
   ]
  },
  {
   "cell_type": "code",
   "execution_count": 5,
   "metadata": {},
   "outputs": [],
   "source": [
    "def do_math(a, math, b):\n",
    "    if math == \"+\": return a + b\n",
    "    if math == \"-\": return a - b\n",
    "    if math == \"*\": return a * b\n",
    "    if math == \"/\": return a / b\n",
    "    if math == \"//\":return a //b\n",
    "    if math == \"%\":return  a % b \n",
    "    return \"I don't know what is: \" + math"
   ]
  },
  {
   "cell_type": "markdown",
   "metadata": {},
   "source": [
    "לוקח את שני המספרים שהיו ומוסיף לו סדר פעולות חשבון"
   ]
  },
  {
   "cell_type": "code",
   "execution_count": 2,
   "metadata": {},
   "outputs": [
    {
     "name": "stdout",
     "output_type": "stream",
     "text": [
      "30\n",
      "-10\n",
      "200\n",
      "0.5\n"
     ]
    }
   ],
   "source": [
    "print(do_math(10, \"+\", 20))\n",
    "print(do_math(10, \"-\", 20))\n",
    "print(do_math(10, \"*\", 20))\n",
    "print(do_math(10, \"/\", 20))"
   ]
  },
  {
   "cell_type": "markdown",
   "metadata": {},
   "source": []
  },
  {
   "cell_type": "code",
   "execution_count": 6,
   "metadata": {},
   "outputs": [
    {
     "name": "stdout",
     "output_type": "stream",
     "text": [
      "7\n",
      "1\n"
     ]
    }
   ],
   "source": [
    "print(do_math(22, \"//\", 3))\n",
    "print(do_math(22, \"%\", 3))"
   ]
  },
  {
   "cell_type": "markdown",
   "metadata": {},
   "source": []
  },
  {
   "cell_type": "code",
   "execution_count": 16,
   "metadata": {},
   "outputs": [
    {
     "name": "stdout",
     "output_type": "stream",
     "text": [
      "5\n"
     ]
    }
   ],
   "source": [
    "a = int(input(\"Enter first number\"))\n",
    "math = input(\"Enter math operator\")\n",
    "b = int(input(\"Enter second number\"))\n",
    "\n",
    "print(do_math(a, math, b))"
   ]
  },
  {
   "cell_type": "markdown",
   "metadata": {},
   "source": [
    "---\n",
    "מה קוד הבא עושה?\n",
    "<br>\n",
    "איך הוא עושה את זה?"
   ]
  },
  {
   "cell_type": "code",
   "execution_count": 17,
   "metadata": {},
   "outputs": [],
   "source": [
    "def printDigits(num):\n",
    "    while (num > 0):\n",
    "        print(num % 10)\n",
    "        num = num // 10"
   ]
  },
  {
   "cell_type": "code",
   "execution_count": 18,
   "metadata": {},
   "outputs": [
    {
     "name": "stdout",
     "output_type": "stream",
     "text": [
      "5\n",
      "4\n",
      "3\n",
      "2\n",
      "1\n"
     ]
    }
   ],
   "source": [
    "printDigits(12345)"
   ]
  },
  {
   "cell_type": "markdown",
   "metadata": {},
   "source": [
    "---\n",
    "מה קוד הבא עושה?\n",
    "<br>\n",
    "איך הוא עושה את זה?"
   ]
  },
  {
   "cell_type": "code",
   "execution_count": 4,
   "metadata": {},
   "outputs": [],
   "source": [
    "def secret(num):\n",
    "    sod = 0\n",
    "    while (num > 0):\n",
    "        sod = sod + num % 10\n",
    "        num = num // 10\n",
    "    return sod"
   ]
  },
  {
   "cell_type": "code",
   "execution_count": null,
   "metadata": {},
   "outputs": [],
   "source": [
    "print(secret(123456789))"
   ]
  },
  {
   "cell_type": "code",
   "execution_count": null,
   "metadata": {},
   "outputs": [],
   "source": [
    "print(secret(123456789))\n",
    "print(secret(secret(123456789)))\n",
    "print(secret(secret(secret(123456789))))"
   ]
  }
 ],
 "metadata": {
  "kernelspec": {
   "display_name": "Python 3",
   "language": "python",
   "name": "python3"
  },
  "language_info": {
   "codemirror_mode": {
    "name": "ipython",
    "version": 3
   },
   "file_extension": ".py",
   "mimetype": "text/x-python",
   "name": "python",
   "nbconvert_exporter": "python",
   "pygments_lexer": "ipython3",
   "version": "3.12.1"
  }
 },
 "nbformat": 4,
 "nbformat_minor": 2
}
