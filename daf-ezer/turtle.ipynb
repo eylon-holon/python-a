{
 "cells": [
  {
   "cell_type": "markdown",
   "id": "ed7d1120",
   "metadata": {},
   "source": [
    "### <span style=\"color:magenta\"> פקודות של צב"
   ]
  },
  {
   "cell_type": "markdown",
   "id": "4bd6a82d",
   "metadata": {},
   "source": [
    "|command                    |action         | example   |\n",
    "|---                        |---            |---        |\n",
    "|<tt>t.penup()              |               |           |\n",
    "|<tt>t.pendown()            |               |           |\n",
    "|<tt>t.shape()              |               |           |\n",
    "|<tt>t.forward(distance)    |               |           |\n",
    "|<tt>t.forward(distance)    |               |           |\n",
    "|<tt>t.goto(x,y)            |               |           |\n",
    "|<tt>t.left(angle)          |               |           |\n",
    "|<tt>t.right(angele)        |               |           |\n",
    "|<tt>t.color(color)         |               |           |\n",
    "|<tt>t.circle()             |               |           |\n",
    "|<tt>t.mainloop()                       |               |           |\n",
    "|<tt>                       |               |           |\n",
    "|<tt>                       |               |           |\n"
   ]
  },
  {
   "cell_type": "markdown",
   "id": "e4275ff6",
   "metadata": {},
   "source": [
    "---"
   ]
  },
  {
   "cell_type": "markdown",
   "id": "8e50bfe6",
   "metadata": {},
   "source": [
    "### <span style=\"color:magenta\"> תמונות נפוצות בעזרת צב"
   ]
  },
  {
   "cell_type": "markdown",
   "id": "98fa59eb",
   "metadata": {},
   "source": [
    "---"
   ]
  }
 ],
 "metadata": {
  "language_info": {
   "name": "python"
  }
 },
 "nbformat": 4,
 "nbformat_minor": 5
}
