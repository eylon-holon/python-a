{
 "cells": [
  {
   "cell_type": "code",
   "execution_count": 1,
   "metadata": {},
   "outputs": [
    {
     "name": "stderr",
     "output_type": "stream",
     "text": [
      "From https://github.com/eylon-holon/python-a\n",
      "   6ec1d21..c65485a  itay-habura        -> origin/itay-habura\n",
      "   d1cd12a..6a34f18  main               -> origin/main\n",
      "   df872be..70bd4d7  maxim-haysenuk     -> origin/maxim-haysenuk\n",
      "   17e6213..31de3aa  michael-rosenhaiem -> origin/michael-rosenhaiem\n",
      "   6d2cc2b..80c22b3  monika-dovrolevski -> origin/monika-dovrolevski\n",
      "   0b9df4a..2fbb294  shay-yuhai         -> origin/shay-yuhai\n"
     ]
    },
    {
     "name": "stdout",
     "output_type": "stream",
     "text": [
      "Already up to date.\n",
      "\n",
      "\n",
      "[lior-ovadia f9a6c9d] auto commit...\n",
      " 1 file changed, 2 insertions(+), 58 deletions(-)\n",
      "\n"
     ]
    },
    {
     "name": "stderr",
     "output_type": "stream",
     "text": [
      "To https://github.com/eylon-holon/python-a\n",
      "   e476890..f9a6c9d  lior-ovadia -> lior-ovadia\n"
     ]
    },
    {
     "name": "stdout",
     "output_type": "stream",
     "text": [
      "\n",
      "Auto-merging mafmars/mafmar-a.ipynb\n",
      "Merge made by the 'ort' strategy.\n",
      " mafmars/img/img_00523.png       | Bin 0 -> 25835 bytes\n",
      " mafmars/img/img_00525.png       | Bin 0 -> 22833 bytes\n",
      " mafmars/img/img_00530.png       | Bin 0 -> 50947 bytes\n",
      " mafmars/img/img_00531.png       | Bin 0 -> 48884 bytes\n",
      " mafmars/img/img_00532.png       | Bin 0 -> 62063 bytes\n",
      " mafmars/img/img_00533.png       | Bin 0 -> 92488 bytes\n",
      " mafmars/img/img_00534.png       | Bin 0 -> 33949 bytes\n",
      " mafmars/img/img_00535.png       | Bin 0 -> 3966 bytes\n",
      " mafmars/img/img_00536.png       | Bin 0 -> 3600 bytes\n",
      " mafmars/img/img_00537.png       | Bin 0 -> 42576 bytes\n",
      " mafmars/img/img_00538.png       | Bin 0 -> 42428 bytes\n",
      " mafmars/img/img_00539.png       | Bin 0 -> 42852 bytes\n",
      " mafmars/img/img_00540.png       | Bin 0 -> 36165 bytes\n",
      " mafmars/img/img_00541.png       | Bin 0 -> 19083 bytes\n",
      " mafmars/img/img_00542.png       | Bin 0 -> 60072 bytes\n",
      " mafmars/img/img_00543.png       | Bin 0 -> 65697 bytes\n",
      " mafmars/img/img_00544.png       | Bin 0 -> 46649 bytes\n",
      " mafmars/img/img_00545.png       | Bin 0 -> 51069 bytes\n",
      " mafmars/img/img_00546.png       | Bin 0 -> 135429 bytes\n",
      " mafmars/img/img_00547.png       | Bin 0 -> 52559 bytes\n",
      " mafmars/img/img_00548.png       | Bin 0 -> 32936 bytes\n",
      " mafmars/mafmar-a.ipynb          |   2 +-\n",
      " mafmars/mafmar-a.solution.ipynb |  18 +-\n",
      " mafmars/mafmar-b.ipynb          | 663 ++++++++++++++++++++++++++++++++++++++++\n",
      " 24 files changed, 673 insertions(+), 10 deletions(-)\n",
      " create mode 100644 mafmars/img/img_00523.png\n",
      " create mode 100644 mafmars/img/img_00525.png\n",
      " create mode 100644 mafmars/img/img_00530.png\n",
      " create mode 100644 mafmars/img/img_00531.png\n",
      " create mode 100644 mafmars/img/img_00532.png\n",
      " create mode 100644 mafmars/img/img_00533.png\n",
      " create mode 100644 mafmars/img/img_00534.png\n",
      " create mode 100644 mafmars/img/img_00535.png\n",
      " create mode 100644 mafmars/img/img_00536.png\n",
      " create mode 100644 mafmars/img/img_00537.png\n",
      " create mode 100644 mafmars/img/img_00538.png\n",
      " create mode 100644 mafmars/img/img_00539.png\n",
      " create mode 100644 mafmars/img/img_00540.png\n",
      " create mode 100644 mafmars/img/img_00541.png\n",
      " create mode 100644 mafmars/img/img_00542.png\n",
      " create mode 100644 mafmars/img/img_00543.png\n",
      " create mode 100644 mafmars/img/img_00544.png\n",
      " create mode 100644 mafmars/img/img_00545.png\n",
      " create mode 100644 mafmars/img/img_00546.png\n",
      " create mode 100644 mafmars/img/img_00547.png\n",
      " create mode 100644 mafmars/img/img_00548.png\n",
      " create mode 100644 mafmars/mafmar-b.ipynb\n",
      "\n",
      "\n"
     ]
    },
    {
     "name": "stderr",
     "output_type": "stream",
     "text": [
      "To https://github.com/eylon-holon/python-a\n",
      "   f9a6c9d..1b796bc  lior-ovadia -> lior-ovadia\n"
     ]
    }
   ],
   "source": [
    "from eylon.core import *\n",
    "store_all_changes_to_github()\n",
    "get_next_lesson()"
   ]
  }
 ],
 "metadata": {
  "kernelspec": {
   "display_name": "Python 3",
   "language": "python",
   "name": "python3"
  },
  "language_info": {
   "codemirror_mode": {
    "name": "ipython",
    "version": 3
   },
   "file_extension": ".py",
   "mimetype": "text/x-python",
   "name": "python",
   "nbconvert_exporter": "python",
   "pygments_lexer": "ipython3",
   "version": "3.12.1"
  }
 },
 "nbformat": 4,
 "nbformat_minor": 2
}
