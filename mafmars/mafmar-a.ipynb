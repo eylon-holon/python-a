{
 "cells": [
  {
   "cell_type": "markdown",
   "metadata": {},
   "source": [
    "### <span style=\"color:magenta\">שאלה 1</span>"
   ]
  },
  {
   "cell_type": "markdown",
   "metadata": {},
   "source": [
    "<img src=\"img/img_00002.png\" width=\"800\">"
   ]
  },
  {
   "cell_type": "markdown",
   "metadata": {},
   "source": [
    "```py\n",
    "num1 = 2\n",
    "num2 = num1 + 5\n",
    "num1 = num1 + num2 + 3\n",
    "print(\"num1 = \", num1, \"num2 = \", num2)\n",
    "```"
   ]
  },
  {
   "cell_type": "markdown",
   "metadata": {},
   "source": [
    "num1 = 12 num2 = 7"
   ]
  },
  {
   "cell_type": "markdown",
   "metadata": {},
   "source": [
    "```py\n",
    "num = 3\n",
    "num = 10\n",
    "num = num + 3\n",
    "print(\"num = \", num)\n",
    "\n",
    "```"
   ]
  },
  {
   "cell_type": "markdown",
   "metadata": {},
   "source": [
    "num = 13"
   ]
  },
  {
   "cell_type": "markdown",
   "metadata": {},
   "source": [
    "```py\n",
    "str = \"Yes We Can!!!\"\n",
    "print(str[4])\n",
    "print(len(str))\n",
    "print(str[-3])\n",
    "print(str[::2])\n",
    "print(str[4:-3])\n",
    "print(str[:])\n",
    "```"
   ]
  },
  {
   "cell_type": "markdown",
   "metadata": {},
   "source": [
    "W\n",
    "13\n",
    "!\n",
    "YSW A!!\n",
    "WE CAN\n",
    "YAS WE CAN!!!"
   ]
  },
  {
   "cell_type": "markdown",
   "metadata": {},
   "source": [
    "### <span style=\"color:magenta\">שאלה 2</span>"
   ]
  },
  {
   "cell_type": "markdown",
   "metadata": {},
   "source": [
    "<img src=\"img/img_00001.png\" width=\"850\">"
   ]
  },
  {
   "cell_type": "markdown",
   "metadata": {},
   "source": [
    "```py\n",
    "num1 = int(input(\"Enter first number\"))\n",
    "num2 = int(input(\"Enter second number\"))\n",
    "if num1 > 5 and num2 <= 4:\n",
    "    print(\"Yes\")\n",
    "else:\n",
    "    print(\"No\")\n",
    "```"
   ]
  },
  {
   "cell_type": "markdown",
   "metadata": {},
   "source": [
    "|       |Yes    | No |\n",
    "|--     |---    |--- |\n",
    "|num1   |   6    |  5  |\n",
    "|num2   |    4   |  4  |"
   ]
  },
  {
   "cell_type": "markdown",
   "metadata": {},
   "source": [
    "```py\n",
    "num1 = int(input(\"Enter first number\"))\n",
    "num2 = int(input(\"Enter second number\"))\n",
    "if num1 > 5 or num2 <= 4:\n",
    "    print(\"Yes\")\n",
    "else:\n",
    "    print(\"No\")\n",
    "```"
   ]
  },
  {
   "cell_type": "markdown",
   "metadata": {},
   "source": [
    "|       |Yes    | No |\n",
    "|--     |---    |--- |\n",
    "|num1   |   6    |  5  |\n",
    "|num2   |    6   |   5 |"
   ]
  },
  {
   "cell_type": "markdown",
   "metadata": {},
   "source": [
    "```py\n",
    "num1 = int(input(\"Enter first number\"))\n",
    "num2 = int(input(\"Enter second number\"))\n",
    "if (num1 > 5 or num2 <= 4) and num1 == num2:\n",
    "    print(\"Yes\")\n",
    "else:\n",
    "    print(\"No\")\n",
    "```"
   ]
  },
  {
   "cell_type": "markdown",
   "metadata": {},
   "source": [
    "|       |Yes    | No |\n",
    "|--     |---    |--- |\n",
    "|num1   |    6   | 6   |\n",
    "|num2   |    6   | 5   |"
   ]
  },
  {
   "cell_type": "markdown",
   "metadata": {},
   "source": [
    "```py\n",
    "num1 = int(input(\"Enter first number\"))\n",
    "num2 = int(input(\"Enter second number\"))\n",
    "if num1 > 5 or (num2 <= 4 and num1 == num2):\n",
    "    print(\"Yes\")\n",
    "else:\n",
    "    print(\"No\")\n",
    "```"
   ]
  },
  {
   "cell_type": "markdown",
   "metadata": {},
   "source": [
    "|       |Yes    | No |\n",
    "|--     |---    |--- |\n",
    "|num1   |   6    |   4 |\n",
    "|num2   |   6    |  5  |"
   ]
  },
  {
   "cell_type": "markdown",
   "metadata": {},
   "source": [
    "### <span style=\"color:magenta\">שאלה 3</span>"
   ]
  },
  {
   "cell_type": "markdown",
   "metadata": {},
   "source": [
    "<img src=\"img/img_00002.png\" width=\"800\">"
   ]
  },
  {
   "cell_type": "markdown",
   "metadata": {},
   "source": [
    "```py\n",
    "for k in range(10):\n",
    "    if k % 2 == 0:\n",
    "        print(k + 1)\n",
    "```"
   ]
  },
  {
   "cell_type": "markdown",
   "metadata": {},
   "source": [
    "13579"
   ]
  },
  {
   "cell_type": "markdown",
   "metadata": {},
   "source": [
    "```py\n",
    "for k in range(20):\n",
    "    if k % 3 == 0 and k <= 9:\n",
    "        print(k)\n",
    "```"
   ]
  },
  {
   "cell_type": "markdown",
   "metadata": {},
   "source": [
    "0369"
   ]
  },
  {
   "cell_type": "markdown",
   "metadata": {},
   "source": [
    "```py\n",
    "for k in range(3, 10, 2):\n",
    "    print(k)\n",
    "```"
   ]
  },
  {
   "cell_type": "markdown",
   "metadata": {},
   "source": [
    "3579"
   ]
  },
  {
   "cell_type": "markdown",
   "metadata": {},
   "source": [
    "```py\n",
    "for k in range(40, 0, -10):\n",
    "    print(k)\n",
    "```"
   ]
  },
  {
   "cell_type": "markdown",
   "metadata": {},
   "source": [
    "40 \n",
    "30\n",
    "20\n",
    "10"
   ]
  },
  {
   "cell_type": "markdown",
   "metadata": {},
   "source": [
    "### <span style=\"color:magenta\">שאלה 4</span>"
   ]
  },
  {
   "cell_type": "markdown",
   "metadata": {},
   "source": [
    "<img src=\"img/img_00002.png\" width=\"800\">"
   ]
  },
  {
   "cell_type": "markdown",
   "metadata": {},
   "source": [
    "```py\n",
    "num = 123\n",
    "print(num // 100)\n",
    "print(num // 10 % 10)\n",
    "print(num % 10)\n",
    "```"
   ]
  },
  {
   "cell_type": "markdown",
   "metadata": {},
   "source": [
    "1\n",
    "2\n",
    "3"
   ]
  },
  {
   "cell_type": "markdown",
   "metadata": {},
   "source": [
    "```py\n",
    "num = 12345\n",
    "print(num // 100)\n",
    "print(num % 100)\n",
    "```"
   ]
  },
  {
   "cell_type": "markdown",
   "metadata": {},
   "source": [
    "123\n",
    "45"
   ]
  },
  {
   "cell_type": "markdown",
   "metadata": {},
   "source": [
    "```py\n",
    "num = 12345\n",
    "print(num // 100 // 10)\n",
    "print(num // 10 % 10)\n",
    "```"
   ]
  },
  {
   "cell_type": "markdown",
   "metadata": {},
   "source": [
    "12\n",
    "4"
   ]
  },
  {
   "cell_type": "markdown",
   "metadata": {},
   "source": [
    "```py\n",
    "num = 123\n",
    "while (num > 0):\n",
    "    print(num % 10)\n",
    "    num = int(num // 10)\n",
    "```"
   ]
  },
  {
   "cell_type": "markdown",
   "metadata": {},
   "source": [
    "3\n",
    "2\n",
    "1"
   ]
  },
  {
   "cell_type": "markdown",
   "metadata": {},
   "source": [
    "### <span style=\"color:magenta\">שאלה 5</span>"
   ]
  },
  {
   "cell_type": "markdown",
   "metadata": {},
   "source": [
    "<img src=\"img/img_00003.png\" width=\"900\">"
   ]
  },
  {
   "cell_type": "code",
   "execution_count": null,
   "metadata": {},
   "outputs": [],
   "source": [
    "def num_even():\n",
    "    count = 0\n",
    "    index = 0\n",
    "    num = int(input(\"Enter a number: \"))\n",
    "    while index < 10:\n",
    "        if num <= 99 and num >= 10:\n",
    "            count = count + 1\n",
    "        index = index + 1\n",
    "    print(\"count\", count)"
   ]
  },
  {
   "cell_type": "markdown",
   "metadata": {},
   "source": [
    "15\n",
    "9\n",
    "42\n",
    "56\n",
    "120\n",
    "99\n",
    "5\n",
    "67\n",
    "88\n",
    "7\n"
   ]
  },
  {
   "cell_type": "code",
   "execution_count": null,
   "metadata": {},
   "outputs": [],
   "source": [
    "def num_even():\n",
    "    count = 0\n",
    "    index = 0\n",
    "    while index < 10:\n",
    "        num = int(input(\"Enter a number: \"))\n",
    "        if num <= 99 and num >= 10:\n",
    "            print(\"count\", count)\n",
    "        index = index + 1\n"
   ]
  },
  {
   "cell_type": "markdown",
   "metadata": {},
   "source": [
    "12\n",
    "8\n",
    "45\n",
    "105\n",
    "99\n",
    "3\n",
    "56\n",
    "100\n",
    "67\n",
    "22\n"
   ]
  },
  {
   "cell_type": "code",
   "execution_count": null,
   "metadata": {},
   "outputs": [],
   "source": [
    "def num_even():\n",
    "    count = 0\n",
    "    index = 0\n",
    "    while index < 10:\n",
    "        if num <= 99 and num >= 10:\n",
    "            count = count + 1\n",
    "            num = int(input(\"Enter a number: \"))\n",
    "        index = index + 1\n",
    "    print(\"count\", count)\n"
   ]
  },
  {
   "cell_type": "markdown",
   "metadata": {},
   "source": []
  },
  {
   "cell_type": "markdown",
   "metadata": {},
   "source": [
    "### <span style=\"color:magenta\">שאלה 6</span>"
   ]
  },
  {
   "cell_type": "markdown",
   "metadata": {},
   "source": [
    "```py\n",
    "import jturtle\n",
    "t = jturtle.Turtle()\n",
    "t.shape(\"turtle\")\n",
    "size = 100\n",
    "t.pendown()\n",
    "for index in range(4):\n",
    "    for item in range(4):\n",
    "        t.forward(size)\n",
    "        t.left(90)\n",
    "    size = size - 20\n",
    "```"
   ]
  },
  {
   "cell_type": "markdown",
   "metadata": {},
   "source": [
    "ב\n",
    "<img src=\"img/img_00004.png\" width=\"800\">"
   ]
  },
  {
   "cell_type": "markdown",
   "metadata": {},
   "source": [
    "### <span style=\"color:magenta\">שאלה 7</span>"
   ]
  },
  {
   "cell_type": "markdown",
   "metadata": {},
   "source": [
    "<img src=\"img/img_00005.png\" width=\"900\">"
   ]
  },
  {
   "cell_type": "markdown",
   "metadata": {},
   "source": [
    "מה יהיה האיבר הבא בסדרה שבדוגמה"
   ]
  },
  {
   "cell_type": "markdown",
   "metadata": {},
   "source": [
    "34"
   ]
  },
  {
   "cell_type": "markdown",
   "metadata": {},
   "source": [
    "לפניך קטע קוד שמדפיס את 8 האיברים הראשונים בסדרה. השלם את הקטע.  "
   ]
  },
  {
   "cell_type": "code",
   "execution_count": 2,
   "metadata": {},
   "outputs": [
    {
     "name": "stdout",
     "output_type": "stream",
     "text": [
      "Fibonacci item 1 is  1\n",
      "Fibonacci item 2 is  1\n",
      "Fibonacci item 3 is  2\n",
      "Fibonacci item 4 is  2\n",
      "Fibonacci item 5 is  2\n",
      "Fibonacci item 6 is  2\n",
      "Fibonacci item 7 is  2\n",
      "Fibonacci item 8 is  2\n"
     ]
    }
   ],
   "source": [
    "first = 1\n",
    "second = 1\n",
    "counter = 3\n",
    "print(\"Fibonacci item 1 is \", first)\n",
    "print(\"Fibonacci item 2 is \", second)\n",
    "while counter <= 8:\n",
    "    third = first+ second\n",
    "    first = second\n",
    "    second = first\n",
    "    print(\"Fibonacci item\", counter, \"is \", third)\n",
    "    counter = counter + 1\n"
   ]
  },
  {
   "cell_type": "markdown",
   "metadata": {},
   "source": [
    "### <span style=\"color:magenta\">שאלה 8</span>"
   ]
  },
  {
   "cell_type": "markdown",
   "metadata": {},
   "source": [
    "<img src=\"img/img_00006.png\" width=\"900\">"
   ]
  },
  {
   "cell_type": "code",
   "execution_count": 6,
   "metadata": {},
   "outputs": [],
   "source": [
    "def Exs8(num_students):\n",
    "    counter = 0\n",
    "    for k in range():\n",
    "        gradeA = int(input(\"Enter grade A: \"))\n",
    "        gradeB = int(input(\"Enter grade B: \"))\n",
    "        if gradeB >= gradeA:\n",
    "            counter = 1 + 1\n",
    "    if counter > num_studants/2:\n",
    "        print(\"Success\")\n",
    "    else:\n",
    "        print(\"???\")"
   ]
  }
 ],
 "metadata": {
  "kernelspec": {
   "display_name": "Python 3",
   "language": "python",
   "name": "python3"
  },
  "language_info": {
   "codemirror_mode": {
    "name": "ipython",
    "version": 3
   },
   "file_extension": ".py",
   "mimetype": "text/x-python",
   "name": "python",
   "nbconvert_exporter": "python",
   "pygments_lexer": "ipython3",
   "version": "3.12.1"
  }
 },
 "nbformat": 4,
 "nbformat_minor": 2
}
