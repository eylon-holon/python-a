{
 "cells": [
  {
   "cell_type": "code",
   "execution_count": 1,
   "metadata": {},
   "outputs": [
    {
     "data": {
      "application/vnd.jupyter.widget-view+json": {
       "model_id": "6d4d112fd763432c9edd07ac4ed1354a",
       "version_major": 2,
       "version_minor": 0
      },
      "text/plain": [
       "Canvas(width=500)"
      ]
     },
     "metadata": {},
     "output_type": "display_data"
    }
   ],
   "source": [
    "import jturtle\n",
    "t = jturtle.Turtle()\n",
    "\n",
    "t.forward(200)\n",
    "t.left(90)\n",
    "t.forward(200)\n",
    "t.left(90)\n",
    "t.forward(200)\n",
    "t.left(90)\n",
    "t.forward(200)\n",
    "t.left(90)"
   ]
  },
  {
   "cell_type": "markdown",
   "metadata": {},
   "source": [
    "![](img/turtle-commands.png)"
   ]
  },
  {
   "cell_type": "markdown",
   "metadata": {},
   "source": [
    "---"
   ]
  },
  {
   "cell_type": "markdown",
   "metadata": {},
   "source": [
    "![](img/turtle-q02.png)"
   ]
  },
  {
   "cell_type": "code",
   "execution_count": 60,
   "metadata": {},
   "outputs": [
    {
     "data": {
      "application/vnd.jupyter.widget-view+json": {
       "model_id": "462a75c4aefe4930b274f7a340f54b5f",
       "version_major": 2,
       "version_minor": 0
      },
      "text/plain": [
       "Canvas(width=500)"
      ]
     },
     "metadata": {},
     "output_type": "display_data"
    }
   ],
   "source": [
    "import jturtle\n",
    "t = jturtle.Turtle()\n",
    "t.forward(200)\n",
    "t.right(90)\n",
    "t.forward(200)\n",
    "t.left(90)\n",
    "t.forward(400)"
   ]
  },
  {
   "cell_type": "markdown",
   "metadata": {},
   "source": [
    "![](img/turtle-q01.png)\n"
   ]
  },
  {
   "cell_type": "code",
   "execution_count": 59,
   "metadata": {},
   "outputs": [
    {
     "data": {
      "application/vnd.jupyter.widget-view+json": {
       "model_id": "33fd29872585425cbd92be01da91cbd6",
       "version_major": 2,
       "version_minor": 0
      },
      "text/plain": [
       "Canvas(width=500)"
      ]
     },
     "metadata": {},
     "output_type": "display_data"
    }
   ],
   "source": [
    "import jturtle\n",
    "t = jturtle.Turtle()\n",
    "t.goto(-200,0)\n",
    "t.left(-90)\n",
    "t.forward(200)\n",
    "t.right(-90)\n",
    "t.forward(200)\n",
    "t.right(-90)\n",
    "t.forward(200)\n",
    "t.right(-45)\n",
    "t.forward(150)\n",
    "t.left(95)\n",
    "t.forward(150)\n",
    "\n",
    "\n"
   ]
  },
  {
   "cell_type": "markdown",
   "metadata": {},
   "source": [
    "![](img/turtle-q03.png)"
   ]
  },
  {
   "cell_type": "code",
   "execution_count": null,
   "metadata": {},
   "outputs": [],
   "source": [
    "import jturtle\n",
    "t = jturtle.Turtle()\n"
   ]
  },
  {
   "cell_type": "markdown",
   "metadata": {},
   "source": [
    "![](img/turtle-q04.png)"
   ]
  },
  {
   "cell_type": "code",
   "execution_count": 58,
   "metadata": {},
   "outputs": [
    {
     "data": {
      "application/vnd.jupyter.widget-view+json": {
       "model_id": "93a71becf0f74c8398a4782fefebf16c",
       "version_major": 2,
       "version_minor": 0
      },
      "text/plain": [
       "Canvas(width=500)"
      ]
     },
     "metadata": {},
     "output_type": "display_data"
    }
   ],
   "source": [
    "import jturtle\n",
    "t = jturtle.Turtle()\n",
    "t.pensize(10)\n",
    "t.color(\"blue\")\n",
    "t.forward(150)\n",
    "t.left(130)\n",
    "t.forward(125)\n",
    "t.left(105)\n",
    "t.forward(120)\n",
    "t.penup()\n",
    "t.right(145)\n",
    "t.forward(70)\n",
    "t.right(90)\n",
    "t.pendown()\n",
    "t.forward(135)\n",
    "t.right(120)\n",
    "t.forward(135)\n",
    "t.right(120)\n",
    "t.forward(135)\n",
    "\n",
    "\n"
   ]
  },
  {
   "cell_type": "markdown",
   "metadata": {},
   "source": [
    "![](img/turtle-q05.png)"
   ]
  },
  {
   "cell_type": "code",
   "execution_count": 61,
   "metadata": {},
   "outputs": [
    {
     "data": {
      "application/vnd.jupyter.widget-view+json": {
       "model_id": "94ffe43c10b84a4cb9aa1c40b66dc767",
       "version_major": 2,
       "version_minor": 0
      },
      "text/plain": [
       "Canvas(width=500)"
      ]
     },
     "metadata": {},
     "output_type": "display_data"
    }
   ],
   "source": [
    "import jturtle\n",
    "t = jturtle.Turtle()\n",
    "t.penup()\n",
    "t.goto(0,0)\n",
    "t.pendown()\n",
    "t.circle(45)\n",
    "t.penup()\n",
    "t.forward(160)\n",
    "t.left(90)\n",
    "t.pendown()\n",
    "t.circle(45)\n",
    "t.penup()\n",
    "t.goto(-100,0)\n",
    "t.pendown()\n",
    "t.circle(45)\n",
    "t.penup()\n",
    "t.forward(-180)\n",
    "t.left(-90)\n",
    "t.pendown()\n",
    "t.circle(45)\n",
    "t.penup()\n",
    "t.forward(140)\n",
    "t.pendown()\n",
    "t.circle(45)\n",
    "t.penup()\n",
    "t.left(90)\n",
    "t.penup()\n",
    "t.forward(120)\n",
    "t.left(45)\n",
    "t.forward(40)\n",
    "t.pendown()\n",
    "t.circle(27)"
   ]
  },
  {
   "cell_type": "markdown",
   "metadata": {},
   "source": [
    "![](img/turtle-q06.png)"
   ]
  },
  {
   "cell_type": "code",
   "execution_count": 82,
   "metadata": {},
   "outputs": [
    {
     "data": {
      "application/vnd.jupyter.widget-view+json": {
       "model_id": "8a8184fdda4a4f45a6080fbc16bd9edc",
       "version_major": 2,
       "version_minor": 0
      },
      "text/plain": [
       "Canvas(width=500)"
      ]
     },
     "metadata": {},
     "output_type": "display_data"
    }
   ],
   "source": [
    "import jturtle\n",
    "t = jturtle.Turtle()\n",
    "t.goto(-200,0)\n",
    "t.left(-90)\n",
    "t.forward(200)\n",
    "t.right(-90)\n",
    "t.forward(200)\n",
    "t.right(-90)\n",
    "t.forward(200)\n",
    "t.right(-45)\n",
    "t.forward(150)\n",
    "t.left(95)\n",
    "t.forward(150)\n",
    "t.fillcolor()\n",
    "t.penup()\n",
    "t.left(80)\n",
    "t.forward(100)\n",
    "t.pendown()\n",
    "t.fillcolor(\"red\")\n",
    "t.begin_fill()\n",
    "t.right(40)\n",
    "t.forward(40)\n",
    "t.right(-90)\n",
    "t.forward(40)\n",
    "t.right(-90)\n",
    "t.forward(40)\n",
    "t.right(-90)\n",
    "t.forward(40)\n",
    "t.end_fill()\n"
   ]
  },
  {
   "cell_type": "markdown",
   "metadata": {},
   "source": [
    "![](img/turtle-q07.png)"
   ]
  },
  {
   "cell_type": "code",
   "execution_count": 54,
   "metadata": {},
   "outputs": [
    {
     "data": {
      "application/vnd.jupyter.widget-view+json": {
       "model_id": "29c8e673f3b44a819903bc71927420af",
       "version_major": 2,
       "version_minor": 0
      },
      "text/plain": [
       "Canvas(width=500)"
      ]
     },
     "metadata": {},
     "output_type": "display_data"
    }
   ],
   "source": [
    "import jturtle\n",
    "t = jturtle.Turtle()\n",
    "t.penup()\n",
    "t.goto(0,0)\n",
    "t.pendown()\n",
    "t.fillcolor(\"red\")\n",
    "t.begin_fill()\n",
    "t.circle(45)\n",
    "t.end_fill()\n",
    "t.penup()\n",
    "t.forward(160)\n",
    "t.left(90)\n",
    "t.pendown()\n",
    "t.circle(45)\n",
    "t.penup()\n",
    "t.goto(-100,0)\n",
    "t.pendown()\n",
    "t.circle(45)\n",
    "t.penup()\n",
    "t.forward(-180)\n",
    "t.left(-90)\n",
    "t.pendown()\n",
    "t.circle(45)\n",
    "t.penup()\n",
    "t.forward(140)\n",
    "t.pendown()\n",
    "t.circle(45)\n",
    "t.penup()\n",
    "t.left(90)\n",
    "t.penup()\n",
    "t.forward(120)\n",
    "t.left(45)\n",
    "t.forward(40)\n",
    "t.pendown()\n",
    "t.circle(27)\n"
   ]
  }
 ],
 "metadata": {
  "kernelspec": {
   "display_name": "Python 3",
   "language": "python",
   "name": "python3"
  },
  "language_info": {
   "codemirror_mode": {
    "name": "ipython",
    "version": 3
   },
   "file_extension": ".py",
   "mimetype": "text/x-python",
   "name": "python",
   "nbconvert_exporter": "python",
   "pygments_lexer": "ipython3",
   "version": "3.12.1"
  }
 },
 "nbformat": 4,
 "nbformat_minor": 2
}
