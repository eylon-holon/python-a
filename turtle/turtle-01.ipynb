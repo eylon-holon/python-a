{
 "cells": [
  {
   "cell_type": "code",
   "execution_count": 3,
   "metadata": {},
   "outputs": [
    {
     "data": {
      "application/vnd.jupyter.widget-view+json": {
       "model_id": "ccbc573651764b528afcd4d7c784ec4a",
       "version_major": 2,
       "version_minor": 0
      },
      "text/plain": [
       "Canvas(width=500)"
      ]
     },
     "metadata": {},
     "output_type": "display_data"
    }
   ],
   "source": [
    "import jturtle\n",
    "t = jturtle.Turtle()\n",
    "\n",
    "t.forward(200)\n",
    "t.left(90)\n",
    "t.forward(200)\n",
    "t.left(90)\n",
    "t.forward(200)\n",
    "t.left(90)\n",
    "t.forward(200)\n",
    "t.left(90)"
   ]
  },
  {
   "cell_type": "markdown",
   "metadata": {},
   "source": [
    "![](img/turtle-commands.png)"
   ]
  },
  {
   "cell_type": "markdown",
   "metadata": {},
   "source": [
    "---"
   ]
  },
  {
   "cell_type": "code",
   "execution_count": 9,
   "metadata": {},
   "outputs": [
    {
     "data": {
      "application/vnd.jupyter.widget-view+json": {
       "model_id": "93dee9d585864136bddc2e7b5cf3e960",
       "version_major": 2,
       "version_minor": 0
      },
      "text/plain": [
       "Canvas(width=500)"
      ]
     },
     "metadata": {},
     "output_type": "display_data"
    }
   ],
   "source": [
    "import jturtle\n",
    "t = jturtle.Turtle()\n",
    "t.speed(3) # 1:slowest, 3:slow, 5:normal, 10:fast, 0:fastest\n",
    "t.pensize(5)\n",
    "t.goto(-50,0)\n",
    "t.forward(100)\n",
    "t.left(120)\n",
    "t.forward(100)\n",
    "t.left(120)\n",
    "t.forward(100)\n",
    "t.left(120)"
   ]
  },
  {
   "cell_type": "code",
   "execution_count": 10,
   "metadata": {},
   "outputs": [
    {
     "data": {
      "application/vnd.jupyter.widget-view+json": {
       "model_id": "b666ffe16d4c44b2ab968bd68654a6a3",
       "version_major": 2,
       "version_minor": 0
      },
      "text/plain": [
       "Canvas(width=500)"
      ]
     },
     "metadata": {},
     "output_type": "display_data"
    }
   ],
   "source": [
    "import jturtle\n",
    "t = jturtle.Turtle()\n",
    "t.speed(5) # 1:slowest, 3:slow, 5:normal, 10:fast, 0:fastest\n",
    "t.goto(-50,0)\n",
    "t.forward(50)\n",
    "t.left(90)\n",
    "t.forward(100)\n",
    "t.left(90)\n",
    "t.forward(16.66666667)"
   ]
  },
  {
   "cell_type": "code",
   "execution_count": 1,
   "metadata": {},
   "outputs": [
    {
     "data": {
      "application/vnd.jupyter.widget-view+json": {
       "model_id": "a633cdd46443446a910de0e8c650b338",
       "version_major": 2,
       "version_minor": 0
      },
      "text/plain": [
       "Canvas(width=500)"
      ]
     },
     "metadata": {},
     "output_type": "display_data"
    }
   ],
   "source": [
    "import jturtle\n",
    "t = jturtle.Turtle()\n",
    "t.speed(5) # 1:slowest, 3:slow, 5:normal, 10:fast, 0:fastest\n",
    "t.pensize(3)\n",
    "t.penup()\n",
    "t.goto(-50,75)\n",
    "t.pendown()\n",
    "t.forward(75)\n",
    "t.right(90)\n",
    "t.forward(100)\n",
    "t.left(90)\n",
    "t.forward(75)"
   ]
  },
  {
   "cell_type": "markdown",
   "metadata": {},
   "source": [
    "![](img/turtle-q02.png)"
   ]
  },
  {
   "cell_type": "code",
   "execution_count": 1,
   "metadata": {},
   "outputs": [
    {
     "data": {
      "application/vnd.jupyter.widget-view+json": {
       "model_id": "d7a7ad54ce0348b382edb4fc1f518e8d",
       "version_major": 2,
       "version_minor": 0
      },
      "text/plain": [
       "Canvas(width=500)"
      ]
     },
     "metadata": {},
     "output_type": "display_data"
    }
   ],
   "source": [
    "\n",
    "import jturtle\n",
    "t = jturtle.Turtle()\n",
    "t.speed(5) # 1:slowest, 3:slow, 5:normal, 10:fast, 0:fastest\n",
    "t.forward(20)\n",
    "t.penup()\n",
    "t.forward(10)\n",
    "t.pendown()\n",
    "t.forward(20)\n",
    "t.left(90)\n",
    "t.forward(50)\n",
    "t.left(90)\n",
    "t.forward(50)\n",
    "t.left(90)\n",
    "t.forward(50)\n",
    "t.left(90)\n",
    "t.forward(20)\n",
    "t.left(90)\n",
    "t.forward(25)\n",
    "t.right(90)\n",
    "t.forward(10)\n",
    "t.right(90)\n",
    "t.forward(25)\n",
    "t.right(90)\n",
    "t.forward(10)\n",
    "t.penup()\n",
    "t.goto(0,50)\n",
    "t.right(90)\n",
    "t.pendown()\n",
    "t.color(\"red\")\n",
    "t.right(45)\n",
    "t.forward(37)\n",
    "t.right(90)\n",
    "t.forward(37)\n",
    "t.penup()\n",
    "t.goto(5,45)\n",
    "t.pendown()\n",
    "t.right(45)\n",
    "t.color(\"cyan\")\n",
    "t.forward(10)\n",
    "t.left(90)\n",
    "t.forward(10)\n",
    "t.left(90)\n",
    "t.forward(10)\n",
    "t.left(90)\n",
    "t.forward(10)\n",
    "t.penup()\n",
    "t.goto(35,45)\n",
    "t.pendown()\n",
    "t.left(90)\n",
    "t.forward(10)\n",
    "t.left(90)\n",
    "t.forward(10)\n",
    "t.left(90)\n",
    "t.forward(10)\n",
    "t.left(90)\n",
    "t.forward(10)\n",
    "t.left(90)\n",
    "t.penup()\n",
    "t.goto(-35,0)\n",
    "t.pendown()\n",
    "t.color(\"black\")\n",
    "t.circle(5)\n",
    "t.penup()\n",
    "t.goto(-57,0)\n",
    "t.pendown()\n",
    "t.color(\"black\")\n",
    "t.circle(5)\n",
    "t.penup()\n",
    "t.goto(-57,7)\n",
    "t.pendown()\n",
    "t.left(90)\n",
    "t.forward(35)\n",
    "t.left(90)\n",
    "t.forward(20)\n",
    "t.left(90)\n",
    "t.forward(25)\n",
    "t.left(90)\n",
    "t.forward(10)\n",
    "t.right(90)\n",
    "t.forward(10)\n",
    "t.left(90)\n",
    "t.forward(10)\n",
    "t.left(90)"
   ]
  },
  {
   "cell_type": "markdown",
   "metadata": {},
   "source": [
    "![](img/turtle-q01.png)"
   ]
  },
  {
   "cell_type": "code",
   "execution_count": 2,
   "metadata": {},
   "outputs": [
    {
     "data": {
      "application/vnd.jupyter.widget-view+json": {
       "model_id": "74fe32e2e09d4e9abe1cb815cceb1e20",
       "version_major": 2,
       "version_minor": 0
      },
      "text/plain": [
       "Canvas(width=500)"
      ]
     },
     "metadata": {},
     "output_type": "display_data"
    }
   ],
   "source": [
    "import jturtle\n",
    "t = jturtle.Turtle()\n",
    "t.speed(5) # 1:slowest, 3:slow, 5:normal, 10:fast, 0:fastest\n",
    "t.pensize(3)\n",
    "t.penup()\n",
    "t.goto(-150,50)   \n",
    "t.pendown()\n",
    "t.forward(300)\n",
    "t.penup()\n",
    "t.goto(-150,-50)   \n",
    "t.pendown()\n",
    "t.forward(300)\n",
    "t.penup()\n",
    "t.left(90)\n",
    "t.goto(-50,-150)\n",
    "t.pendown()\n",
    "t.forward(300)\n",
    "t.penup()\n",
    "t.goto(50,-150)\n",
    "t.pendown()\n",
    "t.forward(300)\n",
    "\n"
   ]
  },
  {
   "cell_type": "markdown",
   "metadata": {},
   "source": [
    "![](img/turtle-q03.png)"
   ]
  },
  {
   "cell_type": "code",
   "execution_count": 3,
   "metadata": {},
   "outputs": [
    {
     "data": {
      "application/vnd.jupyter.widget-view+json": {
       "model_id": "05349c1a66de4890b2372a7d26dc0068",
       "version_major": 2,
       "version_minor": 0
      },
      "text/plain": [
       "Canvas(width=500)"
      ]
     },
     "metadata": {},
     "output_type": "display_data"
    }
   ],
   "source": [
    "import jturtle\n",
    "t = jturtle.Turtle()\n",
    "t.speed(3) # 1:slowest, 3:slow, 5:normal, 10:fast, 0:fastest\n",
    "t.color(\"cyan\")\n",
    "t.penup()\n",
    "t.pensize(5)\n",
    "t.goto(-50,0)\n",
    "t.pendown()\n",
    "t.forward(100)\n",
    "t.left(120)\n",
    "t.forward(100)\n",
    "t.left(120)\n",
    "t.forward(100)\n",
    "t.left(120)\n",
    "t.penup()\n",
    "t.goto(-50,65)\n",
    "t.pendown()\n",
    "t.forward(100)\n",
    "t.right(120)\n",
    "t.forward(100)\n",
    "t.right(120)\n",
    "t.forward(100)\n",
    "t.left(120)\n"
   ]
  },
  {
   "cell_type": "markdown",
   "metadata": {},
   "source": [
    "![](img/turtle-q04.png)"
   ]
  },
  {
   "cell_type": "code",
   "execution_count": 4,
   "metadata": {},
   "outputs": [
    {
     "data": {
      "application/vnd.jupyter.widget-view+json": {
       "model_id": "bd87dd3ff1744992b91713e0f1f9bad7",
       "version_major": 2,
       "version_minor": 0
      },
      "text/plain": [
       "Canvas(width=500)"
      ]
     },
     "metadata": {},
     "output_type": "display_data"
    }
   ],
   "source": [
    "import jturtle\n",
    "t = jturtle.Turtle()\n",
    "t.speed(3) # 1:slowest, 3:slow, 5:normal, 10:fast, 0:fastest\n",
    "t.circle(30)\n",
    "t.penup()\n",
    "t.goto(0,-37)\n",
    "t.pendown()\n",
    "t.left(-90)\n",
    "t.circle(50)\n",
    "t.left(180)\n",
    "t.circle(50)\n",
    "t.penup()\n",
    "t.goto(80,10)\n",
    "t.pendown()\n",
    "t.left(-90)\n",
    "t.circle(50)\n",
    "t.penup()\n",
    "t.goto(-80,10)\n",
    "t.pendown()\n",
    "t.circle(50)\n",
    "t.penup()\n",
    "t.goto(0,70)\n",
    "t.pendown()\n",
    "t.circle(50)\n"
   ]
  },
  {
   "cell_type": "markdown",
   "metadata": {},
   "source": [
    "![](img/turtle-q05.png)"
   ]
  },
  {
   "cell_type": "code",
   "execution_count": 5,
   "metadata": {},
   "outputs": [
    {
     "data": {
      "application/vnd.jupyter.widget-view+json": {
       "model_id": "605037c4c45343acbab26cf6ec41e9f7",
       "version_major": 2,
       "version_minor": 0
      },
      "text/plain": [
       "Canvas(width=500)"
      ]
     },
     "metadata": {},
     "output_type": "display_data"
    }
   ],
   "source": [
    "\n",
    "import jturtle\n",
    "t = jturtle.Turtle()\n",
    "t.speed(5) # 1:slowest, 3:slow, 5:normal, 10:fast, 0:fastest\n",
    "t.color(\"blue\")\n",
    "t.begin_fill()\n",
    "t.forward(20)\n",
    "t.end_fill()\n",
    "t.penup()\n",
    "t.forward(10)\n",
    "t.pendown()\n",
    "t.begin_fill()\n",
    "t.forward(20)\n",
    "t.left(90)\n",
    "t.forward(50)\n",
    "t.left(90)\n",
    "t.forward(50)\n",
    "t.left(90)\n",
    "t.forward(50)\n",
    "t.left(90)\n",
    "t.forward(20)\n",
    "t.color(\"black\")\n",
    "t.left(90)\n",
    "t.forward(25)\n",
    "t.right(90)\n",
    "t.forward(10)\n",
    "t.right(90)\n",
    "t.forward(25)\n",
    "t.right(90)\n",
    "t.forward(10)\n",
    "t.color(\"blue\")\n",
    "t.end_fill()\n",
    "t.penup()\n",
    "t.goto(0,50)\n",
    "t.right(90)\n",
    "t.pendown()\n",
    "t.color(\"red\")\n",
    "t.begin_fill()\n",
    "t.right(45)\n",
    "t.forward(37)\n",
    "t.right(90)\n",
    "t.forward(37)\n",
    "t.end_fill()\n",
    "t.penup()\n",
    "t.goto(5,45)\n",
    "t.pendown()\n",
    "t.right(45)\n",
    "t.color(\"yellow\")\n",
    "t.begin_fill()\n",
    "t.forward(10)\n",
    "t.left(90)\n",
    "t.forward(10)\n",
    "t.left(90)\n",
    "t.forward(10)\n",
    "t.left(90)\n",
    "t.forward(10)\n",
    "t.end_fill()\n",
    "t.penup()\n",
    "t.goto(35,45)\n",
    "t.pendown()\n",
    "t.begin_fill()\n",
    "t.left(90)\n",
    "t.forward(10)\n",
    "t.left(90)\n",
    "t.forward(10)\n",
    "t.left(90)\n",
    "t.forward(10)\n",
    "t.left(90)\n",
    "t.forward(10)\n",
    "t.left(90)\n",
    "t.end_fill()\n",
    "t.penup()\n",
    "t.goto(-35,0)\n",
    "t.pendown()\n",
    "t.color(\"black\")\n",
    "t.circle(5)\n",
    "t.penup()\n",
    "t.goto(-57,0)\n",
    "t.pendown()\n",
    "t.color(\"black\")\n",
    "t.circle(5)\n",
    "t.penup()\n",
    "t.goto(-57,7)\n",
    "t.pendown()\n",
    "t.left(90)\n",
    "t.forward(35)\n",
    "t.left(90)\n",
    "t.forward(20)\n",
    "t.left(90)\n",
    "t.forward(25)\n",
    "t.left(90)\n",
    "t.forward(10)\n",
    "t.right(90)\n",
    "t.forward(10)\n",
    "t.left(90)\n",
    "t.forward(10)\n",
    "t.left(90)\n"
   ]
  },
  {
   "cell_type": "markdown",
   "metadata": {},
   "source": [
    "![](img/turtle-q06.png)"
   ]
  },
  {
   "cell_type": "code",
   "execution_count": 6,
   "metadata": {},
   "outputs": [
    {
     "data": {
      "application/vnd.jupyter.widget-view+json": {
       "model_id": "60e9a9dd03f443c284c417ad8f788dac",
       "version_major": 2,
       "version_minor": 0
      },
      "text/plain": [
       "Canvas(width=500)"
      ]
     },
     "metadata": {},
     "output_type": "display_data"
    }
   ],
   "source": [
    "import jturtle\n",
    "t = jturtle.Turtle()\n",
    "t.speed(3) # 1:slowest, 3:slow, 5:normal, 10:fast, 0:fastest\n",
    "t.color(\"red\")\n",
    "t.begin_fill()\n",
    "t.circle(30)\n",
    "t.end_fill()\n",
    "t.penup()\n",
    "t.goto(0,-37)\n",
    "t.pendown()\n",
    "t.color(\"purple\")\n",
    "t.begin_fill()\n",
    "t.left(-90)\n",
    "t.circle(50)\n",
    "t.end_fill()\n",
    "t.color(\"green\")\n",
    "t.begin_fill()\n",
    "t.left(180)\n",
    "t.circle(50)\n",
    "t.end_fill()\n",
    "t.color(\"yellow\")\n",
    "t.penup()\n",
    "t.goto(80,10)\n",
    "t.pendown()\n",
    "t.begin_fill()\n",
    "t.left(-90)\n",
    "t.circle(50)\n",
    "t.end_fill()\n",
    "t.color(\"brown\")\n",
    "t.penup()\n",
    "t.goto(-80,10)\n",
    "t.pendown()\n",
    "t.begin_fill()\n",
    "t.circle(50)\n",
    "t.end_fill()\n",
    "t.color(\"blue\")\n",
    "t.penup()\n",
    "t.goto(0,70)\n",
    "t.pendown()\n",
    "t.begin_fill()\n",
    "t.circle(50)\n",
    "t.end_fill()\n"
   ]
  },
  {
   "cell_type": "markdown",
   "metadata": {},
   "source": [
    "![](img/turtle-q07.png)"
   ]
  },
  {
   "cell_type": "code",
   "execution_count": 12,
   "metadata": {},
   "outputs": [
    {
     "data": {
      "application/vnd.jupyter.widget-view+json": {
       "model_id": "5e73c9c4c9a14bf0bf01dfca8cec99a4",
       "version_major": 2,
       "version_minor": 0
      },
      "text/plain": [
       "Canvas(width=500)"
      ]
     },
     "metadata": {},
     "output_type": "display_data"
    }
   ],
   "source": [
    "import jturtle\n",
    "t = jturtle.Turtle()\n",
    "t.speed(1)\n",
    "for index in range(180):\n",
    "    t.forward(5)\n",
    "    t.left(2)\n",
    "for index in range(180):\n",
    "    t.forward(5)\n",
    "    t.right(2)"
   ]
  }
 ],
 "metadata": {
  "kernelspec": {
   "display_name": "Python 3",
   "language": "python",
   "name": "python3"
  },
  "language_info": {
   "codemirror_mode": {
    "name": "ipython",
    "version": 3
   },
   "file_extension": ".py",
   "mimetype": "text/x-python",
   "name": "python",
   "nbconvert_exporter": "python",
   "pygments_lexer": "ipython3",
   "version": "3.12.1"
  }
 },
 "nbformat": 4,
 "nbformat_minor": 2
}
