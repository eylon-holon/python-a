{
 "cells": [
  {
   "cell_type": "code",
   "execution_count": 1,
   "metadata": {},
   "outputs": [
    {
     "name": "stdout",
     "output_type": "stream",
     "text": [
      "0\n",
      "1\n",
      "F\n",
      "E\n"
     ]
    }
   ],
   "source": [
    "str = \"0123456789ABCDEF\"\n",
    "print(str[0])\n",
    "print(str[1])\n",
    "print(str[-1])\n",
    "print(str[-2])"
   ]
  },
  {
   "cell_type": "markdown",
   "metadata": {},
   "source": [
    "מה העבדל בין גישה לאותיות מהתחלה ומהסוף (איפו האינדקס מתחיל בשני המקרים)?\n",
    "כאשר ניגשים לתווית מהתחלה האינדקסים מתחילים ב0 וממשיכים כלפי מעלה (0,1,2,...)\n",
    "וכאשר ניגשים מהסוף האינדקסים שליליים ומתחילים ב0 מ1- שהוא התו האחרון "
   ]
  },
  {
   "cell_type": "code",
   "execution_count": 2,
   "metadata": {},
   "outputs": [
    {
     "name": "stdout",
     "output_type": "stream",
     "text": [
      "16\n"
     ]
    }
   ],
   "source": [
    "str = \"0123456789ABCDEF\"\n",
    "print(len(str))"
   ]
  },
  {
   "cell_type": "markdown",
   "metadata": {},
   "source": [
    "len - מה מחזירה פונקציה?\n",
    "הפונקציה len בפייתון מחזירה את האורך כלומר מספר התווים של האובייקט ניתן לחישוב האורך כמו מחרוזת רשימות מילונים ועוד\n"
   ]
  },
  {
   "cell_type": "code",
   "execution_count": 3,
   "metadata": {},
   "outputs": [
    {
     "name": "stdout",
     "output_type": "stream",
     "text": [
      "F\n",
      "F\n"
     ]
    }
   ],
   "source": [
    "str = \"0123456789ABCDEF\"\n",
    "print(str[len(str)-1])\n",
    "print(str[-1])"
   ]
  },
  {
   "cell_type": "markdown",
   "metadata": {},
   "source": [
    "למה זה מדפיס אותה אות?"
   ]
  },
  {
   "cell_type": "code",
   "execution_count": 5,
   "metadata": {},
   "outputs": [
    {
     "name": "stdout",
     "output_type": "stream",
     "text": [
      "Hello w!\n"
     ]
    }
   ],
   "source": [
    "name = input(\"Enter your name: \")\n",
    "print(\"Hello \" + name + \"!\")"
   ]
  },
  {
   "cell_type": "markdown",
   "metadata": {},
   "source": [
    "מה פעולה + עושה עם המחרוזות?\n",
    "בפייתון כאשר משתמשים באופרטור +עם מחרוזת הוא מחבר (משרשר ) אותן"
   ]
  },
  {
   "cell_type": "code",
   "execution_count": null,
   "metadata": {},
   "outputs": [],
   "source": [
    "name = input(\"Enter your name: \")\n",
    "print(\"Hello \"*2 + name*2)"
   ]
  },
  {
   "cell_type": "markdown",
   "metadata": {},
   "source": [
    "מה פעולה * עושה עם המחרוזות?\n",
    "כאשר מכפילים מחרוזת במספר היא משוכפלת בהתאם למספר "
   ]
  },
  {
   "cell_type": "code",
   "execution_count": null,
   "metadata": {},
   "outputs": [],
   "source": [
    "str = \"0123456789ABCDEF\"\n",
    "print(str[0:len(str):1])\n",
    "print(str[0::1])\n",
    "print(str[0::])\n",
    "print(str[::])\n"
   ]
  },
  {
   "cell_type": "markdown",
   "metadata": {},
   "source": [
    "איך זה שכל השורות מדפיסות אותו דבר?<br>\n",
    "מה המשמעות של ערכים דפולטיים (default)?\n",
    "החלק str הוא שימוש בפרוסות מחרוזת עם התחביר כאן כל שלושת הפרמטרים ריקים ולכן הם משתמשים בערכים של ברירת מחדל \n",
    "ברירת מחדל היא תחילת החיתוך ההתחלה "
   ]
  },
  {
   "cell_type": "code",
   "execution_count": 6,
   "metadata": {},
   "outputs": [
    {
     "name": "stdout",
     "output_type": "stream",
     "text": [
      "0123456789ABCDEF\n"
     ]
    }
   ],
   "source": [
    "str = \"0123456789ABCDEF\"\n",
    "print(str[::])"
   ]
  },
  {
   "cell_type": "markdown",
   "metadata": {},
   "source": [
    "מהם הערכים הדפולטיים במקרה הזה?\n",
    "הערכים המודפסים במקרה הזה הם תוצאה של חיתוך (slicing) בפיתון"
   ]
  },
  {
   "cell_type": "code",
   "execution_count": 7,
   "metadata": {},
   "outputs": [
    {
     "name": "stdout",
     "output_type": "stream",
     "text": [
      "0123456789ABCDEF\n",
      "123456789ABCDEF\n",
      "56789ABCDEF\n"
     ]
    }
   ],
   "source": [
    "str = \"0123456789ABCDEF\"\n",
    "print(str[0::])\n",
    "print(str[1::])\n",
    "print(str[5::])"
   ]
  },
  {
   "cell_type": "markdown",
   "metadata": {},
   "source": [
    "מה המשמעות של מספר הראשון בתווך?\n",
    "המספר הראשון בקוד מייצג את נקודת ההתחלה של החיתוך כלומר מאיזה אינדקס במחרוזת נתחיל לקחת תווים"
   ]
  },
  {
   "cell_type": "code",
   "execution_count": null,
   "metadata": {},
   "outputs": [],
   "source": [
    "str = \"0123456789ABCDEF\"\n",
    "print(str[:1:])\n",
    "print(str[:2:])\n",
    "print(str[:5:])"
   ]
  },
  {
   "cell_type": "markdown",
   "metadata": {},
   "source": [
    "מה המשמעות של מספר השני בתווך?\n",
    "המספר השני בקוד מייצג את גודל הצעד (כלומר כמה תווים לקחת מהמחרוזת)"
   ]
  },
  {
   "cell_type": "code",
   "execution_count": null,
   "metadata": {},
   "outputs": [],
   "source": [
    "str = \"0123456789ABCDEF\"\n",
    "print(str[::1])\n",
    "print(str[::2])\n",
    "print(str[::3])"
   ]
  },
  {
   "cell_type": "markdown",
   "metadata": {},
   "source": [
    "מה המשמעות של מספר השלישי בתווך?\n",
    "המספר השלישי קובע את כיוון וגודל הקפיצות במחרוזת"
   ]
  },
  {
   "cell_type": "code",
   "execution_count": null,
   "metadata": {},
   "outputs": [],
   "source": [
    "str = \"0123456789ABCDEF\"\n",
    "print(str[::-1])\n",
    "print(str[len(str)::-1])"
   ]
  },
  {
   "cell_type": "markdown",
   "metadata": {},
   "source": [
    "מה הערכים הדפולטיים עכשיו?<br>\n",
    "מה לדעתך גורם להבדל?\n",
    "הערכים הדפולטיים אם נריץ את הקוד ונלחץ אנטר בלי להכניס קלט יהיה true \n",
    "מה שגורם להבדל זה אם המשתמש מזין טקסט אז הפלט ישתנה בהתאם לקלט שלו"
   ]
  },
  {
   "cell_type": "code",
   "execution_count": null,
   "metadata": {},
   "outputs": [],
   "source": [
    "word = input(\"Enter word: \")\n",
    "print(word)\n",
    "print(word[::-1])\n",
    "print(word == word[::-1])"
   ]
  },
  {
   "cell_type": "markdown",
   "metadata": {},
   "source": [
    "true - מתי שורה שלישית מדפיסה?<br>\n",
    "מה זה אומר על המילה? \n",
    "זה אומר true שאם המילה היא פלינדום (נקראת אותו הדבר מהסוף להתחלה )\n",
    "זה אומר היפוך המחרוזת ומחזיר אותה בסדר הפוך"
   ]
  },
  {
   "cell_type": "code",
   "execution_count": null,
   "metadata": {},
   "outputs": [],
   "source": [
    "str = \"0123456789ABCDEF\"\n",
    "print(str[])\n",
    "print(str[])\n",
    "print(str[])"
   ]
  },
  {
   "cell_type": "markdown",
   "metadata": {},
   "source": [
    "תשלימו את הקוד כך שיודפס<br>\n",
    "02468ACE<br>\n",
    "13579BDF<br>\n",
    "56789"
   ]
  },
  {
   "cell_type": "code",
   "execution_count": 20,
   "metadata": {},
   "outputs": [
    {
     "name": "stdout",
     "output_type": "stream",
     "text": [
      "02468ACE\n",
      "13579BDF\n",
      "56789\n"
     ]
    }
   ],
   "source": [
    "str = \"0123456789ABCDEF\"\n",
    "print(str[::2])\n",
    "print(str[1::2])\n",
    "print(str[5:10])"
   ]
  },
  {
   "cell_type": "markdown",
   "metadata": {},
   "source": [
    "in - מה האופרטור מחזיר?\n",
    "האופרטור in מחזיר בפיתון בודק אם תת מחרוזת מסוימת או איבר אחר נמצא בתוך מחרוזת רשימה טווח מילון או מבנים איטרטיביים אחרים"
   ]
  },
  {
   "cell_type": "code",
   "execution_count": 21,
   "metadata": {},
   "outputs": [
    {
     "name": "stdout",
     "output_type": "stream",
     "text": [
      "1\n",
      "2\n",
      "4\n",
      "0\n"
     ]
    }
   ],
   "source": [
    "print(\"122333444455555\".count(\"1\"))\n",
    "print(\"122333444455555\".count(\"2\"))\n",
    "print(\"122333444455555\".count(\"4\"))\n",
    "print(\"122333444455555\".count(\"6\"))"
   ]
  },
  {
   "cell_type": "markdown",
   "metadata": {},
   "source": [
    "count - מה הפונקציה מחזירה?\n",
    " הפונקציה count בפיתון משמשת לחישוב מספר הפעמים שתת מחרוזת מסוימת מופיעה בותך מחרוזת נתונה "
   ]
  },
  {
   "cell_type": "code",
   "execution_count": null,
   "metadata": {},
   "outputs": [],
   "source": [
    "str = \"0123456789ABCDEF\"\n",
    "print(str.find(\"0\"))\n",
    "print(str.find(\"01\"))\n",
    "print(str.find(\"789\"))\n",
    "print(str.find(\"EF\"))\n",
    "print(str.find(\"FE\"))"
   ]
  },
  {
   "cell_type": "markdown",
   "metadata": {},
   "source": [
    "find - מה הפונקציה מחזירה?\n",
    "הפונקציה find מחזירה את האינדקס של ההופעה הראשונה של תת מחרוזת בתוך מחרוזת נתונה אם תת המחרוזת לא נמצאה הפונקציה מחזירה 1"
   ]
  },
  {
   "cell_type": "code",
   "execution_count": null,
   "metadata": {},
   "outputs": [],
   "source": [
    "str = \"0123456789ABCDEF\"\n",
    "print(str.startswith(\"0123\"))\n",
    "print(str.startswith(\"1234\"))"
   ]
  },
  {
   "cell_type": "markdown",
   "metadata": {},
   "source": [
    "startswith - מה הפונקציה מחזירה? \n",
    "הפונקציה startswith מחזירה נכון אם המחרוזת בתת מחרוזת נתונה אחרת היא מחזירה לא נכון "
   ]
  },
  {
   "cell_type": "code",
   "execution_count": null,
   "metadata": {},
   "outputs": [],
   "source": [
    "str = \"0123456789ABCDEF\"\n",
    "print(str.endswith())\n",
    "print(str.endswith())"
   ]
  },
  {
   "cell_type": "markdown",
   "metadata": {},
   "source": [
    "endswith - תשלימו את קוד כך שיודפס<br>\n",
    "true<br>\n",
    "false "
   ]
  },
  {
   "cell_type": "code",
   "execution_count": 2,
   "metadata": {},
   "outputs": [
    {
     "name": "stdout",
     "output_type": "stream",
     "text": [
      "Hello ofri!\n",
      "endswith\n",
      "False\n",
      "False\n"
     ]
    }
   ],
   "source": [
    "s1 = \"Hello name!\"\n",
    "name = input(\"Enter your name: \")\n",
    "s2 = s1.replace(\"name\", name)\n",
    "print(s2)\n",
    "print(\"endswith\")\n",
    "print(s2.endswith(name))\n",
    "print(s2.endswith(\"xyz\"))"
   ]
  },
  {
   "cell_type": "markdown",
   "metadata": {},
   "source": [
    "replace - מה הפונקציה מחזירה?\n",
    "הפונקציה replace מחליפה את כל המופעים של תת מחרוזת אחרת בתוך מחרוזת נתונה היא לא משנה את המחרוזת המקורית אלא מחזירה מחרוזתחדשה עם שינויים"
   ]
  },
  {
   "cell_type": "code",
   "execution_count": 3,
   "metadata": {},
   "outputs": [
    {
     "name": "stdout",
     "output_type": "stream",
     "text": [
      "True\n",
      "False\n",
      "False\n",
      "True\n"
     ]
    }
   ],
   "source": [
    "print(\"1234\".isnumeric())\n",
    "print(\"1234\".isalpha())\n",
    "print(\"abcd\".isnumeric())\n",
    "print(\"abcd\".isalpha())\n"
   ]
  },
  {
   "cell_type": "markdown",
   "metadata": {},
   "source": [
    "isnumeric(), isalpha()<br>\n",
    "מה הפונקציות מחזירות?\n",
    "isnumeric אם  כל התווים true מחזירה במחרוזתהם מספרים\n",
    "isalpha אם כל התווים true מחזירה במחרוזת הם אותיות בלבד"
   ]
  },
  {
   "cell_type": "code",
   "execution_count": null,
   "metadata": {},
   "outputs": [],
   "source": [
    "print(\"-1234\".isnumeric())\n",
    "print(\"-1234\".isalpha())"
   ]
  },
  {
   "cell_type": "markdown",
   "metadata": {},
   "source": [
    "false - למה שניהם החזירו?\n",
    "כי s1 וs2 לא זהות מבחינת רישיות האותיות (T שונה מtלמשל)"
   ]
  },
  {
   "cell_type": "code",
   "execution_count": 2,
   "metadata": {},
   "outputs": [
    {
     "name": "stdout",
     "output_type": "stream",
     "text": [
      "ABCDEF\n",
      "abcdef\n"
     ]
    }
   ],
   "source": [
    "print(\"abcdef\".upper())\n",
    "print(\"ABCDEF\".lower())"
   ]
  },
  {
   "cell_type": "markdown",
   "metadata": {},
   "source": [
    "upper(), lower()<br>\n",
    "מה הפונקציות מחזירות?\n",
    "upper מחזירה מחרוזת חדשה שבה כל האותיות הומרו לאותיות גדולות\n",
    "lower מחזירה מחרוזת חדשה שבה כל האותיות הומרו לאותיות קטנות"
   ]
  },
  {
   "cell_type": "code",
   "execution_count": 3,
   "metadata": {},
   "outputs": [
    {
     "name": "stdout",
     "output_type": "stream",
     "text": [
      "False\n",
      "False\n"
     ]
    }
   ],
   "source": [
    "s1 = \"One two THree\"\n",
    "s2 = \"one TWO three\"\n",
    "print(s1 == s2)\n",
    "print(s1 == s2)"
   ]
  }
 ],
 "metadata": {
  "kernelspec": {
   "display_name": "Python 3",
   "language": "python",
   "name": "python3"
  },
  "language_info": {
   "codemirror_mode": {
    "name": "ipython",
    "version": 3
   },
   "file_extension": ".py",
   "mimetype": "text/x-python",
   "name": "python",
   "nbconvert_exporter": "python",
   "pygments_lexer": "ipython3",
   "version": "3.12.1"
  }
 },
 "nbformat": 4,
 "nbformat_minor": 2
}
