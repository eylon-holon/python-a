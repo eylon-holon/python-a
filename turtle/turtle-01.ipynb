{
 "cells": [
  {
   "cell_type": "code",
   "execution_count": 2,
   "metadata": {},
   "outputs": [
    {
     "data": {
      "application/vnd.jupyter.widget-view+json": {
       "model_id": "8fef7eb2c68749cf84174dada6eebeb1",
       "version_major": 2,
       "version_minor": 0
      },
      "text/plain": [
       "Canvas(width=500)"
      ]
     },
     "metadata": {},
     "output_type": "display_data"
    }
   ],
   "source": [
    "import jturtle\n",
    "t = jturtle.Turtle()\n",
    "\n",
    "t.forward(200)\n",
    "t.left(90)\n",
    "t.forward(200)\n",
    "t.left(90)\n",
    "t.forward(200)\n",
    "t.left(90)\n",
    "t.forward(200)\n",
    "t.left(90)"
   ]
  },
  {
   "cell_type": "markdown",
   "metadata": {},
   "source": [
    "![](img/turtle-commands.png)"
   ]
  },
  {
   "cell_type": "markdown",
   "metadata": {},
   "source": [
    "---"
   ]
  },
  {
   "cell_type": "markdown",
   "metadata": {},
   "source": [
    "![](img/turtle-q02.png)"
   ]
  },
  {
   "cell_type": "code",
   "execution_count": 3,
   "metadata": {},
   "outputs": [
    {
     "data": {
      "application/vnd.jupyter.widget-view+json": {
       "model_id": "3c8351230960482ebccc014ff7bd217d",
       "version_major": 2,
       "version_minor": 0
      },
      "text/plain": [
       "Canvas(width=500)"
      ]
     },
     "metadata": {},
     "output_type": "display_data"
    }
   ],
   "source": [
    "import jturtle\n",
    "t = jturtle.Turtle()\n",
    "t.forward(90)\n",
    "t.left(40)\n",
    "t.forward(100)\n",
    "t.left(90)\n",
    "t.forward(100)\n",
    "t.left(50)\n",
    "t.forward(100)\n",
    "t.left(120)\n",
    "t.forward(80)\n",
    "t.right(60)\n",
    "t.forward(80)\n",
    "\n",
    "\n",
    "\n"
   ]
  },
  {
   "cell_type": "code",
   "execution_count": 10,
   "metadata": {},
   "outputs": [
    {
     "data": {
      "application/vnd.jupyter.widget-view+json": {
       "model_id": "c53d990ef68b4db1b97b6ab603837b11",
       "version_major": 2,
       "version_minor": 0
      },
      "text/plain": [
       "Canvas(width=500)"
      ]
     },
     "metadata": {},
     "output_type": "display_data"
    }
   ],
   "source": [
    "import jturtle\n",
    "t = jturtle.Turtle()\n",
    "t.forward(100)\n",
    "t.left(120)\n",
    "t.forward(100)\n",
    "t.left(120)\n",
    "t.forward(100)"
   ]
  },
  {
   "cell_type": "code",
   "execution_count": 19,
   "metadata": {},
   "outputs": [
    {
     "data": {
      "application/vnd.jupyter.widget-view+json": {
       "model_id": "69b064f270024f98a8ef87e160fe8d67",
       "version_major": 2,
       "version_minor": 0
      },
      "text/plain": [
       "Canvas(width=500)"
      ]
     },
     "metadata": {},
     "output_type": "display_data"
    }
   ],
   "source": [
    "import jturtle\n",
    "t = jturtle.Turtle()\n",
    "t.forward(60)\n",
    "t.left(90)\n",
    "t.forward(100)\n",
    "t.left(90)\n",
    "t.forward(30)\n"
   ]
  },
  {
   "cell_type": "markdown",
   "metadata": {},
   "source": [
    "![](img/turtle-q01.png)"
   ]
  },
  {
   "cell_type": "code",
   "execution_count": 12,
   "metadata": {},
   "outputs": [
    {
     "data": {
      "application/vnd.jupyter.widget-view+json": {
       "model_id": "eb3fe197b7e94b4f8308d86c3166ead9",
       "version_major": 2,
       "version_minor": 0
      },
      "text/plain": [
       "Canvas(width=500)"
      ]
     },
     "metadata": {},
     "output_type": "display_data"
    }
   ],
   "source": [
    "import jturtle\n",
    "t = jturtle.Turtle()\n",
    "t.forward(100)\n",
    "t.left(90)\n",
    "t.forward(100)\n",
    "t.left(90)\n",
    "t.forward(100)\n",
    "t.left(90)\n",
    "t.forward(100)\n",
    "t.left(90)\n",
    "t.forward(100)\n",
    "t.left(90)\n",
    "t.forward(100)\n",
    "t.right(90)\n",
    "t.forward(60)\n",
    "t.left(130)\n",
    "t.forward(150)\n",
    "t.left(100)\n",
    "t.forward(150)\n",
    "t.left(130)\n",
    "t.forward(60)\n",
    "t.penup()\n",
    "t.right(90)\n",
    "t.forward(30)\n",
    "t.pendown()\n",
    "t.fillcolor(\"red\")\n",
    "t.begin_fill()\n",
    "t.forward(20)\n",
    "t.left(90)\n",
    "t.forward(10)\n",
    "t.left(90)\n",
    "t.forward(20)\n",
    "t.left(90)\n",
    "t.forward(10)\n",
    "t.end_fill()\n",
    "\n"
   ]
  },
  {
   "cell_type": "markdown",
   "metadata": {},
   "source": [
    "![](img/turtle-q03.png)"
   ]
  },
  {
   "cell_type": "code",
   "execution_count": null,
   "metadata": {},
   "outputs": [],
   "source": [
    "import jturtle\n",
    "t = jturtle.Turtle()\n"
   ]
  },
  {
   "cell_type": "markdown",
   "metadata": {},
   "source": [
    "![](img/turtle-q04.png)"
   ]
  },
  {
   "cell_type": "code",
   "execution_count": 25,
   "metadata": {},
   "outputs": [
    {
     "data": {
      "application/vnd.jupyter.widget-view+json": {
       "model_id": "73417746b16d401da3ae7456a2962f91",
       "version_major": 2,
       "version_minor": 0
      },
      "text/plain": [
       "Canvas(width=500)"
      ]
     },
     "metadata": {},
     "output_type": "display_data"
    }
   ],
   "source": [
    "import jturtle\n",
    "t = jturtle.Turtle()\n",
    "t.pensize(5)\n",
    "t.color(\"blue\")\n",
    "t.fillcolor(\"blue\")\n",
    "t.begin_fill()\n",
    "t.forward(100)\n",
    "t.left(120)\n",
    "t.forward(100)\n",
    "t.left(120)\n",
    "t.forward(100)\n",
    "t.left(120)\n",
    "t.forward(50)\n",
    "t.left(120)\n",
    "t.forward(70)\n",
    "t.right(120)\n",
    "t.forward(70)\n",
    "t.right(120)\n",
    "t.forward(70)\n",
    "t.right(120)\n",
    "\n"
   ]
  },
  {
   "cell_type": "markdown",
   "metadata": {},
   "source": [
    "![](img/turtle-q05.png)"
   ]
  },
  {
   "cell_type": "code",
   "execution_count": null,
   "metadata": {},
   "outputs": [],
   "source": [
    "import jturtle\n",
    "t = jturtle.Turtle()\n"
   ]
  },
  {
   "cell_type": "markdown",
   "metadata": {},
   "source": [
    "![](img/turtle-q06.png)"
   ]
  },
  {
   "cell_type": "code",
   "execution_count": null,
   "metadata": {},
   "outputs": [],
   "source": [
    "import jturtle\n",
    "t = jturtle.Turtle()\n"
   ]
  },
  {
   "cell_type": "markdown",
   "metadata": {},
   "source": [
    "![](img/turtle-q07.png)"
   ]
  },
  {
   "cell_type": "code",
   "execution_count": null,
   "metadata": {},
   "outputs": [],
   "source": [
    "import jturtle\n",
    "t = jturtle.Turtle()\n"
   ]
  }
 ],
 "metadata": {
  "kernelspec": {
   "display_name": "Python 3",
   "language": "python",
   "name": "python3"
  },
  "language_info": {
   "codemirror_mode": {
    "name": "ipython",
    "version": 3
   },
   "file_extension": ".py",
   "mimetype": "text/x-python",
   "name": "python",
   "nbconvert_exporter": "python",
   "pygments_lexer": "ipython3",
   "version": "3.12.1"
  }
 },
 "nbformat": 4,
 "nbformat_minor": 2
}
