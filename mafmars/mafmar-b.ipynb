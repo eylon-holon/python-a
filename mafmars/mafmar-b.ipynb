{
 "cells": [
  {
   "cell_type": "markdown",
   "id": "f492efc1",
   "metadata": {},
   "source": [
    "## [🎦](https://youtu.be/LYZDXz5F6-k) <span style=\"color:magenta\">שאלה 1</span>"
   ]
  },
  {
   "cell_type": "markdown",
   "id": "635581eb",
   "metadata": {},
   "source": [
    "![](./img/img_00002.png)"
   ]
  },
  {
   "cell_type": "markdown",
   "id": "36af2b32",
   "metadata": {},
   "source": [
    "```py\n",
    "num1 = 3\n",
    "num2 = 10\n",
    "num1 = num2\n",
    "num2 = num1\n",
    "print(\"num1 = \", num1, \"num2 = \", num2)\n",
    "```"
   ]
  },
  {
   "cell_type": "markdown",
   "id": "475bd542",
   "metadata": {},
   "source": [
    "???\n",
    "num1 = 10, num2 = 10 "
   ]
  },
  {
   "cell_type": "markdown",
   "id": "bb20bf2a",
   "metadata": {},
   "source": [
    "```py\n",
    "number = \"12345\"\n",
    "print(\"4\" in number)\n",
    "```"
   ]
  },
  {
   "cell_type": "markdown",
   "id": "c27172cf",
   "metadata": {},
   "source": [
    "???\n",
    "True"
   ]
  },
  {
   "cell_type": "markdown",
   "id": "74cc2aa3",
   "metadata": {},
   "source": [
    "```py\n",
    "msg1 = \"He\" + \"l\"*2 +\"o\"\n",
    "msg2 = \" world\"\n",
    "print(msg1 + msg2)\n",
    "print(len(msg1))\n",
    "```"
   ]
  },
  {
   "cell_type": "markdown",
   "id": "6f483097",
   "metadata": {},
   "source": [
    "???\n",
    "Hello world\n",
    "5"
   ]
  },
  {
   "cell_type": "markdown",
   "id": "3be32c4b",
   "metadata": {},
   "source": [
    "```py\n",
    "number = 123\n",
    "print(number // 100)\n",
    "print(number % 100 % 10)\n",
    "print(number % 10)\n",
    "```"
   ]
  },
  {
   "cell_type": "markdown",
   "id": "72806402",
   "metadata": {},
   "source": [
    "???\n",
    "1\n",
    "3\n",
    "3"
   ]
  },
  {
   "cell_type": "markdown",
   "id": "45282a93",
   "metadata": {},
   "source": [
    "---"
   ]
  },
  {
   "cell_type": "markdown",
   "id": "d67f2d03",
   "metadata": {},
   "source": [
    "## [🎦](https://youtu.be/QDrDnT9m8B4) <span style=\"color:magenta\">שאלה 2</span>"
   ]
  },
  {
   "cell_type": "markdown",
   "id": "127f245c",
   "metadata": {},
   "source": [
    "![](./img/img_00525.png)"
   ]
  },
  {
   "cell_type": "markdown",
   "id": "9d5cfd2c",
   "metadata": {},
   "source": [
    "| # | Boolean expression                    | True or False  |\n",
    "|---|---                                    |---             |\n",
    "|1. | `a >= b or b == c`                    |     False      |\n",
    "|2. | `a % 5 == 0 and b // 5 > c`           |     True       |\n",
    "|3. | `a < 0 or (b == c + 15 and a >= c)`   |     True      |\n",
    "|4. | `a % 2 == c % 2 and b % 3 > a % 3`    |     False      |\n",
    "|5. | `a != b and b != c`                   |     True      |"
   ]
  },
  {
   "cell_type": "markdown",
   "id": "1f41693e",
   "metadata": {},
   "source": [
    "---"
   ]
  },
  {
   "cell_type": "markdown",
   "id": "e40e220e",
   "metadata": {},
   "source": [
    "## [🎦](https://youtu.be/SiFNpGx4t9I) <span style=\"color:magenta\">שאלה 3</span>"
   ]
  },
  {
   "cell_type": "markdown",
   "id": "d34b3a60",
   "metadata": {},
   "source": [
    "![](./img/img_00530.png)"
   ]
  },
  {
   "cell_type": "markdown",
   "id": "5f0d0c92",
   "metadata": {},
   "source": [
    "| # | Output |\n",
    "|---|---     |\n",
    "| 1 | WOW WOW WOW|\n",
    "| 2 | 1 9 25|\n",
    "| 3 | 9 6 3|\n",
    "| 4 | 2 4 3 3 4 2|"
   ]
  },
  {
   "cell_type": "markdown",
   "id": "dcaf47fd",
   "metadata": {},
   "source": [
    "---"
   ]
  },
  {
   "cell_type": "markdown",
   "id": "f84b1971",
   "metadata": {},
   "source": [
    "## [🎦](https://youtu.be/CHnvyedlNZA) <span style=\"color:magenta\">שאלה 4</span>"
   ]
  },
  {
   "cell_type": "markdown",
   "id": "331ff14a",
   "metadata": {},
   "source": [
    "![](./img/img_00531.png)"
   ]
  },
  {
   "cell_type": "markdown",
   "id": "9505f60e",
   "metadata": {},
   "source": [
    "![](./img/img_00532.png)"
   ]
  },
  {
   "cell_type": "markdown",
   "id": "e62bf121",
   "metadata": {},
   "source": [
    "| Bet | Alef |\n",
    "|---|---     |\n",
    "| 1 |  c  |\n",
    "| 2 |  a  |\n",
    "| 3 |  b  |\n",
    "| 4 |  d  |"
   ]
  },
  {
   "cell_type": "markdown",
   "id": "76cb1fe6",
   "metadata": {},
   "source": [
    "---"
   ]
  },
  {
   "cell_type": "markdown",
   "id": "28a0ee9c",
   "metadata": {},
   "source": [
    "## ![🎦](https://youtu.be/xTMHvSmp0M0) <span style=\"color:magenta\">שאלה 5</span>"
   ]
  },
  {
   "cell_type": "markdown",
   "id": "8b9a0d64",
   "metadata": {},
   "source": [
    "![](./img/img_00533.png)"
   ]
  },
  {
   "cell_type": "markdown",
   "id": "13487430",
   "metadata": {},
   "source": [
    "![](./img/img_00534.png)"
   ]
  },
  {
   "cell_type": "markdown",
   "id": "9dd66cf9",
   "metadata": {},
   "source": [
    "![](./img/img_00535.png)"
   ]
  },
  {
   "cell_type": "markdown",
   "id": "52c46fdb",
   "metadata": {},
   "source": [
    "???\n"
   ]
  },
  {
   "cell_type": "markdown",
   "id": "139890d9",
   "metadata": {},
   "source": [
    "![](./img/img_00536.png)"
   ]
  },
  {
   "cell_type": "markdown",
   "id": "7a0b8e70",
   "metadata": {},
   "source": [
    "???"
   ]
  },
  {
   "cell_type": "markdown",
   "id": "17cb001e",
   "metadata": {},
   "source": [
    "---"
   ]
  },
  {
   "cell_type": "markdown",
   "id": "c1c419c9",
   "metadata": {},
   "source": [
    "![](./img/img_00537.png)"
   ]
  },
  {
   "cell_type": "markdown",
   "id": "1ea1127a",
   "metadata": {},
   "source": [
    "![](./img/img_00535.png)"
   ]
  },
  {
   "cell_type": "markdown",
   "id": "e0a0f776",
   "metadata": {},
   "source": [
    "???"
   ]
  },
  {
   "cell_type": "markdown",
   "id": "81464853",
   "metadata": {},
   "source": [
    "![](./img/img_00536.png)"
   ]
  },
  {
   "cell_type": "markdown",
   "id": "b41f2407",
   "metadata": {},
   "source": [
    "???"
   ]
  },
  {
   "cell_type": "markdown",
   "id": "3f268aca",
   "metadata": {},
   "source": [
    "---"
   ]
  },
  {
   "cell_type": "markdown",
   "id": "26d606c9",
   "metadata": {},
   "source": [
    "![](./img/img_00538.png)"
   ]
  },
  {
   "cell_type": "markdown",
   "id": "8c37ea57",
   "metadata": {},
   "source": [
    "![](./img/img_00535.png)"
   ]
  },
  {
   "cell_type": "markdown",
   "id": "1dad9ceb",
   "metadata": {},
   "source": [
    "???"
   ]
  },
  {
   "cell_type": "markdown",
   "id": "67014ce1",
   "metadata": {},
   "source": [
    "![](./img/img_00536.png)"
   ]
  },
  {
   "cell_type": "markdown",
   "id": "a30adf11",
   "metadata": {},
   "source": [
    "???"
   ]
  },
  {
   "cell_type": "markdown",
   "id": "66ffe16e",
   "metadata": {},
   "source": [
    "---"
   ]
  },
  {
   "cell_type": "markdown",
   "id": "2a0e7e71",
   "metadata": {},
   "source": [
    "![](./img/img_00539.png)"
   ]
  },
  {
   "cell_type": "markdown",
   "id": "20bce230",
   "metadata": {},
   "source": [
    "![](./img/img_00535.png)"
   ]
  },
  {
   "cell_type": "markdown",
   "id": "9631b95c",
   "metadata": {},
   "source": [
    "???"
   ]
  },
  {
   "cell_type": "markdown",
   "id": "97932d0f",
   "metadata": {},
   "source": [
    "![](./img/img_00536.png)"
   ]
  },
  {
   "cell_type": "markdown",
   "id": "9ec911fa",
   "metadata": {},
   "source": [
    "???"
   ]
  },
  {
   "cell_type": "markdown",
   "id": "6edcf055",
   "metadata": {},
   "source": [
    "---"
   ]
  },
  {
   "cell_type": "markdown",
   "id": "1ecf0cca",
   "metadata": {},
   "source": [
    "## ![🎦](https://youtu.be/T1mcwUOKT_Y) <span style=\"color:magenta\">שאלה 6</span>"
   ]
  },
  {
   "cell_type": "markdown",
   "id": "c02c432f",
   "metadata": {},
   "source": [
    "![](./img/img_00540.png)"
   ]
  },
  {
   "cell_type": "markdown",
   "id": "3a9012c4",
   "metadata": {},
   "source": [
    "![](./img/img_00541.png)"
   ]
  },
  {
   "cell_type": "markdown",
   "id": "477a2aa6",
   "metadata": {},
   "source": [
    "???\n",
    "כן\n",
    "1+2+3 = 6"
   ]
  },
  {
   "cell_type": "markdown",
   "id": "33c04a66",
   "metadata": {},
   "source": [
    "![](./img/img_00542.png)"
   ]
  },
  {
   "cell_type": "code",
   "execution_count": null,
   "id": "6baf8e23",
   "metadata": {},
   "outputs": [],
   "source": [
    "def perfect_number():\n",
    "    num = int(input(\"Please enter a number:\"))\n",
    "    sum = 0  \n",
    "    x = 1 \n",
    "    while x < num:\n",
    "        if num % x == 0: \n",
    "            sum = sum + x \n",
    "        x = x + 1\n",
    "    if sum == num:  \n",
    "        print(\"Perfect number\")\n",
    "    else:\n",
    "        print(\"Not perfect number\")\n",
    "\n",
    "perfect_number()\n"
   ]
  },
  {
   "cell_type": "markdown",
   "id": "6ebf9cc6",
   "metadata": {},
   "source": [
    "---"
   ]
  },
  {
   "cell_type": "markdown",
   "id": "046579c1",
   "metadata": {},
   "source": [
    "## ![🎦](https://youtu.be/c5woIU07kwc) <span style=\"color:magenta\">שאלה 7</span>"
   ]
  },
  {
   "cell_type": "markdown",
   "id": "c0aa2a2c",
   "metadata": {},
   "source": [
    "![](./img/img_00543.png)"
   ]
  },
  {
   "cell_type": "markdown",
   "id": "01184b9d",
   "metadata": {},
   "source": [
    "![](./img/img_00544.png)"
   ]
  },
  {
   "cell_type": "code",
   "execution_count": 6,
   "id": "c97ede8d",
   "metadata": {},
   "outputs": [
    {
     "name": "stdout",
     "output_type": "stream",
     "text": [
      "-1\n"
     ]
    }
   ],
   "source": [
    "def find_location():\n",
    "    id_number = int(input(\"Please enter ID number:\"))\n",
    "    digit = int(input(\"Please enter a digit:\"))\n",
    "    found = False\n",
    "    for index in range(0, 10):\n",
    "        if str(id_number % 10) == str(digit):\n",
    "            print(9 - index)\n",
    "            found = True\n",
    "        id_number = id_number // 10\n",
    "    if found == False:\n",
    "        print(-1)\n",
    "\n",
    "find_location()\n"
   ]
  },
  {
   "cell_type": "markdown",
   "id": "5e5701cc",
   "metadata": {},
   "source": [
    "---"
   ]
  },
  {
   "cell_type": "markdown",
   "id": "cd831c4e",
   "metadata": {},
   "source": [
    "## [🎦](https://youtu.be/5X0Kd71EOLk) <span style=\"color:magenta\">שאלה 8</span>"
   ]
  },
  {
   "cell_type": "markdown",
   "id": "62ea74e3",
   "metadata": {},
   "source": [
    "![](./img/img_00545.png)"
   ]
  },
  {
   "cell_type": "markdown",
   "id": "f36eea93",
   "metadata": {},
   "source": [
    "![](./img/img_00546.png)"
   ]
  },
  {
   "cell_type": "markdown",
   "id": "bd59a1af",
   "metadata": {},
   "source": [
    "| No | Answer |\n",
    "|---|---     |\n",
    "| 1 |  c  |\n",
    "| 2 |  b  |\n",
    "| 3 |  d   |\n",
    "| 4 |  a  |"
   ]
  },
  {
   "cell_type": "markdown",
   "id": "e2ed9adf",
   "metadata": {},
   "source": [
    "---"
   ]
  },
  {
   "cell_type": "markdown",
   "id": "f6dd2100",
   "metadata": {},
   "source": [
    "## [🎦](https://youtu.be/JlkjvPKdWos) <span style=\"color:magenta\">שאלה 9</span>"
   ]
  },
  {
   "cell_type": "markdown",
   "id": "09394d7d",
   "metadata": {},
   "source": [
    "![](./img/img_00547.png)"
   ]
  },
  {
   "cell_type": "code",
   "execution_count": 10,
   "id": "46cf5a84",
   "metadata": {},
   "outputs": [
    {
     "name": "stdout",
     "output_type": "stream",
     "text": [
      "123\n"
     ]
    }
   ],
   "source": [
    "def create_skip2str():\n",
    "    user_input = input(\"Please enter a string: \")\n",
    "    skip3str = \"\"\n",
    "    for index in range(0, len(user_input), 4):  \n",
    "        skip3str += user_input[index]\n",
    "    print(skip3str)\n",
    "\n",
    "create_skip2str()\n",
    "\n"
   ]
  }
 ],
 "metadata": {
  "kernelspec": {
   "display_name": "Python 3",
   "language": "python",
   "name": "python3"
  },
  "language_info": {
   "codemirror_mode": {
    "name": "ipython",
    "version": 3
   },
   "file_extension": ".py",
   "mimetype": "text/x-python",
   "name": "python",
   "nbconvert_exporter": "python",
   "pygments_lexer": "ipython3",
   "version": "3.12.1"
  }
 },
 "nbformat": 4,
 "nbformat_minor": 5
}
