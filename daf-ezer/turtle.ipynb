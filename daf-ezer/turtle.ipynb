{
 "cells": [
  {
   "cell_type": "markdown",
   "id": "ed7d1120",
   "metadata": {},
   "source": [
    "### <span style=\"color:magenta\"> פקודות של צב"
   ]
  },
  {
   "cell_type": "markdown",
   "id": "4bd6a82d",
   "metadata": {},
   "source": [
    "|command                    |action                             | example           |\n",
    "|---                        |---                                |---                |\n",
    "|<tt>t.penup()              | על תשיר קוו בתנועות הבאות - על תצייר    |<tt>t.penup()|\n",
    "|<tt>t.pendown()            | כל תנועה הבא תשיר קןו - תצייר   |<tt>t.pendown() |\n",
    "|<tt>t.shape(name)          | שנה צורה של דמות המצירת         |<tt>t.shape(\"turtle\") |\n",
    "|<tt>t.forward(distance)    | תזוז קדימה בכיוון שאתה פונה אליו  |<tt>t.forward(100)           |\n",
    "|<tt>t.back(distance)       | תזוז נגד כיוון שאתה פונה אליו  |<tt>t.back(100)           |\n",
    "|<tt>t.goto(x, y)           | תזוז לקואורדינטות מסוימות     |<tt>t.goto(0, 0)           |\n",
    "|<tt>t.left(angle)          | תפנה עוד נגד כיוון השעון זווית נתונה |<tt>t.left(90) |\n",
    "|<tt>t.right(angele)        | תפנה עוד עם כיוון השעון זווית נתונה  |<tt>t.right(90) |\n",
    "|<tt>t.color(color)         | שנה צבע של קווים שאתה משיר            |<tt>t.color(\"red\") |\n",
    "|<tt>t.circle(radius)             | תצייר מעגל מנקודה שאתה נמצע בה ברדיוס נתון<br>לכיוון שאתה נמצא בו |<tt>t.circle(100)           |\n",
    "|<tt>t.mainloop()           | כלום. כל תוכנית צב מסתיימ בפקודה זו |<tt>t.mainloop()           |\n"
   ]
  },
  {
   "cell_type": "markdown",
   "id": "e4275ff6",
   "metadata": {},
   "source": [
    "---"
   ]
  },
  {
   "cell_type": "markdown",
   "id": "8e50bfe6",
   "metadata": {},
   "source": [
    "### <span style=\"color:magenta\"> תמונות נפוצות בעזרת צב"
   ]
  },
  {
   "cell_type": "markdown",
   "id": "98fa59eb",
   "metadata": {},
   "source": [
    "---"
   ]
  }
 ],
 "metadata": {
  "language_info": {
   "name": "python"
  }
 },
 "nbformat": 4,
 "nbformat_minor": 5
}
