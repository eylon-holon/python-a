{
 "cells": [
  {
   "cell_type": "code",
   "execution_count": 1,
   "metadata": {},
   "outputs": [
    {
     "name": "stdout",
     "output_type": "stream",
     "text": [
      "Hi itay-habura 😁! Let's start the lesson... 🙌\n"
     ]
    }
   ],
   "source": [
    "from eylon.core import *\n",
    "\n",
    "start({\n",
    "    \"min()\": [], \n",
    "    \"max()\": [], \n",
    "    \"find()\": [], \n",
    "    \"findLast()\": [], \n",
    "    \"isPalidrome()\": [], \n",
    "    \"startsWith()\": [], \n",
    "    \"endsWith()\": []\n",
    "})"
   ]
  },
  {
   "cell_type": "markdown",
   "metadata": {},
   "source": [
    "=== M I N ==="
   ]
  },
  {
   "cell_type": "code",
   "execution_count": 2,
   "metadata": {},
   "outputs": [],
   "source": [
    "# return minimal value of an array\n",
    "def min(a):\n",
    "    m = a[0]\n",
    "    for n in a:\n",
    "        if n < m:\n",
    "            m = n\n",
    "    return m"
   ]
  },
  {
   "cell_type": "code",
   "execution_count": 3,
   "metadata": {},
   "outputs": [
    {
     "name": "stdout",
     "output_type": "stream",
     "text": [
      "1\n",
      "-3\n",
      "-20\n"
     ]
    }
   ],
   "source": [
    "print(min([1, 2, 3]))\n",
    "print(min([1, 2, -3]))\n",
    "print(min([-1, -20, -3]))"
   ]
  },
  {
   "cell_type": "code",
   "execution_count": 4,
   "metadata": {},
   "outputs": [
    {
     "name": "stdout",
     "output_type": "stream",
     "text": [
      "Congrats itay-habura! Got it: '02-arrays-1d.min'. Gosha is happy :) 👍\n"
     ]
    }
   ],
   "source": [
    "submit(min)"
   ]
  },
  {
   "cell_type": "markdown",
   "metadata": {},
   "source": [
    "=== M A X ==="
   ]
  },
  {
   "cell_type": "code",
   "execution_count": 5,
   "metadata": {},
   "outputs": [],
   "source": [
    "# return maximal value of an array\n",
    "def max(a):\n",
    "    max=a[0]\n",
    "    for num in a:\n",
    "        if num>max:\n",
    "            max=num\n",
    "    return max"
   ]
  },
  {
   "cell_type": "code",
   "execution_count": 6,
   "metadata": {},
   "outputs": [
    {
     "name": "stdout",
     "output_type": "stream",
     "text": [
      "3\n",
      "10\n",
      "-1\n"
     ]
    }
   ],
   "source": [
    "print(max([1, 2, 3]))\n",
    "print(max([1, 2, -3,10]))\n",
    "print(max([-1, -20, -3]))"
   ]
  },
  {
   "cell_type": "code",
   "execution_count": 7,
   "metadata": {},
   "outputs": [
    {
     "name": "stdout",
     "output_type": "stream",
     "text": [
      "Congrats itay-habura! Got it: '02-arrays-1d.max'. Gosha is happy :) 👍\n"
     ]
    }
   ],
   "source": [
    "submit(max)"
   ]
  },
  {
   "cell_type": "markdown",
   "metadata": {},
   "source": [
    "=== F I N D ==="
   ]
  },
  {
   "cell_type": "code",
   "execution_count": 1,
   "metadata": {},
   "outputs": [],
   "source": [
    "# find first occurrence of n in array\n",
    "# if found returns element's index\n",
    "# if not found returns -1\n",
    "def find(a, num):\n",
    "    for i in range(len(a)):\n",
    "        if a[i] == num:\n",
    "            return i\n",
    "    return -1"
   ]
  },
  {
   "cell_type": "code",
   "execution_count": 9,
   "metadata": {},
   "outputs": [
    {
     "name": "stdout",
     "output_type": "stream",
     "text": [
      "1\n",
      "0\n",
      "0\n"
     ]
    }
   ],
   "source": [
    "print(find([1, 2, 3], 2));\n",
    "print(find([3, 1, 2], 3));\n",
    "print(find([2,1, 3, 4,2], 2));"
   ]
  },
  {
   "cell_type": "code",
   "execution_count": 10,
   "metadata": {},
   "outputs": [
    {
     "name": "stdout",
     "output_type": "stream",
     "text": [
      "Congrats itay-habura! Got it: '02-arrays-1d.find'. Gosha is happy :) 👍\n"
     ]
    }
   ],
   "source": [
    "submit(find)"
   ]
  },
  {
   "cell_type": "markdown",
   "metadata": {},
   "source": [
    "=== F I N D - L A S T ==="
   ]
  },
  {
   "cell_type": "code",
   "execution_count": 11,
   "metadata": {},
   "outputs": [],
   "source": [
    "# finds last occurrence of n in array\n",
    "# if found returns element's index\n",
    "# if not found returns -1\n",
    "def findlast(a, num):\n",
    "    for i in range (len(a)-1,-1,-1):\n",
    "        if a[i]==num:\n",
    "            return i\n",
    "    return -1\n",
    "        "
   ]
  },
  {
   "cell_type": "code",
   "execution_count": 12,
   "metadata": {},
   "outputs": [
    {
     "name": "stdout",
     "output_type": "stream",
     "text": [
      "1\n",
      "2\n",
      "-1\n"
     ]
    }
   ],
   "source": [
    "print(findlast([1, 2, 3], 2))\n",
    "print(findlast([1, 2, 2], 2))\n",
    "print(findlast([1, 3, 4], 2))"
   ]
  },
  {
   "cell_type": "code",
   "execution_count": 13,
   "metadata": {},
   "outputs": [
    {
     "name": "stdout",
     "output_type": "stream",
     "text": [
      "function 'findlast()' is not part of this lesson\n"
     ]
    }
   ],
   "source": [
    "submit(findlast)"
   ]
  },
  {
   "cell_type": "markdown",
   "metadata": {},
   "source": [
    "=== I S - P A L I N D R O M E ==="
   ]
  },
  {
   "cell_type": "code",
   "execution_count": 14,
   "metadata": {},
   "outputs": [],
   "source": [
    "# Function returns True if input string is palidrome\n",
    "# and False if not\n",
    "def isPalindrome(a):\n",
    "    for i in range(0,len(a),1):\n",
    "        if a[i] != a[len(a)-i-1]:\n",
    "            return False\n",
    "    return True "
   ]
  },
  {
   "cell_type": "code",
   "execution_count": 15,
   "metadata": {},
   "outputs": [
    {
     "name": "stdout",
     "output_type": "stream",
     "text": [
      "True\n",
      "True\n"
     ]
    }
   ],
   "source": [
    "# WRITE TESTS FOR PALINDROME FUNCTION\n",
    "print(isPalindrome([10,20,30,20,10]))\n",
    "print(isPalindrome([1,2,3,2,1,]))"
   ]
  },
  {
   "cell_type": "code",
   "execution_count": 17,
   "metadata": {},
   "outputs": [
    {
     "name": "stdout",
     "output_type": "stream",
     "text": [
      "function 'isPalindrome()' is not part of this lesson\n"
     ]
    }
   ],
   "source": [
    "submit(isPalindrome)"
   ]
  },
  {
   "cell_type": "markdown",
   "metadata": {},
   "source": [
    "=== S T A R T S - W I T H ==="
   ]
  },
  {
   "cell_type": "code",
   "execution_count": 18,
   "metadata": {},
   "outputs": [],
   "source": [
    "# Check if array starts with another array - prefix\n",
    "def startsWith(a, prefix):\n",
    "    for i in range(0,len(prefix),1):\n",
    "        if a[i] != prefix[i]:\n",
    "            return False\n",
    "    return True"
   ]
  },
  {
   "cell_type": "code",
   "execution_count": 19,
   "metadata": {},
   "outputs": [
    {
     "name": "stdout",
     "output_type": "stream",
     "text": [
      "True\n",
      "False\n"
     ]
    }
   ],
   "source": [
    "# WRITE TESTS FOR startsWith\n",
    "print(startsWith([22,33,44,55,76,81],[22,33,44,55]))\n",
    "print(startsWith([22,33,44,55,76,81],[2,54,65,3]))"
   ]
  },
  {
   "cell_type": "code",
   "execution_count": 20,
   "metadata": {},
   "outputs": [
    {
     "name": "stdout",
     "output_type": "stream",
     "text": [
      "Congrats itay-habura! Got it: '02-arrays-1d.startsWith'. Gosha is happy :) 👍\n"
     ]
    }
   ],
   "source": [
    "submit(startsWith)"
   ]
  },
  {
   "cell_type": "markdown",
   "metadata": {},
   "source": [
    "=== E N D S - W I T H ==="
   ]
  },
  {
   "cell_type": "code",
   "execution_count": 36,
   "metadata": {},
   "outputs": [],
   "source": [
    "# Check if array ends with another array - suffix\n",
    "def endsWith(a, suffix):\n",
    "    for i in range(0,len(a),1):\n",
    "        if a[len(a)-i-1] != suffix[len(suffix)-i-1]:\n",
    "            return False\n",
    "        return True"
   ]
  },
  {
   "cell_type": "code",
   "execution_count": 37,
   "metadata": {},
   "outputs": [
    {
     "name": "stdout",
     "output_type": "stream",
     "text": [
      "True\n",
      "False\n"
     ]
    }
   ],
   "source": [
    "# WRITE TESTS FOR endsWith\n",
    "print(endsWith([10,20,0,88,99],[0,88,99]))\n",
    "print(endsWith([10,20,0,88,99],[0,78,93]))"
   ]
  },
  {
   "cell_type": "code",
   "execution_count": 38,
   "metadata": {},
   "outputs": [
    {
     "name": "stdout",
     "output_type": "stream",
     "text": [
      "Congrats itay-habura! Got it: '02-arrays-1d.endsWith'. Gosha is happy :) 👍\n"
     ]
    }
   ],
   "source": [
    "submit(endsWith)"
   ]
  },
  {
   "cell_type": "code",
   "execution_count": 39,
   "metadata": {},
   "outputs": [
    {
     "name": "stdout",
     "output_type": "stream",
     "text": [
      "hi all\n"
     ]
    }
   ],
   "source": [
    "print(\"hi all\")\n",
    "name = input(\"enter name\")"
   ]
  },
  {
   "cell_type": "code",
   "execution_count": 40,
   "metadata": {},
   "outputs": [
    {
     "name": "stdout",
     "output_type": "stream",
     "text": [
      "itay\n"
     ]
    }
   ],
   "source": [
    "print(name)"
   ]
  },
  {
   "cell_type": "code",
   "execution_count": 41,
   "metadata": {},
   "outputs": [],
   "source": [
    "name = \"mark\""
   ]
  },
  {
   "cell_type": "code",
   "execution_count": 42,
   "metadata": {},
   "outputs": [],
   "source": [
    "def min(a,b):\n",
    "    if a<b:\n",
    "        return a\n",
    "    else:\n",
    "        return b"
   ]
  },
  {
   "cell_type": "code",
   "execution_count": 43,
   "metadata": {},
   "outputs": [
    {
     "name": "stdout",
     "output_type": "stream",
     "text": [
      "10\n"
     ]
    }
   ],
   "source": [
    "print(min(10,15))"
   ]
  },
  {
   "cell_type": "code",
   "execution_count": 44,
   "metadata": {},
   "outputs": [],
   "source": [
    "def max(a,b):\n",
    "    if a>b:\n",
    "        return a\n",
    "    else:\n",
    "        return b"
   ]
  },
  {
   "cell_type": "code",
   "execution_count": 45,
   "metadata": {},
   "outputs": [
    {
     "name": "stdout",
     "output_type": "stream",
     "text": [
      "30\n"
     ]
    }
   ],
   "source": [
    "print(max(30,20))"
   ]
  },
  {
   "cell_type": "code",
   "execution_count": 1,
   "metadata": {},
   "outputs": [],
   "source": [
    "def mininarray(a):\n",
    "    min = a[0]\n",
    "    for i in range (0,5,1):\n",
    "        if a[i] < min:\n",
    "            min= a[i]\n",
    "    return min"
   ]
  },
  {
   "cell_type": "code",
   "execution_count": 47,
   "metadata": {},
   "outputs": [
    {
     "name": "stdout",
     "output_type": "stream",
     "text": [
      "2\n"
     ]
    }
   ],
   "source": [
    "print(mininarray([10,11,5,2,20]))"
   ]
  }
 ],
 "metadata": {
  "kernelspec": {
   "display_name": "Python 3",
   "language": "python",
   "name": "python3"
  },
  "language_info": {
   "codemirror_mode": {
    "name": "ipython",
    "version": 3
   },
   "file_extension": ".py",
   "mimetype": "text/x-python",
   "name": "python",
   "nbconvert_exporter": "python",
   "pygments_lexer": "ipython3",
   "version": "3.12.1"
  }
 },
 "nbformat": 4,
 "nbformat_minor": 2
}
