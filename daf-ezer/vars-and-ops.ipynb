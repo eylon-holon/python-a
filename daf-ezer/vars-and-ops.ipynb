{
 "cells": [
  {
   "cell_type": "markdown",
   "id": "32442d39",
   "metadata": {},
   "source": [
    "## [🎦](https://youtu.be/g2puzPxoy7I) <span style=\"color:magenta\"> משתנים "
   ]
  },
  {
   "cell_type": "markdown",
   "id": "eaad9c13",
   "metadata": {},
   "source": [
    "```py\n",
    "n1 = 1\n",
    "n2 = 4\n",
    "str = \"Hello\"\n",
    "i = 1\n",
    "count = 9\n",
    "b = False\n",
    "```"
   ]
  },
  {
   "cell_type": "markdown",
   "id": "824c4b53",
   "metadata": {},
   "source": [
    "|  טבלת מעקב              | n1 | n2   | str         | tmp   | i     | count  |b        |\n",
    "|---                       |--- |---   |---         |---    |---    |---    |---        |\n",
    "|                          |1    |4    |<tt>\"Hello\" |       |1      |9      |<tt>False  |\n",
    "|<tt>n1 = n1 + 1           |2    |     |            |       |       |       |           |\n",
    "|<tt>n2 = n1 + 3           |     |5    |            |       |       |       |           |\n",
    "|<tt>tmp = n1              |     |     |            |2      |       |       |           |\n",
    "|<tt>n1 = n2               |5    |     |            |       |       |       |           |\n",
    "|<tt>n2 = tmp              |     |2    |            |       |       |       |           |\n",
    "|<tt>count += 1            |     |     |            |       |       |10     |           |\n",
    "|<tt>i -= 1                |     |     |            |       |0      |       |           |\n",
    "|<tt>n1 = n1 + n2 + 2      |9    |     |            |       |       |       |           |\n",
    "|<tt>n2 *= 2               |     |4    |            |       |       |       |           |\n",
    "|<tt>b = n1 == 9           |     |     |            |       |       |       |<tt>True   |\n",
    "|<tt>b = n1 == n2          |     |     |            |       |       |       |<tt>False  |\n",
    "|<tt>tmp = str[0]          |     |     |            |\"H\"    |       |       |           |\n",
    "|<tt>tmp = str[i+1]        |     |     |            |\"e\"    |       |       |           |\n",
    "|<tt>str = \"\"              |     |     |\"\"          |       |       |       |           |\n"
   ]
  },
  {
   "cell_type": "markdown",
   "id": "dd11f3c8",
   "metadata": {},
   "source": [
    "---"
   ]
  },
  {
   "cell_type": "markdown",
   "id": "4f1b5159",
   "metadata": {},
   "source": [
    "## [🎦](https://youtu.be/ivkqkdnm1vs) <span style=\"color:magenta\"> <tt>print(...) פקודה"
   ]
  },
  {
   "cell_type": "markdown",
   "id": "4e448e87",
   "metadata": {},
   "source": [
    "|פקודת הדפסה על המסך              |   פלט                 |\n",
    "|---                                |---                    |\n",
    "|<tt>print(10)                      |<tt>10                 |\n",
    "|<tt>print(\"Hello Python!\")         |<tt>Hello Python!      |\n",
    "|<tt>n1 = 9<br>print(n1)            |<tt>9                  |\n",
    "|<tt>n2 = 4<br>print(n1, n2)        |<tt>9 4                |\n",
    "|<tt>print(\"n1=\", n1)               |<tt>n1= 9              |\n",
    "|<tt>print(\"n1=\", n1, \"n2 =\", n2)   |<tt>n1= 9 n2 = 4       |\n",
    "|<tt>b = False<br>print(b)          |<tt>False              |\n",
    "|<tt>count = 10<br>print(n1 + n2, count) |<tt>13 10              |\n",
    "|<tt>str = \"Hello\"<br>print(str)    |<tt>Hello              |\n",
    "|<tt>print(str, \"Avi\")              |<tt>Hello Avi          |\n",
    "|<tt>print(str + \"Avi\")             |<tt>HelloAvi           |\n"
   ]
  },
  {
   "cell_type": "markdown",
   "id": "b657d3be",
   "metadata": {},
   "source": [
    "#### <span style=\"color:magenta\"> <tt>print(end=\" \") הדפסה בשורה"
   ]
  },
  {
   "cell_type": "markdown",
   "id": "0fabc66d",
   "metadata": {},
   "source": [
    "|פקודות                      | פלט          |\n",
    "|---                                    |---            |\n",
    "|<tt>print(1)<br>print(2)<br>print(3)   |<tt>1<br>2<br>3               |\n",
    "|<tt>print(1, end=\" \")<br>print(2, end=\" \")<br>print(3, end=\" \")   |<tt>1 2 3               |\n"
   ]
  },
  {
   "cell_type": "markdown",
   "id": "af884e39",
   "metadata": {},
   "source": [
    "---"
   ]
  },
  {
   "cell_type": "markdown",
   "id": "1710727f",
   "metadata": {},
   "source": [
    "## [🎦](https://youtu.be/6ShJ-DUplzc) <span style=\"color:magenta\"> <tt>input(...) פקודה"
   ]
  },
  {
   "cell_type": "markdown",
   "id": "f4c44af9",
   "metadata": {},
   "source": [
    "|פקודת קלט     |            פלט|              קלט |     n1 | str |\n",
    "|---                                    |---                      |---      |---        |---     |\n",
    "|<tt>str = input(\"Enter your name:\")     |<tt>Enter your name:    | Avi     |           |\"Avi\"   |\n",
    "|<tt>n1 = input(\"Enter a number:\")       |<tt>Enter a number:     | 123     | \"123\"     |        |\n",
    "|<tt>n1 = int(input(\"Enter a number:\"))  |<tt>Enter a number:     | 123     | 123       |        |\n",
    "|<tt>n1 = int(input(\"Enter a number:\"))  |<tt>Enter a number:     | Avi     | <tt>Error |        |\n"
   ]
  },
  {
   "cell_type": "markdown",
   "id": "3bc01abb",
   "metadata": {},
   "source": [
    "---"
   ]
  },
  {
   "cell_type": "markdown",
   "id": "f1236633",
   "metadata": {},
   "source": [
    "## [🎦](https://youtu.be/Wez-WIfgccs) <span style=\"color:magenta\"> חילוק בשלמים ושערית"
   ]
  },
  {
   "cell_type": "markdown",
   "id": "59c48bc9",
   "metadata": {},
   "source": [
    "|ביטוי                  |תוצאה  |\n",
    "|---                    |---    |\n",
    "|<tt>11 % 2             |1      |\n",
    "|<tt>10 % 2             |0      |\n",
    "|<tt>1  % 2             |1      |\n",
    "|<tt>0  % 2             |0      |\n",
    "|<tt>11 % 3             |2      |\n",
    "|<tt>12 % 3             |0      |\n",
    "|<tt>10 // 2            |5      |\n",
    "|<tt>11 // 2            |5      |\n",
    "|<tt>11 // 3            |3      |\n",
    "|<tt>1234 %  10         |4      |\n",
    "|<tt>1234 // 10         |123    |\n",
    "|<tt>1234 // 10 % 10    |3      |\n"
   ]
  },
  {
   "cell_type": "markdown",
   "id": "8c182ac3",
   "metadata": {},
   "source": [
    "|פקודה                      | num       | dgt   | b         | פלט          |\n",
    "|---                        |---        |---    |---        |---            |\n",
    "|<tt>dgt = 12345 %  10      |<tt>       |5      |           |               |\n",
    "|<tt>num = 12345 // 10      |<tt>1234   |       |           |               |\n",
    "|<tt>dgt = num % 10         |<tt>       |4      |           |               |\n",
    "|<tt>num = num // 10        |<tt>123    |       |           |               |\n",
    "|<tt>b = num % 2 == 0       |<tt>       |       |<tt>False  |               |\n",
    "|<tt>b = num % 3 == 0       |<tt>       |       |<tt>True   |               |\n",
    "|<tt>print(num % 10 == 3)   |<tt>       |       |           |<tt>True       |\n",
    "|<tt>print(12345 // 10 % 10)|<tt>       |       |           |   4              |\n"
   ]
  },
  {
   "cell_type": "markdown",
   "id": "d34b7f0f",
   "metadata": {},
   "source": [
    "---"
   ]
  },
  {
   "cell_type": "markdown",
   "id": "8ced4ba0",
   "metadata": {},
   "source": [
    "### <span style=\"color:magenta\"> מחרוזת"
   ]
  },
  {
   "cell_type": "markdown",
   "id": "9453c672",
   "metadata": {},
   "source": [
    "|<tt>str = \"0123456789ABCDEF\"</span>       | |\n",
    "|---        |--- |\n",
    "|<tt>str[0] |\"0\" |\n",
    "|<tt>str[1] |\"1\" |\n",
    "|<tt>len(str) |16 |\n",
    "|<tt>str[len(str)-1] |\"F\" |\n",
    "|<tt>str[-1] |\"F\" |\n",
    "|<tt>str[-2] |\"E\" |"
   ]
  },
  {
   "cell_type": "markdown",
   "id": "00678e3c",
   "metadata": {},
   "source": [
    "|<tt>str = \"0123456789ABCDEF\"   |                   |\n",
    "|---                            |---                |\n",
    "|<tt>str[0:16:1]                |<tt>\"0123456789ABCDEF\" |\n",
    "|<tt>str[0:len(str):1]          |<tt>\"0123456789ABCDEF\" |\n",
    "|<tt>str[::]                    |<tt>\"0123456789ABCDEF\" |\n",
    "|<tt>str[3::]                   |<tt>\"3456789ABCDEF\"    |\n",
    "|<tt>str[:10:]                  |<tt>\"0123456789\"       |\n",
    "|<tt>str[3:10:]                 |<tt>\"3456789\"       |\n",
    "|<tt>str[::2]                   |<tt>\"02468ACE\" |\n",
    "|<tt>str[1::2]                  |<tt>\"13579BDF\" |\n",
    "|<tt>str[:]                     |<tt>\"0123456789ABCDEF\" |\n",
    "|<tt>str[:10]                   |<tt>\"0123456789\"       |\n",
    "|<tt>str[3:10]                  |<tt>\"3456789\"       |"
   ]
  },
  {
   "cell_type": "markdown",
   "id": "47a93dba",
   "metadata": {},
   "source": [
    "|<tt>str = \"0123456789ABCDEF\"   |                   |\n",
    "|---                            |---                |\n",
    "|<tt>str[15:0:-1]               |<tt>\"FEDCBA9876543210\" |\n",
    "|<tt>str[::-1]                  |<tt>\"FEDCBA9876543210\" |\n",
    "|<tt>str[15:-1:-1]              |<tt>\"\"                 |\n",
    "|<tt>str[10:0:-1]               |<tt>\"A987654321\"       |\n",
    "|<tt>str[-6:0:-1]               |<tt>\"A987654321\"       |\n",
    "|<tt>str[-6:0]                  |<tt>\"\"                 |"
   ]
  },
  {
   "cell_type": "code",
   "execution_count": null,
   "id": "2fc7c222",
   "metadata": {},
   "outputs": [],
   "source": [
    "str = \"0123456789ABCDEF\"\n",
    "print(str[15:0:-1])\n",
    "print(str[::-1])\n",
    "print(str[15:-1:-1])\n",
    "print(str[10:0:-1])\n",
    "print(str[-6:0:-1])\n",
    "print(\"'\" + str[-6:0] + \"'\")"
   ]
  },
  {
   "cell_type": "markdown",
   "id": "fcb7e7f4",
   "metadata": {},
   "source": [
    "---"
   ]
  },
  {
   "cell_type": "markdown",
   "id": "880702d8",
   "metadata": {},
   "source": [
    "### <span style=\"color:magenta\"> פעולות על מחרוזת"
   ]
  },
  {
   "cell_type": "markdown",
   "id": "70d2959d",
   "metadata": {},
   "source": [
    "|פעולה       |תוצאה |\n",
    "|---                        |---                |\n",
    "|<tt>\"abc\" + \"efg\"          |<tt>\"abcefg\"       |\n",
    "|<tt>\"abc\" * 2              |<tt>\"abcabc\"       |\n",
    "|<tt>                       |                   |\n",
    "|<tt>str = \"Hello world\"    |                   |\n",
    "|<tt>\"w\" in str             |<tt>True    |\n",
    "|<tt>\"W\" in str             |<tt>False   |\n",
    "|<tt>len(str)               |11 |\n",
    "|<tt>str.find(\"ll\")         |2 |\n",
    "|<tt>str.find(\"LL\")         |-1 |\n",
    "|<tt>str.count(\"l\")         |3 |\n",
    "|<tt>str.startswith(\"He\")   |<tt>True |\n",
    "|<tt>str.endswith(\"rld\")    |<tt>True |\n",
    "|<tt>str.lower()            |<tt>\"hello world\" |\n",
    "|<tt>str.upper()            |<tt>\"HELLO WORLD\" |"
   ]
  },
  {
   "cell_type": "code",
   "execution_count": null,
   "id": "b9b2b670",
   "metadata": {},
   "outputs": [],
   "source": [
    "str = \"Hello world\"\n",
    "print(str.find(\"ll\"))\n",
    "print(str.find(\"LL\"))\n",
    "print(str.count(\"l\"))\n",
    "print(str.startswith(\"He\"))\n",
    "print(str.endswith(\"rld\"))\n",
    "print(str.lower())\n",
    "print(str.upper())\n",
    "print(\"Helloworld\".isalpha())\n",
    "print(str.isnumeric())"
   ]
  },
  {
   "cell_type": "markdown",
   "id": "98491b98",
   "metadata": {},
   "source": [
    "---"
   ]
  },
  {
   "cell_type": "markdown",
   "id": "f1512091",
   "metadata": {},
   "source": [
    "### <span style=\"color:magenta\"> פעולות בוליאניות"
   ]
  },
  {
   "cell_type": "markdown",
   "id": "46e25db3",
   "metadata": {},
   "source": [
    "| a | b | c | ביטוי בוליאני                    | תוצאה  |\n",
    "|---|---|---|---                                        |---        |\n",
    "|2  |5  |5  |<tt>a >= b or b == c                      |<tt>True    |\n",
    "|15 |22 |4  |<tt>a % 5 == 0 and b // 5 > c             |<tt>True     |\n",
    "|10 |4  |5  |<tt>a < 0 or (b == c + 15 and a >= c)     |<tt>True     |\n",
    "|11 |12 |1  |<tt>a % 2 == c % 2 and b % 3 > a % 3      |<tt>False    |\n",
    "|7  |3  |3  |<tt>a != b and b != c                     |<tt>False    |"
   ]
  },
  {
   "cell_type": "markdown",
   "id": "424e5bed",
   "metadata": {},
   "source": [
    "---"
   ]
  },
  {
   "cell_type": "markdown",
   "id": "9ac9e7a4",
   "metadata": {},
   "source": [
    "### <span style=\"color:magenta\"> ביצוע מותנה"
   ]
  },
  {
   "cell_type": "markdown",
   "id": "45abc7fb",
   "metadata": {},
   "source": [
    "```py\n",
    "if n1 > 10 and n2 <= 20:\n",
    "    print(\"Yes\")\n",
    "else:\n",
    "    print(\"No\")\n",
    "```"
   ]
  },
  {
   "cell_type": "markdown",
   "id": "82a889b7",
   "metadata": {},
   "source": [
    "|n1 | n2 | תוצאה |\n",
    "|---|--- |---   |\n",
    "|10 | 20 |No    |\n",
    "|11 | 19 |Yes   |\n",
    "|12 | 23 |No    |\n",
    "|12 | 20 |Yes   |"
   ]
  },
  {
   "cell_type": "markdown",
   "id": "f1fafb2e",
   "metadata": {},
   "source": [
    "---"
   ]
  },
  {
   "cell_type": "markdown",
   "id": "a2437b2a",
   "metadata": {},
   "source": [
    "```py\n",
    "if n1 > 10 or n2 <= 20:\n",
    "    print(\"Yes\")\n",
    "else:\n",
    "    print(\"No\")\n",
    "```"
   ]
  },
  {
   "cell_type": "markdown",
   "id": "768d461a",
   "metadata": {},
   "source": [
    "|n1 | n2 | תוצאה |\n",
    "|---|--- |---  |\n",
    "|1  | 20 | Yes |\n",
    "|10 | 21 | No  |\n",
    "|11 | 23 | Yes |\n",
    "|13 | 20 | Yes |"
   ]
  },
  {
   "cell_type": "markdown",
   "id": "d9779401",
   "metadata": {},
   "source": [
    "---"
   ]
  },
  {
   "cell_type": "markdown",
   "id": "3f2b45b6",
   "metadata": {},
   "source": [
    "```py\n",
    "if n1 > 10 and (n2 <= 20 or n2 > 50):\n",
    "    print(\"Yes\")\n",
    "else:\n",
    "    print(\"No\")\n",
    "```"
   ]
  },
  {
   "cell_type": "markdown",
   "id": "9ec45aba",
   "metadata": {},
   "source": [
    "|n1 | n2 | תוצאה |\n",
    "|---|--- |---  |\n",
    "|11 | 19 | Yes |\n",
    "|11 | 25 | No  |\n",
    "|10 | 19 | No  |\n",
    "|14 | 51 | Yes |\n",
    "|14 | 50 | No  |"
   ]
  },
  {
   "cell_type": "markdown",
   "id": "39f387c1",
   "metadata": {},
   "source": [
    "---"
   ]
  },
  {
   "cell_type": "markdown",
   "id": "fd7144d8",
   "metadata": {},
   "source": [
    "```py\n",
    "if n1 > 10:\n",
    "    if or n2 <= 20:\n",
    "        print(\"Yes\")\n",
    "    else:\n",
    "        print(\"No\")\n",
    "else:\n",
    "    if or n2 <= 20:\n",
    "        print(\"Yes\")\n",
    "    else:\n",
    "        print(\"No\")\n",
    "```"
   ]
  },
  {
   "cell_type": "markdown",
   "id": "6fed719c",
   "metadata": {},
   "source": [
    "|n1 | n2 | תוצאה |\n",
    "|---|--- |---  |\n",
    "|1  | 20 | No  |\n",
    "|11 | 19 | Yes |\n",
    "|10 | 20 | Yes |\n",
    "|13 | 22 | No  |"
   ]
  },
  {
   "cell_type": "markdown",
   "id": "e021befa",
   "metadata": {},
   "source": [
    "---"
   ]
  },
  {
   "cell_type": "markdown",
   "id": "ae3bf31b",
   "metadata": {},
   "source": [
    "### <span style=\"color:magenta\"> תווך"
   ]
  },
  {
   "cell_type": "markdown",
   "id": "276d81b3",
   "metadata": {},
   "source": [
    "|תווך |     מספרים בתווך |\n",
    "|---                    |--- |\n",
    "|<tt>range(10)          | 0, 1, 2, 3, 4, 5, 6, 7, 8, 9 |\n",
    "|<tt>range(0,10,1)      | 0, 1, 2, 3, 4, 5, 6, 7, 8, 9 |\n",
    "|<tt>range(0,10,2)      | 0, 2, 4, 6, 8 |\n",
    "|<tt>range(1,10,2)      | 1, 3, 5, 7, 9 |\n",
    "|<tt>range(4,5,1)       | 4 |\n",
    "|<tt>range(10,0,-1)     | 10, 9, 8, 7, 6, 5, 4, 3, 2, 1 |\n",
    "|<tt>range(9,-1,-1)     | 9, 8, 7, 6, 5, 4, 3, 2, 1, 0 |\n",
    "|<tt>range(1,5)         | 1, 2, 3, 4  |\n",
    "|<tt>range(9,-1,-2)     | 9, 7, 5, 3, 1  |\n",
    "|<tt>range(8,-1,-2)     | 8, 6, 4, 2, 0  |"
   ]
  },
  {
   "cell_type": "markdown",
   "id": "e7dd4ab0",
   "metadata": {},
   "source": [
    "---"
   ]
  },
  {
   "cell_type": "markdown",
   "id": "759de927",
   "metadata": {},
   "source": [
    "### <span style=\"color:magenta\"> לולאות "
   ]
  },
  {
   "cell_type": "markdown",
   "id": "9a75a596",
   "metadata": {},
   "source": [
    "<table>\n",
    "  <tr>\n",
    "    <th><tt>for לולאת</th>\n",
    "    <th><tt>while לולאת</th>\n",
    "    <th>פלט</th>\n",
    "  </tr>\n",
    "  <tr>\n",
    "    <td><pre>\n",
    "for k in range(3):\n",
    "  print(k)\n",
    "    </td>\n",
    "    <td><pre>\n",
    "k = 0\n",
    "while (k < 3):\n",
    "   print(k)\n",
    "   k += 1\n",
    "    </td>\n",
    "    <td><pre>\n",
    "0\n",
    "1 \n",
    "2 \n",
    "    </td>\n",
    "  </tr>\n",
    "  <tr>\n",
    "    <td><pre>\n",
    "for k in range(9,3,-2):\n",
    "  if k % 2 == 1:\n",
    "    print(k)\n",
    "    </td>\n",
    "    <td><pre>\n",
    "k = 9\n",
    "while (k > 3):\n",
    "  if k % 2 == 1:\n",
    "    print(k)\n",
    "  k -= 2\n",
    "    </td>\n",
    "    <td><pre>\n",
    "9\n",
    "7 \n",
    "5 \n",
    "    </td>\n",
    "  </tr>\n",
    "</table>"
   ]
  },
  {
   "cell_type": "markdown",
   "id": "15aa7eb2",
   "metadata": {},
   "source": [
    "---"
   ]
  },
  {
   "cell_type": "markdown",
   "id": "020091d2",
   "metadata": {},
   "source": [
    "### <span style=\"color:magenta\">לולאות  ומערכים"
   ]
  },
  {
   "cell_type": "markdown",
   "id": "96109df5",
   "metadata": {},
   "source": [
    "<table>\n",
    "  <tr>\n",
    "    <th><tt>for לולאת</th>\n",
    "    <th><tt>for-each לולאת</th>\n",
    "    <th>פלט</th>\n",
    "  </tr>\n",
    "  <tr>\n",
    "    <td><pre>\n",
    "a = [1,2,3]\n",
    "    </td>\n",
    "    <td><pre>\n",
    "a = [1,2,3]\n",
    "    </td>\n",
    "    <td><pre>\n",
    "    </td>\n",
    "  </tr>\n",
    "  <tr>\n",
    "    <td><pre>\n",
    "for i in range(len(arr)):\n",
    "  print(arr[i])\n",
    "    </td>\n",
    "    <td><pre>\n",
    "for x in arr:\n",
    "  print(x)\n",
    "    </td>\n",
    "    <td><pre>\n",
    "1\n",
    "2 \n",
    "3 \n",
    "    </td>\n",
    "  </tr>\n",
    "</table>"
   ]
  },
  {
   "cell_type": "markdown",
   "id": "b1421f24",
   "metadata": {},
   "source": [
    "### <span style=\"color:magenta\"> מספרים אקראיים"
   ]
  },
  {
   "cell_type": "markdown",
   "id": "657be2fd",
   "metadata": {},
   "source": [
    "---"
   ]
  }
 ],
 "metadata": {
  "kernelspec": {
   "display_name": "Python 3",
   "language": "python",
   "name": "python3"
  },
  "language_info": {
   "codemirror_mode": {
    "name": "ipython",
    "version": 3
   },
   "file_extension": ".py",
   "mimetype": "text/x-python",
   "name": "python",
   "nbconvert_exporter": "python",
   "pygments_lexer": "ipython3",
   "version": "3.11.9"
  }
 },
 "nbformat": 4,
 "nbformat_minor": 5
}
