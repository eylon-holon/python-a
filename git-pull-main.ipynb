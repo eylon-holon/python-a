{
 "cells": [
  {
   "cell_type": "code",
   "execution_count": 1,
   "metadata": {},
   "outputs": [
    {
     "name": "stderr",
     "output_type": "stream",
     "text": [
      "From https://github.com/eylon-holon/python-a\n",
      "   eb32532..6ec1d21  itay-habura        -> origin/itay-habura\n",
      "   8920bc4..e476890  lior-ovadia        -> origin/lior-ovadia\n",
      "   544f0bf..d1cd12a  main               -> origin/main\n",
      "   17e6213..31de3aa  michael-rosenhaiem -> origin/michael-rosenhaiem\n",
      "   6d2cc2b..80c22b3  monika-dovrolevski -> origin/monika-dovrolevski\n",
      "   9439f60..761f040  ofri-sharabi       -> origin/ofri-sharabi\n",
      "   efe6f9f..fbacf51  omri-grabli        -> origin/omri-grabli\n",
      "   87c12ae..db1089a  rotem-nahisi       -> origin/rotem-nahisi\n",
      "   2e91c15..2fbb294  shay-yuhai         -> origin/shay-yuhai\n"
     ]
    },
    {
     "name": "stdout",
     "output_type": "stream",
     "text": [
      "Already up to date.\n",
      "\n",
      "\n",
      "[maxim-haysenuk ad70ed7] auto commit...\n",
      " 2 files changed, 124 insertions(+), 72 deletions(-)\n",
      "\n"
     ]
    },
    {
     "name": "stderr",
     "output_type": "stream",
     "text": [
      "To https://github.com/eylon-holon/python-a\n",
      "   df872be..ad70ed7  maxim-haysenuk -> maxim-haysenuk\n"
     ]
    },
    {
     "name": "stdout",
     "output_type": "stream",
     "text": [
      "\n",
      "Merge made by the 'ort' strategy.\n",
      " mafmars/mafmar-a.solution.ipynb | 554 ++++++++++++++++++++++++++++++++++++++++\n",
      " 1 file changed, 554 insertions(+)\n",
      " create mode 100644 mafmars/mafmar-a.solution.ipynb\n",
      "\n",
      "\n"
     ]
    },
    {
     "name": "stderr",
     "output_type": "stream",
     "text": [
      "To https://github.com/eylon-holon/python-a\n",
      "   ad70ed7..70bd4d7  maxim-haysenuk -> maxim-haysenuk\n"
     ]
    }
   ],
   "source": [
    "from eylon.core import *\n",
    "store_all_changes_to_github()\n",
    "get_next_lesson()"
   ]
  }
 ],
 "metadata": {
  "kernelspec": {
   "display_name": "Python 3",
   "language": "python",
   "name": "python3"
  },
  "language_info": {
   "codemirror_mode": {
    "name": "ipython",
    "version": 3
   },
   "file_extension": ".py",
   "mimetype": "text/x-python",
   "name": "python",
   "nbconvert_exporter": "python",
   "pygments_lexer": "ipython3",
   "version": "3.12.1"
  }
 },
 "nbformat": 4,
 "nbformat_minor": 2
}
