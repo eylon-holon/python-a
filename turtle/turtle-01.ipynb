{
 "cells": [
  {
   "cell_type": "code",
   "execution_count": 1,
   "metadata": {},
   "outputs": [
    {
     "data": {
      "application/vnd.jupyter.widget-view+json": {
       "model_id": "73ea9f745e264957963002fe3641cc3c",
       "version_major": 2,
       "version_minor": 0
      },
      "text/plain": [
       "Canvas(width=500)"
      ]
     },
     "metadata": {},
     "output_type": "display_data"
    }
   ],
   "source": [
    "import jturtle\n",
    "t = jturtle.Turtle()\n",
    "\n",
    "t.forward(200)\n",
    "t.left(90)\n",
    "t.forward(200)\n",
    "t.left(90)\n",
    "t.forward(200)\n",
    "t.left(90)\n",
    "t.forward(200)\n",
    "t.left(90)"
   ]
  },
  {
   "cell_type": "markdown",
   "metadata": {},
   "source": [
    "![](img/turtle-commands.png)"
   ]
  },
  {
   "cell_type": "markdown",
   "metadata": {},
   "source": [
    "---"
   ]
  },
  {
   "cell_type": "markdown",
   "metadata": {},
   "source": [
    "![](img/turtle-q02.png)"
   ]
  },
  {
   "cell_type": "code",
   "execution_count": 13,
   "metadata": {},
   "outputs": [
    {
     "data": {
      "application/vnd.jupyter.widget-view+json": {
       "model_id": "626e6a5484ea49c7a1d84010a12a50e7",
       "version_major": 2,
       "version_minor": 0
      },
      "text/plain": [
       "Canvas(width=500)"
      ]
     },
     "metadata": {},
     "output_type": "display_data"
    }
   ],
   "source": [
    "import jturtle\n",
    "t = jturtle.Turtle()\n",
    "t.setx(0)\n",
    "t.sety(0)\n",
    "t.forward(100)\n",
    "t.left(120)\n",
    "t.forward(100)\n",
    "t.left(120)\n",
    "t.forward(100)\n",
    "t.penup()\n",
    "t.setpos(8,0)\n",
    "t.pendown()"
   ]
  },
  {
   "cell_type": "code",
   "execution_count": 8,
   "metadata": {},
   "outputs": [
    {
     "data": {
      "application/vnd.jupyter.widget-view+json": {
       "model_id": "256b7f83735e4c83918ac3c4690807fd",
       "version_major": 2,
       "version_minor": 0
      },
      "text/plain": [
       "Canvas(width=500)"
      ]
     },
     "metadata": {},
     "output_type": "display_data"
    }
   ],
   "source": [
    "import jturtle\n",
    "t = jturtle.Turtle()\n",
    "t.setx(0)\n",
    "t.sety(0)\n",
    "t.forward(120)\n",
    "t.left(90)\n",
    "t.forward(90)\n",
    "t.left(90)\n",
    "t.forward(60)\n"
   ]
  },
  {
   "cell_type": "code",
   "execution_count": 9,
   "metadata": {},
   "outputs": [
    {
     "data": {
      "application/vnd.jupyter.widget-view+json": {
       "model_id": "ff50f8647d494522b96686980262f323",
       "version_major": 2,
       "version_minor": 0
      },
      "text/plain": [
       "Canvas(width=500)"
      ]
     },
     "metadata": {},
     "output_type": "display_data"
    }
   ],
   "source": [
    "import jturtle\n",
    "t = jturtle.Turtle()\n",
    "t.setx(0)\n",
    "t.sety(0)\n",
    "t.forward(140)\n",
    "t.left(90)\n",
    "t.forward(70)\n",
    "t.left(90)\n",
    "t.forward(70)\n",
    "t.right(90)\n",
    "t.forward(70)\n",
    "t.left(90)\n",
    "t.forward(70)\n",
    "t.left(90)\n",
    "t.forward(140)"
   ]
  },
  {
   "cell_type": "markdown",
   "metadata": {},
   "source": [
    "![](img/turtle-q01.png)"
   ]
  },
  {
   "cell_type": "code",
   "execution_count": 1,
   "metadata": {},
   "outputs": [
    {
     "data": {
      "application/vnd.jupyter.widget-view+json": {
       "model_id": "983583a9e67848c1b0885817905932f0",
       "version_major": 2,
       "version_minor": 0
      },
      "text/plain": [
       "Canvas(width=500)"
      ]
     },
     "metadata": {},
     "output_type": "display_data"
    }
   ],
   "source": [
    "import jturtle\n",
    "t = jturtle.Turtle()\n",
    "t.forward(140)\n",
    "t.left(90)\n",
    "t.forward(140)\n",
    "t.left(90)\n",
    "t.forward(180)\n",
    "t.right(135)\n",
    "t.forward(120)\n",
    "t.right(85)\n",
    "t.forward(135)\n",
    "t.right(140)\n",
    "t.forward(180)\n",
    "t.left(90)\n",
    "t.forward(140)\n",
    "t.left(90)\n",
    "t.forward(90)\n",
    "t.left(90)\n",
    "t.forward(50)\n",
    "t.right(90)\n",
    "t.forward(25)\n",
    "t.right(90)\n",
    "t.forward(50)\n",
    "t.left(180)\n",
    "t.penup()\n",
    "t.forward(90)\n",
    "t.pendown()\n",
    "t.forward(30)\n",
    "t.right(90)\n",
    "t.forward(15)\n",
    "t.right(90)\n",
    "t.forward(30)\n",
    "t.right(90)\n",
    "t.forward(15)\n",
    "t.penup()\n",
    "t.forward(40)\n",
    "t.pendown()\n",
    "t.forward(15)\n",
    "t.right(90)\n",
    "t.forward(30)\n",
    "t.right(90)\n",
    "t.forward(15)\n",
    "t.right(90)\n",
    "t.forward(30)\n"
   ]
  },
  {
   "cell_type": "markdown",
   "metadata": {},
   "source": [
    "![](img/turtle-q03.png)"
   ]
  },
  {
   "cell_type": "code",
   "execution_count": 19,
   "metadata": {},
   "outputs": [
    {
     "data": {
      "application/vnd.jupyter.widget-view+json": {
       "model_id": "ad6f247f2cb3475792513e4291c93fc8",
       "version_major": 2,
       "version_minor": 0
      },
      "text/plain": [
       "Canvas(width=500)"
      ]
     },
     "metadata": {},
     "output_type": "display_data"
    }
   ],
   "source": [
    "import jturtle\n",
    "t = jturtle.Turtle()\n",
    "t.forward(100)\n",
    "t.penup()\n",
    "t.right(90)\n",
    "t.forward(50)\n",
    "t.right(90)\n",
    "t.pendown()\n",
    "t.forward(100)\n",
    "t.right(180)\n",
    "t.forward(40)\n",
    "t.left(90)\n",
    "t.forward(90)\n",
    "t.right(180)\n",
    "t.forward(130)\n",
    "t.right(180)\n",
    "t.forward(40)\n",
    "t.right(90)\n",
    "t.forward(30)\n",
    "t.right(90)\n",
    "t.forward(40)\n",
    "t.right(180)\n",
    "t.forward(130)\n",
    "t.penup()\n",
    "\n"
   ]
  },
  {
   "cell_type": "markdown",
   "metadata": {},
   "source": [
    "![](img/turtle-q04.png)"
   ]
  },
  {
   "cell_type": "code",
   "execution_count": 58,
   "metadata": {},
   "outputs": [
    {
     "data": {
      "application/vnd.jupyter.widget-view+json": {
       "model_id": "bd4545c7abfc4d9f873cbfd27789be27",
       "version_major": 2,
       "version_minor": 0
      },
      "text/plain": [
       "Canvas(width=500)"
      ]
     },
     "metadata": {},
     "output_type": "display_data"
    }
   ],
   "source": [
    "import jturtle\n",
    "t = jturtle.Turtle()\n",
    "t.pensize(8)\n",
    "t.color(\"blue\")\n",
    "t.forward(150)\n",
    "t.left(130)\n",
    "t.forward(125)\n",
    "t.left(105)\n",
    "t.forward(120)\n",
    "t.penup()\n",
    "t.right(145)\n",
    "t.forward(70)\n",
    "t.right(90)\n",
    "t.pendown()\n",
    "t.forward(135)\n",
    "t.right(120)\n",
    "t.forward(135)\n",
    "t.right(120)\n",
    "t.forward(135)"
   ]
  },
  {
   "cell_type": "markdown",
   "metadata": {},
   "source": [
    "![](img/turtle-q05.png)"
   ]
  },
  {
   "cell_type": "code",
   "execution_count": 112,
   "metadata": {},
   "outputs": [
    {
     "data": {
      "application/vnd.jupyter.widget-view+json": {
       "model_id": "cce9a8caf5ec4c6491b10eb276bf96df",
       "version_major": 2,
       "version_minor": 0
      },
      "text/plain": [
       "Canvas()"
      ]
     },
     "metadata": {},
     "output_type": "display_data"
    }
   ],
   "source": [
    "import jturtle\n",
    "t = jturtle.Turtle(700,500)\n",
    "t.circle(70)\n",
    "t.right(90)\n",
    "t.penup()\n",
    "t.forward(40)\n",
    "t.pendown()\n",
    "t.begin_fill()\n",
    "t.circle(70)\n",
    "t.end_fill()\n",
    "t.left(70)\n",
    "t.penup()\n",
    "t.forward(30)\n",
    "t.penup()\n",
    "t.forward(160)\n",
    "t.pendown()\n",
    "t.fillcolor(\"blue\")\n",
    "t.begin_fill()\n",
    "t.circle(70)\n",
    "t.end_fill()\n",
    "t.left(70)\n",
    "t.penup()\n",
    "t.forward(160)\n",
    "t.pendown()\n",
    "t.circle(70)\n",
    "t.left(70)\n",
    "t.penup()\n",
    "t.forward(190)\n",
    "t.pendown()\n",
    "t.circle(70)\n",
    "t.left(120)\n",
    "t.penup()\n",
    "t.forward(150)\n",
    "t.pendown()\n",
    "t.circle(30)"
   ]
  },
  {
   "cell_type": "markdown",
   "metadata": {},
   "source": [
    "![](img/turtle-q06.png)"
   ]
  },
  {
   "cell_type": "code",
   "execution_count": 117,
   "metadata": {},
   "outputs": [
    {
     "data": {
      "application/vnd.jupyter.widget-view+json": {
       "model_id": "8a4b69a916ea49268fbbe7cc37a46012",
       "version_major": 2,
       "version_minor": 0
      },
      "text/plain": [
       "Canvas(width=500)"
      ]
     },
     "metadata": {},
     "output_type": "display_data"
    }
   ],
   "source": [
    "import jturtle\n",
    "t = jturtle.Turtle()\n",
    "t.forward(140)\n",
    "t.left(90)\n",
    "t.forward(140)\n",
    "t.left(90)\n",
    "t.forward(180)\n",
    "t.right(135)\n",
    "t.forward(120)\n",
    "t.right(85)\n",
    "t.forward(135)\n",
    "t.right(140)\n",
    "t.forward(180)\n",
    "t.left(90)\n",
    "t.forward(140)\n",
    "t.left(90)\n",
    "t.forward(90)\n",
    "t.fillcolor(\"black\")\n",
    "t.begin_fill()\n",
    "t.left(90)\n",
    "t.forward(50)\n",
    "t.right(90)\n",
    "t.forward(25)\n",
    "t.right(90)\n",
    "t.forward(50)\n",
    "t.left(180)\n",
    "t.end_fill()\n",
    "t.penup()\n",
    "t.forward(90)\n",
    "t.pendown()\n",
    "t.forward(30)\n",
    "t.fillcolor(\"green\")\n",
    "t.begin_fill()\n",
    "t.right(90)\n",
    "t.forward(15)\n",
    "t.right(90)\n",
    "t.forward(30)\n",
    "t.right(90)\n",
    "t.forward(15)\n",
    "t.end_fill()\n",
    "t.penup()\n",
    "t.forward(40)\n",
    "t.pendown()\n",
    "t.fillcolor(\"green\")\n",
    "t.begin_fill()\n",
    "t.forward(15)\n",
    "t.right(90)\n",
    "t.forward(30)\n",
    "t.right(90)\n",
    "t.forward(15)\n",
    "t.right(90)\n",
    "t.forward(30)\n",
    "t.end_fill()\n",
    "\n"
   ]
  },
  {
   "cell_type": "markdown",
   "metadata": {},
   "source": [
    "![](img/turtle-q07.png)"
   ]
  },
  {
   "cell_type": "code",
   "execution_count": 119,
   "metadata": {},
   "outputs": [
    {
     "data": {
      "application/vnd.jupyter.widget-view+json": {
       "model_id": "d83b3d02fbe94d58a4ddce8d1f826b9a",
       "version_major": 2,
       "version_minor": 0
      },
      "text/plain": [
       "Canvas()"
      ]
     },
     "metadata": {},
     "output_type": "display_data"
    }
   ],
   "source": [
    "import jturtle\n",
    "t = jturtle.Turtle(700,500)\n",
    "t.circle(70)\n",
    "t.right(90)\n",
    "t.penup()\n",
    "t.forward(40)\n",
    "t.pendown()\n",
    "t.begin_fill()\n",
    "t.circle(70)\n",
    "t.end_fill()\n",
    "t.left(70)\n",
    "t.penup()\n",
    "t.forward(30)\n",
    "t.penup()\n",
    "t.forward(160)\n",
    "t.pendown()\n",
    "t.fillcolor(\"blue\")\n",
    "t.begin_fill()\n",
    "t.circle(70)\n",
    "t.end_fill()\n",
    "t.left(70)\n",
    "t.penup()\n",
    "t.forward(160)\n",
    "t.pendown()\n",
    "t.circle(70)\n",
    "t.left(70)\n",
    "t.penup()\n",
    "t.forward(190)\n",
    "t.pendown()\n",
    "t.circle(70)\n",
    "t.left(120)\n",
    "t.penup()\n",
    "t.forward(150)\n",
    "t.pendown()\n",
    "t.circle(30)\n"
   ]
  }
 ],
 "metadata": {
  "kernelspec": {
   "display_name": "Python 3",
   "language": "python",
   "name": "python3"
  },
  "language_info": {
   "codemirror_mode": {
    "name": "ipython",
    "version": 3
   },
   "file_extension": ".py",
   "mimetype": "text/x-python",
   "name": "python",
   "nbconvert_exporter": "python",
   "pygments_lexer": "ipython3",
   "version": "3.12.1"
  }
 },
 "nbformat": 4,
 "nbformat_minor": 2
}
