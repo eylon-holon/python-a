{
 "cells": [
  {
   "cell_type": "code",
   "execution_count": 1,
   "metadata": {},
   "outputs": [
    {
     "data": {
      "application/vnd.jupyter.widget-view+json": {
       "model_id": "4fc43f1f3b5e4a549f85f2f5cfba871a",
       "version_major": 2,
       "version_minor": 0
      },
      "text/plain": [
       "Canvas(width=500)"
      ]
     },
     "metadata": {},
     "output_type": "display_data"
    }
   ],
   "source": [
    "import jturtle\n",
    "t = jturtle.Turtle()\n",
    "\n",
    "t.forward(200)\n",
    "t.left(90)\n",
    "t.forward(200)\n",
    "t.left(90)\n",
    "t.forward(200)\n",
    "t.left(90)\n",
    "t.forward(200)\n",
    "t.left(90)"
   ]
  },
  {
   "cell_type": "markdown",
   "metadata": {},
   "source": [
    "![](img/turtle-commands.png)"
   ]
  },
  {
   "cell_type": "markdown",
   "metadata": {},
   "source": [
    "---"
   ]
  },
  {
   "cell_type": "markdown",
   "metadata": {},
   "source": [
    "![](img/turtle-q02.png)"
   ]
  },
  {
   "cell_type": "code",
   "execution_count": 29,
   "metadata": {},
   "outputs": [
    {
     "data": {
      "application/vnd.jupyter.widget-view+json": {
       "model_id": "c3644d9967a5499092dc2d9f99481371",
       "version_major": 2,
       "version_minor": 0
      },
      "text/plain": [
       "Canvas(width=1100)"
      ]
     },
     "metadata": {},
     "output_type": "display_data"
    }
   ],
   "source": [
    "import jturtle\n",
    "t = jturtle.Turtle(1100,500)\n",
    "\n",
    "t.forward(100)\n",
    "t.turnleft(90)\n",
    "t.forward(50)\n",
    "t.turnleft(90)\n",
    "t.forward(50)\n",
    "t.turnright(90)\n",
    "t.forward(50)\n",
    "t.left(90)\n",
    "t.forward(50)\n",
    "t.turnleft(90)\n",
    "t.forward(100)\n",
    "\n",
    "t.turnleft(90)\n",
    "t.penup()\n",
    "t.forward(200)\n",
    "t.pendown()\n",
    "\n",
    "t.forward(50)\n",
    "t.turnleft(90)\n",
    "t.forward(100)\n",
    "t.turnleft(90)\n",
    "t.forward(25)\n",
    "\n",
    "t.penup()\n",
    "t.turnleft(180)\n",
    "t.forward(125)\n",
    "t.pendown()\n",
    "\n",
    "t.forward(100)\n",
    "t.turnright(90)\n",
    "t.forward(100)\n",
    "t.turnleft(90)\n",
    "t.forward(100)"
   ]
  },
  {
   "cell_type": "code",
   "execution_count": null,
   "metadata": {},
   "outputs": [],
   "source": []
  },
  {
   "cell_type": "markdown",
   "metadata": {},
   "source": [
    "![](img/turtle-q01.png)"
   ]
  },
  {
   "cell_type": "code",
   "execution_count": 35,
   "metadata": {},
   "outputs": [
    {
     "data": {
      "application/vnd.jupyter.widget-view+json": {
       "model_id": "85d4ec0bf13b44ababc07699f86f54b4",
       "version_major": 2,
       "version_minor": 0
      },
      "text/plain": [
       "Canvas(width=500)"
      ]
     },
     "metadata": {},
     "output_type": "display_data"
    }
   ],
   "source": [
    "import jturtle\n",
    "t = jturtle.Turtle()\n",
    "t.fillcolor(\"blue\")\n",
    "\n",
    "t.forward(50)\n",
    "t.left(90)\n",
    "t.begin_fill()\n",
    "t.forward(40)\n",
    "t.right(90)\n",
    "t.forward(25)\n",
    "t.right(90)\n",
    "t.forward(40)\n",
    "t.end_fill()\n",
    "t.right(90)\n",
    "t.forward(25)\n",
    "t.right(180)\n",
    "t.forward(75)\n",
    "t.left(90)\n",
    "t.forward(100)\n",
    "t.right(90)\n",
    "t.forward(40)\n",
    "t.left(150)\n",
    "t.forward(130)\n",
    "t.left(60)\n",
    "t.forward(130)\n",
    "t.left(140)\n",
    "t.forward(100)\n",
    "t.right(90)\n",
    "t.forward(100)\n",
    "# t.\n",
    "# t.\n",
    "# t.forward(100)\n",
    "\n",
    "\n"
   ]
  },
  {
   "cell_type": "markdown",
   "metadata": {},
   "source": [
    "![](img/turtle-q03.png)"
   ]
  },
  {
   "cell_type": "code",
   "execution_count": 26,
   "metadata": {},
   "outputs": [
    {
     "data": {
      "application/vnd.jupyter.widget-view+json": {
       "model_id": "7bd4b8b66971404194da1f0a618b1d32",
       "version_major": 2,
       "version_minor": 0
      },
      "text/plain": [
       "Canvas()"
      ]
     },
     "metadata": {},
     "output_type": "display_data"
    }
   ],
   "source": [
    "import jturtle\n",
    "t = jturtle.Turtle(700,500)\n",
    "\n",
    "t.goto(0,0)\n",
    "t.forward(300)\n",
    "t.penup()\n",
    "t.goto(0, 100)\n",
    "t.pendown()\n",
    "t.forward(300)\n",
    "t.penup()\n",
    "t.goto(100, -100)\n",
    "t.pendown()\n",
    "t.turnleft(90)\n",
    "t.forward(300)\n",
    "t.penup()\n",
    "t.goto(200, -100)\n",
    "t.pendown()\n",
    "t.forward(300)\n",
    "\n",
    "\n",
    "\n"
   ]
  },
  {
   "cell_type": "markdown",
   "metadata": {},
   "source": [
    "![](img/turtle-q04.png)"
   ]
  },
  {
   "cell_type": "code",
   "execution_count": 3,
   "metadata": {},
   "outputs": [
    {
     "data": {
      "application/vnd.jupyter.widget-view+json": {
       "model_id": "0f9edc75f4dc4f7ebe2f4393e3f1afa7",
       "version_major": 2,
       "version_minor": 0
      },
      "text/plain": [
       "Canvas(width=500)"
      ]
     },
     "metadata": {},
     "output_type": "display_data"
    }
   ],
   "source": [
    "import jturtle\n",
    "t = jturtle.Turtle()\n",
    "\n",
    "t.color(\"blue\")\n",
    "t.pensize(10)\n",
    "\n",
    "t.forward(100)\n",
    "t.turnleft(120)\n",
    "t.forward(100)\n",
    "t.turnleft(120)\n",
    "t.forward(100)\n",
    "t.turnleft(120)\n",
    "\n",
    "t.penup()\n",
    "t.goto(0, 70)\n",
    "t.pendown()\n",
    "t.forward(100)\n",
    "t.turnright(120)\n",
    "t.forward(100)\n",
    "t.right(120)\n",
    "t.forward(100)\n",
    "t.right(120)\n"
   ]
  },
  {
   "cell_type": "markdown",
   "metadata": {},
   "source": [
    "![](img/turtle-q05.png)"
   ]
  },
  {
   "cell_type": "code",
   "execution_count": 2,
   "metadata": {},
   "outputs": [
    {
     "data": {
      "application/vnd.jupyter.widget-view+json": {
       "model_id": "f8a9058a68c24449bd539afbd4f74326",
       "version_major": 2,
       "version_minor": 0
      },
      "text/plain": [
       "Canvas(width=900)"
      ]
     },
     "metadata": {},
     "output_type": "display_data"
    }
   ],
   "source": [
    "import jturtle\n",
    "t = jturtle.Turtle(900, 500)\n",
    "\n",
    "t.goto(0, 0)\n",
    "t.circle(50)\n",
    "\n",
    "t.penup()\n",
    "t.goto(30, -95)\n",
    "t.pendown()\n",
    "\n",
    "t.circle(50)\n",
    "\n",
    "t.penup()\n",
    "t.goto(130, -90)\n",
    "t.pendown()\n",
    "\n",
    "t.circle(50)\n",
    "\n",
    "t.penup()\n",
    "t.goto(190, -5)\n",
    "t.pendown()\n",
    "\n",
    "t.circle(50)\n",
    "\n",
    "t.penup()\n",
    "t.goto(100, 60)\n",
    "t.pendown()\n",
    "\n",
    "t.circle(50)\n",
    "\n",
    "t.penup()\n",
    "t.goto(100, 0)\n",
    "t.pendown()\n",
    "\n",
    "t.circle(25)\n"
   ]
  },
  {
   "cell_type": "markdown",
   "metadata": {},
   "source": [
    "![](img/turtle-q06.png)"
   ]
  },
  {
   "cell_type": "code",
   "execution_count": 1,
   "metadata": {},
   "outputs": [
    {
     "data": {
      "application/vnd.jupyter.widget-view+json": {
       "model_id": "c03774b161504217a92404cd976110f8",
       "version_major": 2,
       "version_minor": 0
      },
      "text/plain": [
       "Canvas(width=500)"
      ]
     },
     "metadata": {},
     "output_type": "display_data"
    }
   ],
   "source": [
    "import jturtle\n",
    "t = jturtle.Turtle()\n",
    "\n",
    "# Draw house base\n",
    "t.penup()\n",
    "t.goto(-100, -100)\n",
    "t.pendown()\n",
    "t.fillcolor(\"blue\")\n",
    "t.begin_fill()\n",
    "t.forward(200)\n",
    "t.left(90)\n",
    "t.forward(150)\n",
    "t.left(90)\n",
    "t.forward(200)\n",
    "t.left(90)\n",
    "t.forward(150)\n",
    "t.left(90)\n",
    "t.end_fill()\n",
    "\n",
    "# Draw roof\n",
    "t.penup()\n",
    "t.goto(-160, 50)\n",
    "t.pendown()\n",
    "t.fillcolor(\"brown\")\n",
    "t.begin_fill()\n",
    "t.forward(320)\n",
    "t.left(120)\n",
    "t.forward(200)\n",
    "t.left(120)\n",
    "t.forward(200)\n",
    "t.left(120)\n",
    "t.end_fill()\n",
    "\n",
    "# Draw door\n",
    "t.penup()\n",
    "t.goto(-30, -100)\n",
    "t.pendown()\n",
    "t.fillcolor(\"red\")\n",
    "t.begin_fill()\n",
    "t.forward(60)\n",
    "t.left(90)\n",
    "t.forward(80)\n",
    "t.left(90)\n",
    "t.forward(60)\n",
    "t.left(90)\n",
    "t.forward(80)\n",
    "t.left(90)\n",
    "t.end_fill()\n",
    "\n",
    "# Draw left window\n",
    "t.penup()\n",
    "t.goto(-80, -20)\n",
    "t.pendown()\n",
    "t.fillcolor(\"yellow\")\n",
    "t.begin_fill()\n",
    "t.forward(40)\n",
    "t.left(90)\n",
    "t.forward(40)\n",
    "t.left(90)\n",
    "t.forward(40)\n",
    "t.left(90)\n",
    "t.forward(40)\n",
    "t.left(90)\n",
    "t.end_fill()\n",
    "\n",
    "# Draw right window\n",
    "t.penup()\n",
    "t.goto(40, -20)\n",
    "t.pendown()\n",
    "t.fillcolor(\"green\")\n",
    "t.begin_fill()\n",
    "t.forward(40)\n",
    "t.left(90)\n",
    "t.forward(40)\n",
    "t.left(90)\n",
    "t.forward(40)\n",
    "t.left(90)\n",
    "t.forward(40)\n",
    "t.left(90)\n",
    "t.end_fill()"
   ]
  },
  {
   "cell_type": "markdown",
   "metadata": {},
   "source": [
    "![](img/turtle-q07.png)"
   ]
  },
  {
   "cell_type": "code",
   "execution_count": null,
   "metadata": {},
   "outputs": [],
   "source": [
    "import jturtle\n",
    "t = jturtle.Turtle()\n"
   ]
  }
 ],
 "metadata": {
  "kernelspec": {
   "display_name": "Python 3",
   "language": "python",
   "name": "python3"
  },
  "language_info": {
   "codemirror_mode": {
    "name": "ipython",
    "version": 3
   },
   "file_extension": ".py",
   "mimetype": "text/x-python",
   "name": "python",
   "nbconvert_exporter": "python",
   "pygments_lexer": "ipython3",
   "version": "3.12.1"
  }
 },
 "nbformat": 4,
 "nbformat_minor": 2
}
