{
 "cells": [
  {
   "cell_type": "markdown",
   "id": "b93e574c",
   "metadata": {},
   "source": [
    "### <span style=\"color:magenta\"> הגדרת פונקציות"
   ]
  },
  {
   "cell_type": "markdown",
   "id": "a67047a2",
   "metadata": {},
   "source": [
    "```py\n",
    "def iHaveNoParameters():\n",
    "    print(\"אין לי פרמטרים\")\n",
    "    print(\"אני לא מחזירה כלום\")\n",
    "```"
   ]
  },
  {
   "cell_type": "markdown",
   "id": "b7a71dcd",
   "metadata": {},
   "source": [
    "```py\n",
    "def iHaveOneParameter(num):\n",
    "    print(\"קיבלתי פרמטר אחד, מדפוס אותו\", num)\n",
    "    print(\"אני מחזירה אמת אם המספר שקיבלתי הוא זוגי\")\n",
    "    return num % 2 == 0\n",
    "```"
   ]
  },
  {
   "cell_type": "markdown",
   "id": "c428d64d",
   "metadata": {},
   "source": [
    "```py\n",
    "def countBiggerNumbers(a, num):\n",
    "    print(\"אני מקבלת מערך של מספרים ומספר כלשהוא\")\n",
    "    print(\"אני סופרת מספרים במערך שגדולים ממספר שקיבלתי\")\n",
    "    count = 0\n",
    "    for x in a:\n",
    "        if x > num:\n",
    "            count += 1\n",
    "    return count\n",
    "```"
   ]
  },
  {
   "cell_type": "markdown",
   "id": "a0c5f5ce",
   "metadata": {},
   "source": [
    "---"
   ]
  },
  {
   "cell_type": "markdown",
   "id": "c5f0cd09",
   "metadata": {},
   "source": [
    "### <span style=\"color:magenta\"> מינימום של מערך"
   ]
  },
  {
   "cell_type": "code",
   "execution_count": null,
   "id": "77383977",
   "metadata": {},
   "outputs": [],
   "source": [
    "def findMin(a):\n",
    "    min = a[0]a\n",
    "    for i in range(len(a)):\n",
    "        if a[i] < min:\n",
    "            min = a[i]\n",
    "    return min"
   ]
  },
  {
   "cell_type": "markdown",
   "id": "cd2c9f74",
   "metadata": {},
   "source": [
    "### <span style=\"color:magenta\"> מקסימום של מספרים"
   ]
  },
  {
   "cell_type": "code",
   "execution_count": 2,
   "id": "7cf6b947",
   "metadata": {},
   "outputs": [],
   "source": [
    "def findMax(a):\n",
    "    max = a[0]\n",
    "    for x in a:\n",
    "        if x > max:\n",
    "            max = x\n",
    "    return max"
   ]
  },
  {
   "cell_type": "markdown",
   "id": "f25ae793",
   "metadata": {},
   "source": [
    "### <span style=\"color:magenta\"> ממוצא של מספרים"
   ]
  },
  {
   "cell_type": "code",
   "execution_count": null,
   "id": "c0e4a58f",
   "metadata": {},
   "outputs": [],
   "source": [
    "def findAverage(a):\n",
    "    sum = 0\n",
    "    for x in a:\n",
    "        sum += x\n",
    "    return sum // len(a)"
   ]
  },
  {
   "cell_type": "markdown",
   "id": "1669ff08",
   "metadata": {},
   "source": [
    "### <span style=\"color:magenta\"> הדפסת סיפרות של מספר"
   ]
  },
  {
   "cell_type": "code",
   "execution_count": null,
   "id": "319987ce",
   "metadata": {},
   "outputs": [],
   "source": [
    "def printDigits(num):\n",
    "    while (num > 0):\n",
    "        print(num % 10)\n",
    "        num = num // 10"
   ]
  },
  {
   "cell_type": "markdown",
   "id": "df6c9474",
   "metadata": {},
   "source": [
    "### <span style=\"color:magenta\"> מספר פלינדרומי"
   ]
  },
  {
   "cell_type": "code",
   "execution_count": 3,
   "id": "76d884aa",
   "metadata": {},
   "outputs": [],
   "source": [
    "def isPalindrome(num):\n",
    "    makor = num\n",
    "    afuh = 0\n",
    "    while num > 0:\n",
    "        afuh = afuh * 10 + num % 10\n",
    "        num = num // 10\n",
    "    return makor == afuh"
   ]
  },
  {
   "cell_type": "code",
   "execution_count": 6,
   "id": "0eff0b6b",
   "metadata": {},
   "outputs": [
    {
     "name": "stdout",
     "output_type": "stream",
     "text": [
      "True\n",
      "True\n",
      "True\n",
      "False\n"
     ]
    }
   ],
   "source": [
    "print(isPalindrome(1221))\n",
    "print(isPalindrome(123321))\n",
    "print(isPalindrome(14541))\n",
    "print(isPalindrome(123123))"
   ]
  },
  {
   "cell_type": "markdown",
   "id": "bfaa77a7",
   "metadata": {},
   "source": [
    "### <span style=\"color:magenta\"> מחרוזת פלינדרומית"
   ]
  },
  {
   "cell_type": "markdown",
   "id": "2bd5a6e6",
   "metadata": {},
   "source": [
    "### <span style=\"color:magenta\"> מספרי פיבונאצ'י"
   ]
  },
  {
   "cell_type": "markdown",
   "id": "d11b21ef",
   "metadata": {},
   "source": [
    "### <span style=\"color:magenta\"> לבדוק האם מספר הוא ראשוני"
   ]
  }
 ],
 "metadata": {
  "kernelspec": {
   "display_name": "Python 3",
   "language": "python",
   "name": "python3"
  },
  "language_info": {
   "codemirror_mode": {
    "name": "ipython",
    "version": 3
   },
   "file_extension": ".py",
   "mimetype": "text/x-python",
   "name": "python",
   "nbconvert_exporter": "python",
   "pygments_lexer": "ipython3",
   "version": "3.11.9"
  }
 },
 "nbformat": 4,
 "nbformat_minor": 5
}
