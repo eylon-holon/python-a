{
 "cells": [
  {
   "cell_type": "markdown",
   "id": "3955e623",
   "metadata": {},
   "source": [
    "### <span style=\"color:magenta\"> רשימה"
   ]
  },
  {
   "cell_type": "markdown",
   "id": "0436ea22",
   "metadata": {},
   "source": [
    "### <span style=\"color:magenta\"> תור"
   ]
  }
 ],
 "metadata": {
  "language_info": {
   "name": "python"
  }
 },
 "nbformat": 4,
 "nbformat_minor": 5
}
