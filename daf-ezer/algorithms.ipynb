{
 "cells": [
  {
   "cell_type": "markdown",
   "id": "b93e574c",
   "metadata": {},
   "source": [
    "### <span style=\"color:magenta\"> הגדרת פונקציות"
   ]
  },
  {
   "cell_type": "markdown",
   "id": "a0c5f5ce",
   "metadata": {},
   "source": [
    "---"
   ]
  },
  {
   "cell_type": "markdown",
   "id": "979fd65f",
   "metadata": {},
   "source": [
    "---"
   ]
  },
  {
   "cell_type": "markdown",
   "id": "c5f0cd09",
   "metadata": {},
   "source": [
    "### <span style=\"color:magenta\"> מינימום של מספרים"
   ]
  },
  {
   "cell_type": "markdown",
   "id": "cd2c9f74",
   "metadata": {},
   "source": [
    "### <span style=\"color:magenta\"> מקסימום של מספרים"
   ]
  },
  {
   "cell_type": "markdown",
   "id": "f25ae793",
   "metadata": {},
   "source": [
    "### <span style=\"color:magenta\"> ממוצא של מספרים"
   ]
  },
  {
   "cell_type": "markdown",
   "id": "1669ff08",
   "metadata": {},
   "source": [
    "### <span style=\"color:magenta\"> הדפסת סיפרות של מספר"
   ]
  },
  {
   "cell_type": "markdown",
   "id": "df6c9474",
   "metadata": {},
   "source": [
    "### <span style=\"color:magenta\"> מספר פלינדרומי"
   ]
  },
  {
   "cell_type": "markdown",
   "id": "bfaa77a7",
   "metadata": {},
   "source": [
    "### <span style=\"color:magenta\"> מחרוזת פלינדרומית"
   ]
  },
  {
   "cell_type": "markdown",
   "id": "2bd5a6e6",
   "metadata": {},
   "source": [
    "### <span style=\"color:magenta\"> מספרי פיבונאצ'י"
   ]
  },
  {
   "cell_type": "markdown",
   "id": "d11b21ef",
   "metadata": {},
   "source": [
    "### <span style=\"color:magenta\"> לבדוק האם מספר הוא ראשוני"
   ]
  }
 ],
 "metadata": {
  "language_info": {
   "name": "python"
  }
 },
 "nbformat": 4,
 "nbformat_minor": 5
}
