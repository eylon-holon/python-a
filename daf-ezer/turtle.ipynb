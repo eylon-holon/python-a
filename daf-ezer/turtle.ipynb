{
 "cells": [
  {
   "cell_type": "markdown",
   "id": "ed7d1120",
   "metadata": {},
   "source": [
    "### <span style=\"color:magenta\"> פקודות של צב"
   ]
  },
  {
   "cell_type": "markdown",
   "id": "e4275ff6",
   "metadata": {},
   "source": [
    "---"
   ]
  },
  {
   "cell_type": "markdown",
   "id": "8e50bfe6",
   "metadata": {},
   "source": [
    "### <span style=\"color:magenta\"> תמונות נפוצות בעזרת צב"
   ]
  },
  {
   "cell_type": "markdown",
   "id": "98fa59eb",
   "metadata": {},
   "source": [
    "---"
   ]
  }
 ],
 "metadata": {
  "language_info": {
   "name": "python"
  }
 },
 "nbformat": 4,
 "nbformat_minor": 5
}
