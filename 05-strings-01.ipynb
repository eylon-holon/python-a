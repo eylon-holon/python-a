{
 "cells": [
  {
   "cell_type": "code",
   "execution_count": 1,
   "metadata": {},
   "outputs": [
    {
     "name": "stdout",
     "output_type": "stream",
     "text": [
      "0\n",
      "1\n",
      "F\n",
      "E\n"
     ]
    }
   ],
   "source": [
    "str = \"0123456789ABCDEF\"\n",
    "print(str[0])\n",
    "print(str[1])\n",
    "print(str[-1])\n",
    "print(str[-2])"
   ]
  },
  {
   "cell_type": "markdown",
   "metadata": {},
   "source": [
    "מה העבדל בין גישה לאותיות מהתחלה ומהסוף (איפו האינדקס מתחיל בשני המקרים)?"
   ]
  },
  {
   "cell_type": "code",
   "execution_count": 2,
   "metadata": {},
   "outputs": [
    {
     "name": "stdout",
     "output_type": "stream",
     "text": [
      "16\n"
     ]
    }
   ],
   "source": [
    "str = \"0123456789ABCDEF\"\n",
    "print(len(str))"
   ]
  },
  {
   "cell_type": "markdown",
   "metadata": {},
   "source": [
    "len - מה מחזירה פונקציה?"
   ]
  },
  {
   "cell_type": "code",
   "execution_count": 3,
   "metadata": {},
   "outputs": [
    {
     "name": "stdout",
     "output_type": "stream",
     "text": [
      "F\n",
      "F\n"
     ]
    }
   ],
   "source": [
    "str = \"0123456789ABCDEF\"\n",
    "print(str[len(str)-1])\n",
    "print(str[-1])"
   ]
  },
  {
   "cell_type": "markdown",
   "metadata": {},
   "source": [
    "למה זה מדפיס אותה אות?"
   ]
  },
  {
   "cell_type": "code",
   "execution_count": 4,
   "metadata": {},
   "outputs": [
    {
     "name": "stdout",
     "output_type": "stream",
     "text": [
      "Hello hello gosha!\n"
     ]
    }
   ],
   "source": [
    "name = input(\"Enter your name: \")\n",
    "print(\"Hello \" + name + \"!\")"
   ]
  },
  {
   "cell_type": "markdown",
   "metadata": {},
   "source": [
    "מה פעולה + עושה עם המחרוזות?"
   ]
  },
  {
   "cell_type": "code",
   "execution_count": 5,
   "metadata": {},
   "outputs": [
    {
     "name": "stdout",
     "output_type": "stream",
     "text": [
      "Hello Hello goshagosha\n"
     ]
    }
   ],
   "source": [
    "name = input(\"Enter your name: \")\n",
    "print(\"Hello \"*2 + name*2)"
   ]
  },
  {
   "cell_type": "markdown",
   "metadata": {},
   "source": [
    "מה פעולה * עושה עם המחרוזות?"
   ]
  },
  {
   "cell_type": "code",
   "execution_count": 6,
   "metadata": {},
   "outputs": [
    {
     "name": "stdout",
     "output_type": "stream",
     "text": [
      "0123456789ABCDEF\n",
      "0123456789ABCDEF\n",
      "0123456789ABCDEF\n",
      "0123456789ABCDEF\n"
     ]
    }
   ],
   "source": [
    "str = \"0123456789ABCDEF\"\n",
    "print(str[0:len(str):1])\n",
    "print(str[0::1])\n",
    "print(str[0::])\n",
    "print(str[::])\n"
   ]
  },
  {
   "cell_type": "markdown",
   "metadata": {},
   "source": [
    "איך זה שכל השורות מדפיסות אותו דבר?<br>\n",
    "מה המשמעות של ערכים דפולטיים (default)?"
   ]
  },
  {
   "cell_type": "code",
   "execution_count": 7,
   "metadata": {},
   "outputs": [
    {
     "name": "stdout",
     "output_type": "stream",
     "text": [
      "0123456789ABCDEF\n"
     ]
    }
   ],
   "source": [
    "str = \"0123456789ABCDEF\"\n",
    "print(str[::])"
   ]
  },
  {
   "cell_type": "markdown",
   "metadata": {},
   "source": [
    "מהם הערכים הדפולטיים במקרה הזה?"
   ]
  },
  {
   "cell_type": "code",
   "execution_count": 8,
   "metadata": {},
   "outputs": [
    {
     "name": "stdout",
     "output_type": "stream",
     "text": [
      "0123456789ABCDEF\n",
      "123456789ABCDEF\n",
      "56789ABCDEF\n"
     ]
    }
   ],
   "source": [
    "str = \"0123456789ABCDEF\"\n",
    "print(str[0::])\n",
    "print(str[1::])\n",
    "print(str[5::])"
   ]
  },
  {
   "cell_type": "markdown",
   "metadata": {},
   "source": [
    "מה המשמעות של מספר הראשון בתווך?"
   ]
  },
  {
   "cell_type": "code",
   "execution_count": 9,
   "metadata": {},
   "outputs": [
    {
     "name": "stdout",
     "output_type": "stream",
     "text": [
      "0\n",
      "01\n",
      "01234\n"
     ]
    }
   ],
   "source": [
    "str = \"0123456789ABCDEF\"\n",
    "print(str[:1:])\n",
    "print(str[:2:])\n",
    "print(str[:5:])"
   ]
  },
  {
   "cell_type": "markdown",
   "metadata": {},
   "source": [
    "מה המשמעות של מספר השני בתווך?"
   ]
  },
  {
   "cell_type": "code",
   "execution_count": 10,
   "metadata": {},
   "outputs": [
    {
     "name": "stdout",
     "output_type": "stream",
     "text": [
      "0123456789ABCDEF\n",
      "02468ACE\n",
      "0369CF\n"
     ]
    }
   ],
   "source": [
    "str = \"0123456789ABCDEF\"\n",
    "print(str[::1])\n",
    "print(str[::2])\n",
    "print(str[::3])"
   ]
  },
  {
   "cell_type": "markdown",
   "metadata": {},
   "source": [
    "מה המשמעות של מספר השלישי בתווך?"
   ]
  },
  {
   "cell_type": "code",
   "execution_count": 11,
   "metadata": {},
   "outputs": [
    {
     "name": "stdout",
     "output_type": "stream",
     "text": [
      "FEDCBA9876543210\n",
      "FEDCBA9876543210\n"
     ]
    }
   ],
   "source": [
    "str = \"0123456789ABCDEF\"\n",
    "print(str[::-1])\n",
    "print(str[len(str)::-1])"
   ]
  },
  {
   "cell_type": "markdown",
   "metadata": {},
   "source": [
    "מה הערכים הדפולטיים עכשיו?<br>\n",
    "מה לדעתך גורם להבדל?"
   ]
  },
  {
   "cell_type": "code",
   "execution_count": 12,
   "metadata": {},
   "outputs": [
    {
     "name": "stdout",
     "output_type": "stream",
     "text": [
      "1\n",
      "1\n",
      "True\n"
     ]
    }
   ],
   "source": [
    "word = input(\"Enter word: \")\n",
    "print(word)\n",
    "print(word[::-1])\n",
    "print(word == word[::-1])"
   ]
  },
  {
   "cell_type": "markdown",
   "metadata": {},
   "source": [
    "true - מתי שורה שלישית מדפיסה?<br>\n",
    "מה זה אומר על המילה?"
   ]
  },
  {
   "cell_type": "code",
   "execution_count": 14,
   "metadata": {},
   "outputs": [
    {
     "ename": "SyntaxError",
     "evalue": "invalid syntax. Perhaps you forgot a comma? (647549188.py, line 2)",
     "output_type": "error",
     "traceback": [
      "\u001b[0;36m  Cell \u001b[0;32mIn[14], line 2\u001b[0;36m\u001b[0m\n\u001b[0;31m    print(str[])\u001b[0m\n\u001b[0m          ^\u001b[0m\n\u001b[0;31mSyntaxError\u001b[0m\u001b[0;31m:\u001b[0m invalid syntax. Perhaps you forgot a comma?\n"
     ]
    }
   ],
   "source": [
    "str = \"0123456789ABCDEF\"\n",
    "print(str[])\n",
    "print(str[])\n",
    "print(str[])"
   ]
  },
  {
   "cell_type": "markdown",
   "metadata": {},
   "source": [
    "תשלימו את הקוד כך שיודפס<br>\n",
    "02468ACE<br>\n",
    "13579BDF<br>\n",
    "56789"
   ]
  },
  {
   "cell_type": "code",
   "execution_count": 15,
   "metadata": {},
   "outputs": [
    {
     "name": "stdout",
     "output_type": "stream",
     "text": [
      "True\n",
      "True\n",
      "True\n",
      "False\n"
     ]
    }
   ],
   "source": [
    "str = \"0123456789ABCDEF\"\n",
    "print(\"1\" in str)\n",
    "print(\"12\" in str)\n",
    "print(\"ABC\" in str)\n",
    "print(\"135\" in str)"
   ]
  },
  {
   "cell_type": "markdown",
   "metadata": {},
   "source": [
    "in - מה האופרטור מחזיר?"
   ]
  },
  {
   "cell_type": "code",
   "execution_count": 16,
   "metadata": {},
   "outputs": [
    {
     "name": "stdout",
     "output_type": "stream",
     "text": [
      "1\n",
      "2\n",
      "4\n",
      "0\n"
     ]
    }
   ],
   "source": [
    "print(\"122333444455555\".count(\"1\"))\n",
    "print(\"122333444455555\".count(\"2\"))\n",
    "print(\"122333444455555\".count(\"4\"))\n",
    "print(\"122333444455555\".count(\"6\"))"
   ]
  },
  {
   "cell_type": "markdown",
   "metadata": {},
   "source": [
    "count - מה הפונקציה מחזירה?"
   ]
  },
  {
   "cell_type": "code",
   "execution_count": 17,
   "metadata": {},
   "outputs": [
    {
     "name": "stdout",
     "output_type": "stream",
     "text": [
      "0\n",
      "0\n",
      "7\n",
      "14\n",
      "-1\n"
     ]
    }
   ],
   "source": [
    "str = \"0123456789ABCDEF\"\n",
    "print(str.find(\"0\"))\n",
    "print(str.find(\"01\"))\n",
    "print(str.find(\"789\"))\n",
    "print(str.find(\"EF\"))\n",
    "print(str.find(\"FE\"))"
   ]
  },
  {
   "cell_type": "markdown",
   "metadata": {},
   "source": [
    "find - מה הפונקציה מחזירה?"
   ]
  },
  {
   "cell_type": "code",
   "execution_count": 18,
   "metadata": {},
   "outputs": [
    {
     "name": "stdout",
     "output_type": "stream",
     "text": [
      "True\n",
      "False\n"
     ]
    }
   ],
   "source": [
    "str = \"0123456789ABCDEF\"\n",
    "print(str.startswith(\"0123\"))\n",
    "print(str.startswith(\"1234\"))"
   ]
  },
  {
   "cell_type": "markdown",
   "metadata": {},
   "source": [
    "startswith - מה הפונקציה מחזירה?"
   ]
  },
  {
   "cell_type": "code",
   "execution_count": 19,
   "metadata": {},
   "outputs": [
    {
     "ename": "TypeError",
     "evalue": "endswith() takes at least 1 argument (0 given)",
     "output_type": "error",
     "traceback": [
      "\u001b[0;31m---------------------------------------------------------------------------\u001b[0m",
      "\u001b[0;31mTypeError\u001b[0m                                 Traceback (most recent call last)",
      "Cell \u001b[0;32mIn[19], line 2\u001b[0m\n\u001b[1;32m      1\u001b[0m \u001b[38;5;28mstr\u001b[39m \u001b[38;5;241m=\u001b[39m \u001b[38;5;124m\"\u001b[39m\u001b[38;5;124m0123456789ABCDEF\u001b[39m\u001b[38;5;124m\"\u001b[39m\n\u001b[0;32m----> 2\u001b[0m \u001b[38;5;28mprint\u001b[39m(\u001b[38;5;28;43mstr\u001b[39;49m\u001b[38;5;241;43m.\u001b[39;49m\u001b[43mendswith\u001b[49m\u001b[43m(\u001b[49m\u001b[43m)\u001b[49m)\n\u001b[1;32m      3\u001b[0m \u001b[38;5;28mprint\u001b[39m(\u001b[38;5;28mstr\u001b[39m\u001b[38;5;241m.\u001b[39mendswith())\n",
      "\u001b[0;31mTypeError\u001b[0m: endswith() takes at least 1 argument (0 given)"
     ]
    }
   ],
   "source": [
    "str = \"0123456789ABCDEF\"\n",
    "print(str.endswith())\n",
    "print(str.endswith())"
   ]
  },
  {
   "cell_type": "markdown",
   "metadata": {},
   "source": [
    "endswith - תשלימו את קוד כך שיודפס<br>\n",
    "true<br>\n",
    "false "
   ]
  },
  {
   "cell_type": "code",
   "execution_count": 20,
   "metadata": {},
   "outputs": [
    {
     "name": "stdout",
     "output_type": "stream",
     "text": [
      "Hello 1!\n"
     ]
    }
   ],
   "source": [
    "s1 = \"Hello name!\"\n",
    "name = input(\"Enter your name: \")\n",
    "s2 = s1.replace(\"name\", name)\n",
    "print(s2)"
   ]
  },
  {
   "cell_type": "markdown",
   "metadata": {},
   "source": [
    "replace - מה הפונקציה מחזירה?"
   ]
  },
  {
   "cell_type": "code",
   "execution_count": 21,
   "metadata": {},
   "outputs": [
    {
     "name": "stdout",
     "output_type": "stream",
     "text": [
      "True\n",
      "False\n",
      "False\n",
      "True\n"
     ]
    }
   ],
   "source": [
    "print(\"1234\".isnumeric())\n",
    "print(\"1234\".isalpha())\n",
    "print(\"abcd\".isnumeric())\n",
    "print(\"abcd\".isalpha())\n"
   ]
  },
  {
   "cell_type": "markdown",
   "metadata": {},
   "source": [
    "isnumeric(), isalpha()<br>\n",
    "מה הפונקציות מחזירות?"
   ]
  },
  {
   "cell_type": "code",
   "execution_count": 22,
   "metadata": {},
   "outputs": [
    {
     "name": "stdout",
     "output_type": "stream",
     "text": [
      "False\n",
      "False\n"
     ]
    }
   ],
   "source": [
    "print(\"-1234\".isnumeric())\n",
    "print(\"-1234\".isalpha())"
   ]
  },
  {
   "cell_type": "markdown",
   "metadata": {},
   "source": [
    "false - למה שניהם החזירו?"
   ]
  },
  {
   "cell_type": "code",
   "execution_count": 23,
   "metadata": {},
   "outputs": [
    {
     "name": "stdout",
     "output_type": "stream",
     "text": [
      "ABCDEF\n",
      "abcdef\n"
     ]
    }
   ],
   "source": [
    "print(\"abcdef\".upper())\n",
    "print(\"ABCDEF\".lower())"
   ]
  },
  {
   "cell_type": "markdown",
   "metadata": {},
   "source": [
    "upper(), lower()<br>\n",
    "מה הפונקציות מחזירות?"
   ]
  },
  {
   "cell_type": "code",
   "execution_count": 24,
   "metadata": {},
   "outputs": [
    {
     "name": "stdout",
     "output_type": "stream",
     "text": [
      "False\n",
      "False\n"
     ]
    }
   ],
   "source": [
    "s1 = \"One two THree\"\n",
    "s2 = \"one TWO three\"\n",
    "print(s1 == s2)\n",
    "print(s1 == s2)"
   ]
  },
  {
   "cell_type": "markdown",
   "metadata": {},
   "source": [
    "תשתמשו בפונקציות<br>\n",
    "upper() lower()<br>\n",
    "כך שיודפס<br>\n",
    "true<br>\n",
    "true"
   ]
  }
 ],
 "metadata": {
  "kernelspec": {
   "display_name": "Python 3",
   "language": "python",
   "name": "python3"
  },
  "language_info": {
   "codemirror_mode": {
    "name": "ipython",
    "version": 3
   },
   "file_extension": ".py",
   "mimetype": "text/x-python",
   "name": "python",
   "nbconvert_exporter": "python",
   "pygments_lexer": "ipython3",
   "version": "3.12.1"
  }
 },
 "nbformat": 4,
 "nbformat_minor": 2
}
