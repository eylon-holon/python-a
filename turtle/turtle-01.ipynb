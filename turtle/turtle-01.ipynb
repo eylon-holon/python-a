{
 "cells": [
  {
   "cell_type": "code",
   "execution_count": 1,
   "metadata": {},
   "outputs": [
    {
     "data": {
      "application/vnd.jupyter.widget-view+json": {
       "model_id": "3fbc9935821f460c85cbbeb3f66a41df",
       "version_major": 2,
       "version_minor": 0
      },
      "text/plain": [
       "Canvas(width=500)"
      ]
     },
     "metadata": {},
     "output_type": "display_data"
    }
   ],
   "source": [
    "import jturtle\n",
    "t = jturtle.Turtle()\n",
    "\n",
    "t.forward(200)\n",
    "t.left(90)\n",
    "t.forward(200)\n",
    "t.left(90)\n",
    "t.forward(200)\n",
    "t.left(90)\n",
    "t.forward(200)\n",
    "t.left(90)"
   ]
  },
  {
   "cell_type": "markdown",
   "metadata": {},
   "source": [
    "![](img/turtle-commands.png)"
   ]
  },
  {
   "cell_type": "markdown",
   "metadata": {},
   "source": [
    "---"
   ]
  },
  {
   "cell_type": "markdown",
   "metadata": {},
   "source": [
    "![](img/turtle-q02.png)"
   ]
  },
  {
   "cell_type": "code",
   "execution_count": 7,
   "metadata": {},
   "outputs": [
    {
     "data": {
      "application/vnd.jupyter.widget-view+json": {
       "model_id": "088e7ccdd3464db283f3b44db7a61348",
       "version_major": 2,
       "version_minor": 0
      },
      "text/plain": [
       "Canvas(width=500)"
      ]
     },
     "metadata": {},
     "output_type": "display_data"
    }
   ],
   "source": [
    "import jturtle\n",
    "t = jturtle.Turtle()\n",
    "t.forward(50)\n",
    "t.left(90)\n",
    "t.forward(100)\n",
    "t.left(90)\n",
    "t.forward(25)"
   ]
  },
  {
   "cell_type": "code",
   "execution_count": 16,
   "metadata": {},
   "outputs": [
    {
     "data": {
      "application/vnd.jupyter.widget-view+json": {
       "model_id": "acfba4d3c4b54bff8ba8184d5c67698a",
       "version_major": 2,
       "version_minor": 0
      },
      "text/plain": [
       "Canvas(width=500)"
      ]
     },
     "metadata": {},
     "output_type": "display_data"
    }
   ],
   "source": [
    "import jturtle\n",
    "t = jturtle.Turtle()\n",
    "t.forward(90)\n",
    "t.left(120)\n",
    "t.forward(90)\n",
    "t.left(120)\n",
    "t.forward(90)"
   ]
  },
  {
   "cell_type": "code",
   "execution_count": 18,
   "metadata": {},
   "outputs": [
    {
     "data": {
      "application/vnd.jupyter.widget-view+json": {
       "model_id": "c62aca20b4ad4b9ab2dd69cdf6c2ec64",
       "version_major": 2,
       "version_minor": 0
      },
      "text/plain": [
       "Canvas(width=500)"
      ]
     },
     "metadata": {},
     "output_type": "display_data"
    }
   ],
   "source": [
    "import jturtle\n",
    "t = jturtle.Turtle()\n",
    "t.forward(100)\n",
    "t.right(90)\n",
    "t.forward(120)\n",
    "t.left(90)\n",
    "t.forward(100)"
   ]
  },
  {
   "cell_type": "markdown",
   "metadata": {},
   "source": [
    "![](img/turtle-q01.png)"
   ]
  },
  {
   "cell_type": "code",
   "execution_count": null,
   "metadata": {},
   "outputs": [],
   "source": [
    "import jturtle\n",
    "t = jturtle.Turtle()\n"
   ]
  },
  {
   "cell_type": "markdown",
   "metadata": {},
   "source": [
    "![](img/turtle-q03.png)"
   ]
  },
  {
   "cell_type": "code",
   "execution_count": null,
   "metadata": {},
   "outputs": [],
   "source": [
    "import jturtle\n",
    "t = jturtle.Turtle()\n"
   ]
  },
  {
   "cell_type": "markdown",
   "metadata": {},
   "source": [
    "![](img/turtle-q04.png)"
   ]
  },
  {
   "cell_type": "code",
   "execution_count": null,
   "metadata": {},
   "outputs": [],
   "source": [
    "import jturtle\n",
    "t = jturtle.Turtle()\n"
   ]
  },
  {
   "cell_type": "markdown",
   "metadata": {},
   "source": [
    "![](img/turtle-q05.png)"
   ]
  },
  {
   "cell_type": "code",
   "execution_count": null,
   "metadata": {},
   "outputs": [],
   "source": [
    "import jturtle\n",
    "t = jturtle.Turtle()\n"
   ]
  },
  {
   "cell_type": "markdown",
   "metadata": {},
   "source": [
    "![](img/turtle-q06.png)"
   ]
  },
  {
   "cell_type": "code",
   "execution_count": null,
   "metadata": {},
   "outputs": [],
   "source": [
    "import jturtle\n",
    "t = jturtle.Turtle()\n"
   ]
  },
  {
   "cell_type": "markdown",
   "metadata": {},
   "source": [
    "![](img/turtle-q07.png)"
   ]
  },
  {
   "cell_type": "code",
   "execution_count": null,
   "metadata": {},
   "outputs": [],
   "source": [
    "import jturtle\n",
    "t = jturtle.Turtle()\n"
   ]
  }
 ],
 "metadata": {
  "kernelspec": {
   "display_name": "Python 3",
   "language": "python",
   "name": "python3"
  },
  "language_info": {
   "codemirror_mode": {
    "name": "ipython",
    "version": 3
   },
   "file_extension": ".py",
   "mimetype": "text/x-python",
   "name": "python",
   "nbconvert_exporter": "python",
   "pygments_lexer": "ipython3",
   "version": "3.12.1"
  }
 },
 "nbformat": 4,
 "nbformat_minor": 2
}
