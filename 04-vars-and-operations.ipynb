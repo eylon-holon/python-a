{
 "cells": [
  {
   "cell_type": "markdown",
   "metadata": {},
   "source": [
    "---\n",
    "מה העבדל בין שני קטעי קוד"
   ]
  },
  {
   "cell_type": "code",
   "execution_count": null,
   "metadata": {},
   "outputs": [],
   "source": [
    "n1 = input(\"Enter number one\")\n",
    "n2 = input(\"Enter number two\")\n",
    "print(n1 + n2)"
   ]
  },
  {
   "cell_type": "code",
   "execution_count": null,
   "metadata": {},
   "outputs": [],
   "source": [
    "n1 = int(input(\"Enter number one\"))\n",
    "n2 = int(input(\"Enter number two\"))\n",
    "print(n1 + n2)"
   ]
  },
  {
   "cell_type": "markdown",
   "metadata": {},
   "source": [
    "יכולים להיות לא רק מספר אלא גם מילה ובקוד השני הם חייבים להיות מספר n1 and n2 ההבדל הוא שבראשון"
   ]
  },
  {
   "cell_type": "markdown",
   "metadata": {},
   "source": [
    "---\n",
    "מה קוד הבא עושה?"
   ]
  },
  {
   "cell_type": "code",
   "execution_count": null,
   "metadata": {},
   "outputs": [],
   "source": [
    "def plus(a, b):\n",
    "    return a + b\n",
    "\n",
    "x = plus(10, 20)\n",
    "print(x)\n",
    "    "
   ]
  },
  {
   "cell_type": "markdown",
   "metadata": {},
   "source": [
    "x יוצר פונקציה של חיבור בין שני מספרים משתמש בפונקציה הזאת כדי לחבר את שני המספרים ומכניס אותם לתוך"
   ]
  },
  {
   "cell_type": "markdown",
   "metadata": {},
   "source": [
    "---\n",
    "מה קוד הבא אמור לעושה?"
   ]
  },
  {
   "cell_type": "code",
   "execution_count": 7,
   "metadata": {},
   "outputs": [],
   "source": [
    "def do_math(a, math, b):\n",
    "    if math == \"+\": return a + b\n",
    "    if math == \"-\": return a - b\n",
    "    if math == \"*\": return a * b\n",
    "    if math == \"/\": return a / b\n",
    "    return \"I don't know what is: \" + math"
   ]
  },
  {
   "cell_type": "code",
   "execution_count": null,
   "metadata": {},
   "outputs": [],
   "source": [
    "print(do_math(10, \"+\", 20))\n",
    "print(do_math(10, \"-\", 20))\n",
    "print(do_math(10, \"*\", 20))\n",
    "print(do_math(10, \"/\", 20))"
   ]
  },
  {
   "cell_type": "markdown",
   "metadata": {},
   "source": [
    "לתת פעולות בין 2 מספרים על פי מחרוזות"
   ]
  },
  {
   "cell_type": "markdown",
   "metadata": {},
   "source": [
    "למה קוד הבא לא עובד?\n",
    "<br>\n",
    "הוסיפו שורות קוד בפונקציה \n",
    "<br>\n",
    "do_math()\n",
    "<br>\n",
    "כך שזה כן יעבוד\n",
    "<br>\n",
    "מה זה עושה?"
   ]
  },
  {
   "cell_type": "code",
   "execution_count": 10,
   "metadata": {},
   "outputs": [],
   "source": [
    "def do_math2(a, math, b):\n",
    "    if math == \"+\": return a + b\n",
    "    if math == \"-\": return a - b\n",
    "    if math == \"*\": return a * b\n",
    "    if math == \"/\": return a / b\n",
    "    if math == \"%\": return a % b\n",
    "    if math == \"//\": return a // b\n",
    "    return \"I don't know what is: \" + math"
   ]
  },
  {
   "cell_type": "code",
   "execution_count": 3,
   "metadata": {},
   "outputs": [
    {
     "name": "stdout",
     "output_type": "stream",
     "text": [
      "7\n",
      "1\n"
     ]
    }
   ],
   "source": [
    "print(do_math2(22, \"//\", 3))\n",
    "print(do_math2(22, \"%\", 3))"
   ]
  },
  {
   "cell_type": "markdown",
   "metadata": {},
   "source": [
    "תריצו את קוד הבא. האם זה עושה משמצפים?\n",
    "<br>\n",
    "תקנו טעעיות בקוד"
   ]
  },
  {
   "cell_type": "code",
   "execution_count": null,
   "metadata": {},
   "outputs": [],
   "source": [
    "def do_math2(a,  math, b):\n",
    "    if math == \"+\": return a + b\n",
    "    if math == \"-\": return a - b\n",
    "    if math == \"*\": return a * b\n",
    "    if math == \"/\": return a / b\n",
    "    if math == \"%\": return a % b\n",
    "    if math == \"//\": return a // b\n",
    "    return \"I don't know what is: \" + math"
   ]
  },
  {
   "cell_type": "code",
   "execution_count": 12,
   "metadata": {},
   "outputs": [
    {
     "name": "stdout",
     "output_type": "stream",
     "text": [
      "11\n"
     ]
    }
   ],
   "source": [
    "a = int(input(\"Enter first number\"))\n",
    "math = str(input(\"Enter math operator\"))\n",
    "b = int(input(\"Enter second number\"))\n",
    "\n",
    "print(do_math2(a, math, b))"
   ]
  },
  {
   "cell_type": "markdown",
   "metadata": {},
   "source": [
    "---\n",
    "מה קוד הבא עושה?\n",
    "<br>\n",
    "איך הוא עושה את זה?"
   ]
  },
  {
   "cell_type": "code",
   "execution_count": 18,
   "metadata": {},
   "outputs": [],
   "source": [
    "def printDigits(num):\n",
    "    while (num > 0):\n",
    "        print(num % 10)\n",
    "        num = num // 10\n"
   ]
  },
  {
   "cell_type": "code",
   "execution_count": 19,
   "metadata": {},
   "outputs": [
    {
     "name": "stdout",
     "output_type": "stream",
     "text": [
      "5\n",
      "                                123\n",
      "4\n",
      "                                12\n",
      "3\n",
      "                                1\n",
      "2\n",
      "                                0\n",
      "1\n",
      "                                0\n"
     ]
    }
   ],
   "source": [
    "printDigits(12345)"
   ]
  },
  {
   "cell_type": "markdown",
   "metadata": {},
   "source": [
    "גדול מ 0 numבעזרת חילוק של עשר והדפסה של שאריות ולהיפטר מהם כל עוד ש num מדפיס את הספרות של"
   ]
  },
  {
   "cell_type": "markdown",
   "metadata": {},
   "source": [
    "---\n",
    "מה קוד הבא עושה?\n",
    "<br>\n",
    "איך הוא עושה את זה?"
   ]
  },
  {
   "cell_type": "code",
   "execution_count": 2,
   "metadata": {},
   "outputs": [],
   "source": [
    "def secret(num):\n",
    "    sod = 0\n",
    "    while (num > 0):\n",
    "        sod = sod + num % 10\n",
    "        num = num // 10\n",
    "    return sod"
   ]
  },
  {
   "cell_type": "code",
   "execution_count": 4,
   "metadata": {},
   "outputs": [
    {
     "name": "stdout",
     "output_type": "stream",
     "text": [
      "45\n"
     ]
    }
   ],
   "source": [
    "print(secret(123456789))\n"
   ]
  },
  {
   "cell_type": "markdown",
   "metadata": {},
   "source": [
    "קטנים מ0  num וממשיך זאת עד שהמספרים ב sod חילוק ב 10 הוא מוציא את השארית מכניס לתוך   num הפונקציה מחברת את כל המספרים הנמצאים בתוך "
   ]
  },
  {
   "cell_type": "code",
   "execution_count": 5,
   "metadata": {},
   "outputs": [
    {
     "name": "stdout",
     "output_type": "stream",
     "text": [
      "45\n",
      "9\n",
      "9\n"
     ]
    }
   ],
   "source": [
    "print(secret(123456789))\n",
    "print(secret(secret(123456789)))\n",
    "print(secret(secret(secret(123456789))))"
   ]
  },
  {
   "cell_type": "code",
   "execution_count": 1,
   "metadata": {},
   "outputs": [
    {
     "ename": "TclError",
     "evalue": "no display name and no $DISPLAY environment variable",
     "output_type": "error",
     "traceback": [
      "\u001b[0;31m---------------------------------------------------------------------------\u001b[0m",
      "\u001b[0;31mTclError\u001b[0m                                  Traceback (most recent call last)",
      "Cell \u001b[0;32mIn[1], line 2\u001b[0m\n\u001b[1;32m      1\u001b[0m \u001b[38;5;28;01mimport\u001b[39;00m \u001b[38;5;21;01mturtle\u001b[39;00m\n\u001b[0;32m----> 2\u001b[0m t \u001b[38;5;241m=\u001b[39m \u001b[43mturtle\u001b[49m\u001b[38;5;241;43m.\u001b[39;49m\u001b[43mTurtle\u001b[49m\u001b[43m(\u001b[49m\u001b[43m)\u001b[49m\n\u001b[1;32m      3\u001b[0m t\u001b[38;5;241m.\u001b[39mspeed(\u001b[38;5;241m5\u001b[39m) \u001b[38;5;66;03m# 1:slowest, 3:slow, 5:normal, 10:fast, 0:fastest\u001b[39;00m\n\u001b[1;32m      4\u001b[0m t\u001b[38;5;241m.\u001b[39mforward(\u001b[38;5;241m20\u001b[39m)\n",
      "File \u001b[0;32m/usr/local/python/3.12.1/lib/python3.12/turtle.py:3875\u001b[0m, in \u001b[0;36mTurtle.__init__\u001b[0;34m(self, shape, undobuffersize, visible)\u001b[0m\n\u001b[1;32m   3870\u001b[0m \u001b[38;5;28;01mdef\u001b[39;00m \u001b[38;5;21m__init__\u001b[39m(\u001b[38;5;28mself\u001b[39m,\n\u001b[1;32m   3871\u001b[0m              shape\u001b[38;5;241m=\u001b[39m_CFG[\u001b[38;5;124m\"\u001b[39m\u001b[38;5;124mshape\u001b[39m\u001b[38;5;124m\"\u001b[39m],\n\u001b[1;32m   3872\u001b[0m              undobuffersize\u001b[38;5;241m=\u001b[39m_CFG[\u001b[38;5;124m\"\u001b[39m\u001b[38;5;124mundobuffersize\u001b[39m\u001b[38;5;124m\"\u001b[39m],\n\u001b[1;32m   3873\u001b[0m              visible\u001b[38;5;241m=\u001b[39m_CFG[\u001b[38;5;124m\"\u001b[39m\u001b[38;5;124mvisible\u001b[39m\u001b[38;5;124m\"\u001b[39m]):\n\u001b[1;32m   3874\u001b[0m     \u001b[38;5;28;01mif\u001b[39;00m Turtle\u001b[38;5;241m.\u001b[39m_screen \u001b[38;5;129;01mis\u001b[39;00m \u001b[38;5;28;01mNone\u001b[39;00m:\n\u001b[0;32m-> 3875\u001b[0m         Turtle\u001b[38;5;241m.\u001b[39m_screen \u001b[38;5;241m=\u001b[39m \u001b[43mScreen\u001b[49m\u001b[43m(\u001b[49m\u001b[43m)\u001b[49m\n\u001b[1;32m   3876\u001b[0m     RawTurtle\u001b[38;5;241m.\u001b[39m\u001b[38;5;21m__init__\u001b[39m(\u001b[38;5;28mself\u001b[39m, Turtle\u001b[38;5;241m.\u001b[39m_screen,\n\u001b[1;32m   3877\u001b[0m                        shape\u001b[38;5;241m=\u001b[39mshape,\n\u001b[1;32m   3878\u001b[0m                        undobuffersize\u001b[38;5;241m=\u001b[39mundobuffersize,\n\u001b[1;32m   3879\u001b[0m                        visible\u001b[38;5;241m=\u001b[39mvisible)\n",
      "File \u001b[0;32m/usr/local/python/3.12.1/lib/python3.12/turtle.py:3730\u001b[0m, in \u001b[0;36mScreen\u001b[0;34m()\u001b[0m\n\u001b[1;32m   3726\u001b[0m \u001b[38;5;250m\u001b[39m\u001b[38;5;124;03m\"\"\"Return the singleton screen object.\u001b[39;00m\n\u001b[1;32m   3727\u001b[0m \u001b[38;5;124;03mIf none exists at the moment, create a new one and return it,\u001b[39;00m\n\u001b[1;32m   3728\u001b[0m \u001b[38;5;124;03melse return the existing one.\"\"\"\u001b[39;00m\n\u001b[1;32m   3729\u001b[0m \u001b[38;5;28;01mif\u001b[39;00m Turtle\u001b[38;5;241m.\u001b[39m_screen \u001b[38;5;129;01mis\u001b[39;00m \u001b[38;5;28;01mNone\u001b[39;00m:\n\u001b[0;32m-> 3730\u001b[0m     Turtle\u001b[38;5;241m.\u001b[39m_screen \u001b[38;5;241m=\u001b[39m \u001b[43m_Screen\u001b[49m\u001b[43m(\u001b[49m\u001b[43m)\u001b[49m\n\u001b[1;32m   3731\u001b[0m \u001b[38;5;28;01mreturn\u001b[39;00m Turtle\u001b[38;5;241m.\u001b[39m_screen\n",
      "File \u001b[0;32m/usr/local/python/3.12.1/lib/python3.12/turtle.py:3741\u001b[0m, in \u001b[0;36m_Screen.__init__\u001b[0;34m(self)\u001b[0m\n\u001b[1;32m   3739\u001b[0m \u001b[38;5;28;01mdef\u001b[39;00m \u001b[38;5;21m__init__\u001b[39m(\u001b[38;5;28mself\u001b[39m):\n\u001b[1;32m   3740\u001b[0m     \u001b[38;5;28;01mif\u001b[39;00m _Screen\u001b[38;5;241m.\u001b[39m_root \u001b[38;5;129;01mis\u001b[39;00m \u001b[38;5;28;01mNone\u001b[39;00m:\n\u001b[0;32m-> 3741\u001b[0m         _Screen\u001b[38;5;241m.\u001b[39m_root \u001b[38;5;241m=\u001b[39m \u001b[38;5;28mself\u001b[39m\u001b[38;5;241m.\u001b[39m_root \u001b[38;5;241m=\u001b[39m \u001b[43m_Root\u001b[49m\u001b[43m(\u001b[49m\u001b[43m)\u001b[49m\n\u001b[1;32m   3742\u001b[0m         \u001b[38;5;28mself\u001b[39m\u001b[38;5;241m.\u001b[39m_root\u001b[38;5;241m.\u001b[39mtitle(_Screen\u001b[38;5;241m.\u001b[39m_title)\n\u001b[1;32m   3743\u001b[0m         \u001b[38;5;28mself\u001b[39m\u001b[38;5;241m.\u001b[39m_root\u001b[38;5;241m.\u001b[39mondestroy(\u001b[38;5;28mself\u001b[39m\u001b[38;5;241m.\u001b[39m_destroy)\n",
      "File \u001b[0;32m/usr/local/python/3.12.1/lib/python3.12/turtle.py:430\u001b[0m, in \u001b[0;36m_Root.__init__\u001b[0;34m(self)\u001b[0m\n\u001b[1;32m    429\u001b[0m \u001b[38;5;28;01mdef\u001b[39;00m \u001b[38;5;21m__init__\u001b[39m(\u001b[38;5;28mself\u001b[39m):\n\u001b[0;32m--> 430\u001b[0m     \u001b[43mTK\u001b[49m\u001b[38;5;241;43m.\u001b[39;49m\u001b[43mTk\u001b[49m\u001b[38;5;241;43m.\u001b[39;49m\u001b[38;5;21;43m__init__\u001b[39;49m\u001b[43m(\u001b[49m\u001b[38;5;28;43mself\u001b[39;49m\u001b[43m)\u001b[49m\n",
      "File \u001b[0;32m/usr/local/python/3.12.1/lib/python3.12/tkinter/__init__.py:2340\u001b[0m, in \u001b[0;36mTk.__init__\u001b[0;34m(self, screenName, baseName, className, useTk, sync, use)\u001b[0m\n\u001b[1;32m   2338\u001b[0m         baseName \u001b[38;5;241m=\u001b[39m baseName \u001b[38;5;241m+\u001b[39m ext\n\u001b[1;32m   2339\u001b[0m interactive \u001b[38;5;241m=\u001b[39m \u001b[38;5;28;01mFalse\u001b[39;00m\n\u001b[0;32m-> 2340\u001b[0m \u001b[38;5;28mself\u001b[39m\u001b[38;5;241m.\u001b[39mtk \u001b[38;5;241m=\u001b[39m \u001b[43m_tkinter\u001b[49m\u001b[38;5;241;43m.\u001b[39;49m\u001b[43mcreate\u001b[49m\u001b[43m(\u001b[49m\u001b[43mscreenName\u001b[49m\u001b[43m,\u001b[49m\u001b[43m \u001b[49m\u001b[43mbaseName\u001b[49m\u001b[43m,\u001b[49m\u001b[43m \u001b[49m\u001b[43mclassName\u001b[49m\u001b[43m,\u001b[49m\u001b[43m \u001b[49m\u001b[43minteractive\u001b[49m\u001b[43m,\u001b[49m\u001b[43m \u001b[49m\u001b[43mwantobjects\u001b[49m\u001b[43m,\u001b[49m\u001b[43m \u001b[49m\u001b[43museTk\u001b[49m\u001b[43m,\u001b[49m\u001b[43m \u001b[49m\u001b[43msync\u001b[49m\u001b[43m,\u001b[49m\u001b[43m \u001b[49m\u001b[43muse\u001b[49m\u001b[43m)\u001b[49m\n\u001b[1;32m   2341\u001b[0m \u001b[38;5;28;01mif\u001b[39;00m useTk:\n\u001b[1;32m   2342\u001b[0m     \u001b[38;5;28mself\u001b[39m\u001b[38;5;241m.\u001b[39m_loadtk()\n",
      "\u001b[0;31mTclError\u001b[0m: no display name and no $DISPLAY environment variable"
     ]
    }
   ],
   "source": [
    "import turtle\n",
    "t = turtle.Turtle()\n",
    "t.speed(5) # 1:slowest, 3:slow, 5:normal, 10:fast, 0:fastest\n",
    "t.forward(20)\n",
    "t.penup()\n",
    "t.forward(10)\n",
    "t.pendown()\n",
    "t.forward(20)\n",
    "t.left(90)\n",
    "t.forward(50)\n",
    "t.left(90)\n",
    "t.forward(50)\n",
    "t.left(90)\n",
    "t.forward(50)\n",
    "t.left(90)\n",
    "t.forward(20)\n",
    "t.left(90)\n",
    "t.forward(25)\n",
    "t.right(90)\n",
    "t.forward(10)\n",
    "t.right(90)\n",
    "t.forward(25)\n",
    "t.right(90)\n",
    "t.forward(10)\n",
    "t.penup()\n",
    "t.goto(0,50)\n",
    "t.right(90)\n",
    "t.pendown()\n",
    "t.color(\"red\")\n",
    "t.right(45)\n",
    "t.forward(37)\n",
    "t.right(90)\n",
    "t.forward(37)\n",
    "t.penup()\n",
    "t.goto(5,45)\n",
    "t.pendown()\n",
    "t.right(45)\n",
    "t.color(\"cyan\")\n",
    "t.forward(10)\n",
    "t.left(90)\n",
    "t.forward(10)\n",
    "t.left(90)\n",
    "t.forward(10)\n",
    "t.left(90)\n",
    "t.forward(10)\n",
    "t.penup()\n",
    "t.goto(35,45)\n",
    "t.pendown()\n",
    "t.left(90)\n",
    "t.forward(10)\n",
    "t.left(90)\n",
    "t.forward(10)\n",
    "t.left(90)\n",
    "t.forward(10)\n",
    "t.left(90)\n",
    "t.forward(10)\n",
    "t.left(90)\n",
    "t.penup()\n",
    "t.goto(-35,0)\n",
    "t.pendown()\n",
    "t.color(\"black\")\n",
    "t.circle(5)\n",
    "t.penup()\n",
    "t.goto(-57,0)\n",
    "t.pendown()\n",
    "t.color(\"black\")\n",
    "t.circle(5)\n",
    "t.penup()\n",
    "t.goto(-57,7)\n",
    "t.pendown()\n",
    "t.left(90)\n",
    "t.forward(35)\n",
    "t.left(90)\n",
    "t.forward(20)\n",
    "t.left(90)\n",
    "t.forward(25)\n",
    "t.left(90)\n",
    "t.forward(10)\n",
    "t.right(90)\n",
    "t.forward(10)\n",
    "t.left(90)\n",
    "t.forward(10)\n",
    "t.penup\n",
    "t.left(180)\n",
    "t.forward(10)\n",
    "t.right(90)\n",
    "t.forward(10)\n",
    "t.left(90)\n",
    "t.forward(10)\n",
    "t.right(90)\n",
    "t.color(\"cyan\")\n",
    "t.forward(13)\n",
    "t.right(90)\n",
    "t.forward(10)\n",
    "t.right(90)\n",
    "t.forward(13)\n",
    "t.right(90)\n",
    "t.forward(10)\n",
    "t.right(90)\n",
    "t.forward(10)"
   ]
  }
 ],
 "metadata": {
  "kernelspec": {
   "display_name": "Python 3",
   "language": "python",
   "name": "python3"
  },
  "language_info": {
   "codemirror_mode": {
    "name": "ipython",
    "version": 3
   },
   "file_extension": ".py",
   "mimetype": "text/x-python",
   "name": "python",
   "nbconvert_exporter": "python",
   "pygments_lexer": "ipython3",
   "version": "3.12.1"
  }
 },
 "nbformat": 4,
 "nbformat_minor": 2
}
