{
 "cells": [
  {
   "cell_type": "markdown",
   "metadata": {},
   "source": [
    "---\n",
    "מה העבדל בין שני קטעי קוד"
   ]
  },
  {
   "cell_type": "code",
   "execution_count": null,
   "metadata": {},
   "outputs": [],
   "source": [
    "n1 = input(\"Enter number one\")\n",
    "n2 = input(\"Enter number two\")\n",
    "print(n1 + n2)"
   ]
  },
  {
   "cell_type": "code",
   "execution_count": null,
   "metadata": {},
   "outputs": [],
   "source": [
    "n1 = int(input(\"Enter number one\"))\n",
    "n2 = int(input(\"Enter number two\"))\n",
    "print(n1 + n2)"
   ]
  },
  {
   "cell_type": "markdown",
   "metadata": {},
   "source": [
    "יכולים להיות לא רק מספר אלא גם מילה ובקוד השני הם חייבים להיות מספר n1 and n2 ההבדל הוא שבראשון"
   ]
  },
  {
   "cell_type": "markdown",
   "metadata": {},
   "source": [
    "---\n",
    "מה קוד הבא עושה?"
   ]
  },
  {
   "cell_type": "code",
   "execution_count": null,
   "metadata": {},
   "outputs": [],
   "source": [
    "def plus(a, b):\n",
    "    return a + b\n",
    "\n",
    "x = plus(10, 20)\n",
    "print(x)\n",
    "    "
   ]
  },
  {
   "cell_type": "markdown",
   "metadata": {},
   "source": [
    "x יוצר פונקציה של חיבור בין שני מספרים משתמש בפונקציה הזאת כדי לחבר את שני המספרים ומכניס אותם לתוך"
   ]
  },
  {
   "cell_type": "markdown",
   "metadata": {},
   "source": [
    "---\n",
    "מה קוד הבא אמור לעושה?"
   ]
  },
  {
   "cell_type": "code",
   "execution_count": 7,
   "metadata": {},
   "outputs": [],
   "source": [
    "def do_math(a, math, b):\n",
    "    if math == \"+\": return a + b\n",
    "    if math == \"-\": return a - b\n",
    "    if math == \"*\": return a * b\n",
    "    if math == \"/\": return a / b\n",
    "    return \"I don't know what is: \" + math"
   ]
  },
  {
   "cell_type": "code",
   "execution_count": null,
   "metadata": {},
   "outputs": [],
   "source": [
    "print(do_math(10, \"+\", 20))\n",
    "print(do_math(10, \"-\", 20))\n",
    "print(do_math(10, \"*\", 20))\n",
    "print(do_math(10, \"/\", 20))"
   ]
  },
  {
   "cell_type": "markdown",
   "metadata": {},
   "source": [
    "לתת פעולות בין 2 מספרים על פי מחרוזות"
   ]
  },
  {
   "cell_type": "markdown",
   "metadata": {},
   "source": [
    "למה קוד הבא לא עובד?\n",
    "<br>\n",
    "הוסיפו שורות קוד בפונקציה \n",
    "<br>\n",
    "do_math()\n",
    "<br>\n",
    "כך שזה כן יעבוד\n",
    "<br>\n",
    "מה זה עושה?"
   ]
  },
  {
   "cell_type": "code",
   "execution_count": null,
   "metadata": {},
   "outputs": [],
   "source": [
    "def do_math2(a, math, b):\n",
    "    if math == \"+\": return a + b\n",
    "    if math == \"-\": return a - b\n",
    "    if math == \"*\": return a * b\n",
    "    if math == \"/\": return a / b\n",
    "    if math == \"%\": return a % b\n",
    "    if math == \"//\": return a // b\n",
    "    return \"I don't know what is: \" + math"
   ]
  },
  {
   "cell_type": "code",
   "execution_count": null,
   "metadata": {},
   "outputs": [],
   "source": [
    "print(do_math(22, \"//\", 3))\n",
    "print(do_math(22, \"%\", 3))"
   ]
  },
  {
   "cell_type": "markdown",
   "metadata": {},
   "source": [
    "תריצו את קוד הבא. האם זה עושה משמצפים?\n",
    "<br>\n",
    "תקנו טעעיות בקוד"
   ]
  },
  {
   "cell_type": "code",
   "execution_count": null,
   "metadata": {},
   "outputs": [],
   "source": [
    "def do_math2(a,  math, b):\n",
    "    if math == \"+\": return a + b\n",
    "    if math == \"-\": return a - b\n",
    "    if math == \"*\": return a * b\n",
    "    if math == \"/\": return a / b\n",
    "    if math == \"%\": return a % b\n",
    "    if math == \"//\": return a // b\n",
    "    return \"I don't know what is: \" + math"
   ]
  },
  {
   "cell_type": "code",
   "execution_count": null,
   "metadata": {},
   "outputs": [],
   "source": [
    "a = input(\"Enter first number\")\n",
    "math = input(\"Enter math operator\")\n",
    "b = input(\"Enter second number\")\n",
    "\n",
    "print(do_math(a, math, b))"
   ]
  },
  {
   "cell_type": "markdown",
   "metadata": {},
   "source": [
    "---\n",
    "מה קוד הבא עושה?\n",
    "<br>\n",
    "איך הוא עושה את זה?"
   ]
  },
  {
   "cell_type": "code",
   "execution_count": 2,
   "metadata": {},
   "outputs": [],
   "source": [
    "def printDigits(num):\n",
    "    while (num > 0):\n",
    "        print(num % 10)\n",
    "        num = num // 10"
   ]
  },
  {
   "cell_type": "code",
   "execution_count": null,
   "metadata": {},
   "outputs": [],
   "source": [
    "printDigits(12345)"
   ]
  },
  {
   "cell_type": "markdown",
   "metadata": {},
   "source": [
    "0גדול מ numבעזרת חילוק של עשר והדפסה של שאריות ולהיפטר מהם כל עוד ש num מדפיס את הספרות של"
   ]
  },
  {
   "cell_type": "markdown",
   "metadata": {},
   "source": [
    "---\n",
    "מה קוד הבא עושה?\n",
    "<br>\n",
    "איך הוא עושה את זה?"
   ]
  },
  {
   "cell_type": "code",
   "execution_count": 4,
   "metadata": {},
   "outputs": [],
   "source": [
    "def secret(num):\n",
    "    sod = 0\n",
    "    while (num > 0):\n",
    "        sod = sod + num % 10\n",
    "        num = num // 10\n",
    "    return sod"
   ]
  },
  {
   "cell_type": "code",
   "execution_count": null,
   "metadata": {},
   "outputs": [],
   "source": [
    "print(secret(123456789))"
   ]
  },
  {
   "cell_type": "markdown",
   "metadata": {},
   "source": [
    "0 קטנים מ num וממשיך זאת עד שהמספרים ב sod חילוק ב 10 הוא מוציא את השארית מכניס לתוך   num הפונקציה מחברת את כל המספרים הנמצאים בתוך "
   ]
  },
  {
   "cell_type": "code",
   "execution_count": null,
   "metadata": {},
   "outputs": [],
   "source": [
    "print(secret(123456789))\n",
    "print(secret(secret(123456789)))\n",
    "print(secret(secret(secret(123456789))))"
   ]
  }
 ],
 "metadata": {
  "kernelspec": {
   "display_name": "Python 3",
   "language": "python",
   "name": "python3"
  },
  "language_info": {
   "codemirror_mode": {
    "name": "ipython",
    "version": 3
   },
   "file_extension": ".py",
   "mimetype": "text/x-python",
   "name": "python",
   "nbconvert_exporter": "python",
   "pygments_lexer": "ipython3",
   "version": "3.11.9"
  }
 },
 "nbformat": 4,
 "nbformat_minor": 2
}
