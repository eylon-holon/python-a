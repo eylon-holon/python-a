{
 "cells": [
  {
   "cell_type": "markdown",
   "metadata": {},
   "source": [
    "---\n",
    "מה העבדל בין שני קטעי קוד\n",
    " הראשון מחבר שני מחרוזות והשני מחבר מספרים"
   ]
  },
  {
   "cell_type": "code",
   "execution_count": null,
   "metadata": {},
   "outputs": [],
   "source": [
    "n1 = input(\"Enter number one\")\n",
    "n2 = input(\"Enter number two\")\n",
    "print(n1 + n2)"
   ]
  },
  {
   "cell_type": "code",
   "execution_count": null,
   "metadata": {},
   "outputs": [],
   "source": [
    "n1 = int(input(\"Enter number one\"))\n",
    "n2 = int(input(\"Enter number two\"))\n",
    "print(n1 + n2)"
   ]
  },
  {
   "cell_type": "markdown",
   "metadata": {},
   "source": [
    "---\n",
    "מה קוד הבא עושה? \n",
    "מדפיס את a+b"
   ]
  },
  {
   "cell_type": "code",
   "execution_count": null,
   "metadata": {},
   "outputs": [],
   "source": [
    "def plus(a, b):\n",
    "    return a + b\n",
    "\n",
    "x = plus(10, 20)\n",
    "print(x)\n",
    "    "
   ]
  },
  {
   "cell_type": "markdown",
   "metadata": {},
   "source": [
    "---\n",
    "מה קוד הבא אמור לעושה?\n",
    "מחבר\\מחסר\\מחלק\\מכפיל 2 מספרים"
   ]
  },
  {
   "cell_type": "code",
   "execution_count": 1,
   "metadata": {},
   "outputs": [],
   "source": [
    "def do_math(a, math, b):\n",
    "    if math == \"+\": return a + b\n",
    "    if math == \"-\": return a - b\n",
    "    if math == \"*\": return a * b\n",
    "    if math == \"/\": return a / b\n",
    "    return \"I don't know what is: \" + math"
   ]
  },
  {
   "cell_type": "code",
   "execution_count": 2,
   "metadata": {},
   "outputs": [
    {
     "name": "stdout",
     "output_type": "stream",
     "text": [
      "30\n",
      "-10\n",
      "200\n",
      "0.5\n"
     ]
    }
   ],
   "source": [
    "print(do_math(10, \"+\", 20))\n",
    "print(do_math(10, \"-\", 20))\n",
    "print(do_math(10, \"*\", 20))\n",
    "print(do_math(10, \"/\", 20))"
   ]
  },
  {
   "cell_type": "markdown",
   "metadata": {},
   "source": [
    "למה קוד הבא לא עובד?\n",
    "כי אין כאלה פעולות בפונקציה\n",
    "<br>\n",
    "הוסיפו שורות קוד בפונקציה \n",
    "<br>\n",
    "do_math()\n",
    "<br>\n",
    "כך שזה כן יעבוד\n",
    "<br>\n",
    "מה זה עושה?\n",
    "מחבר את 4 ו5"
   ]
  },
  {
   "cell_type": "code",
   "execution_count": 9,
   "metadata": {},
   "outputs": [
    {
     "name": "stdout",
     "output_type": "stream",
     "text": [
      "I don't know what is: //\n",
      "I don't know what is: %\n",
      "9\n"
     ]
    }
   ],
   "source": [
    "print(do_math(22, \"//\", 3))\n",
    "print(do_math(22, \"%\", 3))\n",
    "print(do_math(4, \"+\", 5))"
   ]
  },
  {
   "cell_type": "markdown",
   "metadata": {},
   "source": [
    "תריצו את קוד הבא. האם זה עושה משמצפים?\n",
    "זה עושה בעיות\n",
    "<br>\n",
    "תקנו טעעיות בקוד"
   ]
  },
  {
   "cell_type": "code",
   "execution_count": 7,
   "metadata": {},
   "outputs": [
    {
     "name": "stdout",
     "output_type": "stream",
     "text": [
      "70\n"
     ]
    }
   ],
   "source": [
    "a = int(input(\"Enter first number\"))\n",
    "math = input(\"Enter math operator\")\n",
    "b = int(input(\"Enter second number\"))\n",
    "\n",
    "print(do_math(a, math, b))"
   ]
  },
  {
   "cell_type": "markdown",
   "metadata": {},
   "source": [
    "---\n",
    "מה קוד הבא עושה?\n",
    "הוא מוריד את המספר האחרון\n",
    "<br>\n",
    "איך הוא עושה את זה?\n",
    "% זה בודק מה השארית אם מחלקים את המספר במשהו"
   ]
  },
  {
   "cell_type": "code",
   "execution_count": null,
   "metadata": {},
   "outputs": [],
   "source": [
    "def printDigits(num):\n",
    "    while (num > 0):\n",
    "        print(num % 10)\n",
    "        num = num // 10"
   ]
  },
  {
   "cell_type": "code",
   "execution_count": 15,
   "metadata": {},
   "outputs": [
    {
     "name": "stdout",
     "output_type": "stream",
     "text": [
      "1234\n",
      "123\n",
      "12\n",
      "1\n",
      "0\n"
     ]
    }
   ],
   "source": [
    "printDigits(12345)"
   ]
  },
  {
   "cell_type": "markdown",
   "metadata": {},
   "source": [
    "---\n",
    "מה קוד הבא עושה?\n",
    "מחשב כמה שווה כל הספרות ביחד\n",
    "<br>\n",
    "איך הוא עושה את זה?\n",
    "הוא מחשב כמה שווה כל ספרה ומחניס אותה למשתנה שמוסיף את הספרה השלו ועוד הספרה האחרונה של מספר"
   ]
  },
  {
   "cell_type": "code",
   "execution_count": 16,
   "metadata": {},
   "outputs": [],
   "source": [
    "def secret(num):\n",
    "    sod = 0\n",
    "    while (num > 0):\n",
    "        sod = sod + num % 10\n",
    "        num = num // 10\n",
    "    return sod"
   ]
  },
  {
   "cell_type": "code",
   "execution_count": 17,
   "metadata": {},
   "outputs": [
    {
     "name": "stdout",
     "output_type": "stream",
     "text": [
      "45\n"
     ]
    }
   ],
   "source": [
    "print(secret(123456789))"
   ]
  },
  {
   "cell_type": "code",
   "execution_count": 18,
   "metadata": {},
   "outputs": [
    {
     "name": "stdout",
     "output_type": "stream",
     "text": [
      "45\n",
      "9\n",
      "9\n"
     ]
    }
   ],
   "source": [
    "print(secret(123456789))\n",
    "print(secret(secret(123456789)))\n",
    "print(secret(secret(secret(123456789))))"
   ]
  }
 ],
 "metadata": {
  "kernelspec": {
   "display_name": "Python 3",
   "language": "python",
   "name": "python3"
  },
  "language_info": {
   "codemirror_mode": {
    "name": "ipython",
    "version": 3
   },
   "file_extension": ".py",
   "mimetype": "text/x-python",
   "name": "python",
   "nbconvert_exporter": "python",
   "pygments_lexer": "ipython3",
   "version": "3.12.1"
  }
 },
 "nbformat": 4,
 "nbformat_minor": 2
}
