{
 "cells": [
  {
   "cell_type": "code",
   "execution_count": 1,
   "metadata": {},
   "outputs": [
    {
     "name": "stderr",
     "output_type": "stream",
     "text": [
      "From https://github.com/eylon-holon/python-a\n",
      "   e157f95..2759161  denis-demidenko    -> origin/denis-demidenko\n",
      "   5cd0a36..48f11b9  elad-gagulashvilly -> origin/elad-gagulashvilly\n",
      "   51c2b13..9be5654  itay-pony          -> origin/itay-pony\n",
      "   ef6ef8f..d84938f  itay-sigman        -> origin/itay-sigman\n",
      "   3f6cdc6..95ca45d  lior-ovadia        -> origin/lior-ovadia\n",
      "   544f0bf..d1cd12a  main               -> origin/main\n",
      "   697846e..df872be  maxim-haysenuk     -> origin/maxim-haysenuk\n",
      "   76302f4..6d2cc2b  monika-dovrolevski -> origin/monika-dovrolevski\n",
      "   9439f60..761f040  ofri-sharabi       -> origin/ofri-sharabi\n",
      "   efe6f9f..fbacf51  omri-grabli        -> origin/omri-grabli\n",
      "   87c12ae..db1089a  rotem-nahisi       -> origin/rotem-nahisi\n",
      "   2e91c15..0b9df4a  shay-yuhai         -> origin/shay-yuhai\n",
      "   ccf5ad3..468ed99  yahel-yunos        -> origin/yahel-yunos\n",
      "   83213e9..c8e0177  yair-bracha        -> origin/yair-bracha\n"
     ]
    },
    {
     "name": "stdout",
     "output_type": "stream",
     "text": [
      "Already up to date.\n",
      "\n",
      "\n",
      "[itay-habura ee07a7c] auto commit...\n",
      " 3 files changed, 102 insertions(+), 58 deletions(-)\n",
      "\n"
     ]
    },
    {
     "name": "stderr",
     "output_type": "stream",
     "text": [
      "To https://github.com/eylon-holon/python-a\n",
      "   eb32532..ee07a7c  itay-habura -> itay-habura\n"
     ]
    },
    {
     "name": "stdout",
     "output_type": "stream",
     "text": [
      "\n",
      "Merge made by the 'ort' strategy.\n",
      " mafmars/mafmar-a.solution.ipynb | 554 ++++++++++++++++++++++++++++++++++++++++\n",
      " 1 file changed, 554 insertions(+)\n",
      " create mode 100644 mafmars/mafmar-a.solution.ipynb\n",
      "\n",
      "\n"
     ]
    },
    {
     "name": "stderr",
     "output_type": "stream",
     "text": [
      "To https://github.com/eylon-holon/python-a\n",
      "   ee07a7c..6ec1d21  itay-habura -> itay-habura\n"
     ]
    }
   ],
   "source": [
    "from eylon.core import *\n",
    "store_all_changes_to_github()\n",
    "get_next_lesson()"
   ]
  }
 ],
 "metadata": {
  "kernelspec": {
   "display_name": "Python 3",
   "language": "python",
   "name": "python3"
  },
  "language_info": {
   "codemirror_mode": {
    "name": "ipython",
    "version": 3
   },
   "file_extension": ".py",
   "mimetype": "text/x-python",
   "name": "python",
   "nbconvert_exporter": "python",
   "pygments_lexer": "ipython3",
   "version": "3.12.1"
  }
 },
 "nbformat": 4,
 "nbformat_minor": 2
}
