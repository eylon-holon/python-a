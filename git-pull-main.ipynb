{
 "cells": [
  {
   "cell_type": "code",
   "execution_count": null,
   "metadata": {},
   "outputs": [
    {
     "name": "stderr",
     "output_type": "stream",
     "text": [
      "From https://github.com/eylon-holon/python-a\n",
      "   0939109..34a0ca6  gosha-smeh       -> origin/gosha-smeh\n",
      "   c65485a..d0f3680  itay-habura      -> origin/itay-habura\n",
      "   9be5654..4fb038b  itay-pony        -> origin/itay-pony\n",
      "   1b796bc..076d89b  lior-ovadia      -> origin/lior-ovadia\n",
      "   6a34f18..9d04dad  main             -> origin/main\n",
      "   342ad4e..e42f07a  maxim-haysenuk   -> origin/maxim-haysenuk\n",
      "   333c500..9aeb268  michal-landesman -> origin/michal-landesman\n"
     ]
    },
    {
     "name": "stdout",
     "output_type": "stream",
     "text": [
      "Already up to date.\n",
      "\n",
      "\n",
      "[michael-rosenhaiem 5022aae] auto commit...\n",
      " 2 files changed, 6 insertions(+), 16 deletions(-)\n",
      "\n"
     ]
    },
    {
     "name": "stderr",
     "output_type": "stream",
     "text": [
      "To https://github.com/eylon-holon/python-a\n",
      "   e81e283..5022aae  michael-rosenhaiem -> michael-rosenhaiem\n"
     ]
    },
    {
     "name": "stdout",
     "output_type": "stream",
     "text": [
      "\n",
      "Auto-merging mafmars/mafmar-b.ipynb\n",
      "Merge made by the 'ort' strategy.\n",
      " daf-ezer/algorithms.ipynb      |  99 +++++++\n",
      " daf-ezer/data-structures.ipynb |  27 ++\n",
      " daf-ezer/turtle.ipynb          |  43 +++\n",
      " daf-ezer/vars-and-ops.ipynb    | 632 +++++++++++++++++++++++++++++++++++++++++\n",
      " mafmars/mafmar-b.ipynb         |   6 +-\n",
      " 5 files changed, 804 insertions(+), 3 deletions(-)\n",
      " create mode 100644 daf-ezer/algorithms.ipynb\n",
      " create mode 100644 daf-ezer/data-structures.ipynb\n",
      " create mode 100644 daf-ezer/turtle.ipynb\n",
      " create mode 100644 daf-ezer/vars-and-ops.ipynb\n",
      "\n",
      "\n"
     ]
    },
    {
     "name": "stderr",
     "output_type": "stream",
     "text": [
      "To https://github.com/eylon-holon/python-a\n",
      "   5022aae..397931f  michael-rosenhaiem -> michael-rosenhaiem\n"
     ]
    }
   ],
   "source": [
    "\n",
    "from eylon.core import *\n",
    "store_all_changes_to_github()\n",
    "get_next_lesson()"
   ]
  }
 ],
 "metadata": {
  "kernelspec": {
   "display_name": "Python 3",
   "language": "python",
   "name": "python3"
  },
  "language_info": {
   "codemirror_mode": {
    "name": "ipython",
    "version": 3
   },
   "file_extension": ".py",
   "mimetype": "text/x-python",
   "name": "python",
   "nbconvert_exporter": "python",
   "pygments_lexer": "ipython3",
   "version": "3.12.1"
  }
 },
 "nbformat": 4,
 "nbformat_minor": 2
}
