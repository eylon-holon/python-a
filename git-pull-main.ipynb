{
 "cells": [
  {
   "cell_type": "code",
   "execution_count": 3,
   "metadata": {},
   "outputs": [
    {
     "name": "stdout",
     "output_type": "stream",
     "text": [
      "\n",
      "[omri-grabli 9e8fcf0] auto commit...\n",
      " 1 file changed, 4 insertions(+), 4 deletions(-)\n",
      "\n"
     ]
    },
    {
     "name": "stderr",
     "output_type": "stream",
     "text": [
      "To https://github.com/eylon-holon/python-a\n",
      "   aa03172..9e8fcf0  omri-grabli -> omri-grabli\n"
     ]
    },
    {
     "name": "stdout",
     "output_type": "stream",
     "text": [
      "\n",
      "Merge made by the 'ort' strategy.\n",
      " turtle/img/turtle-commands.png | Bin 0 -> 277830 bytes\n",
      " turtle/img/turtle-q01.png      | Bin 0 -> 4841 bytes\n",
      " turtle/img/turtle-q02.png      | Bin 0 -> 13674 bytes\n",
      " turtle/img/turtle-q03.png      | Bin 0 -> 6659 bytes\n",
      " turtle/img/turtle-q04.png      | Bin 0 -> 9191 bytes\n",
      " turtle/img/turtle-q05.png      | Bin 0 -> 17275 bytes\n",
      " turtle/img/turtle-q06.png      | Bin 0 -> 7259 bytes\n",
      " turtle/img/turtle-q07.png      | Bin 0 -> 22828 bytes\n",
      " turtle/turtle-01.ipynb         | 133 +++++++++++++++++++++++++++++++++++++++++\n",
      " 9 files changed, 133 insertions(+)\n",
      " create mode 100644 turtle/img/turtle-commands.png\n",
      " create mode 100644 turtle/img/turtle-q01.png\n",
      " create mode 100644 turtle/img/turtle-q02.png\n",
      " create mode 100644 turtle/img/turtle-q03.png\n",
      " create mode 100644 turtle/img/turtle-q04.png\n",
      " create mode 100644 turtle/img/turtle-q05.png\n",
      " create mode 100644 turtle/img/turtle-q06.png\n",
      " create mode 100644 turtle/img/turtle-q07.png\n",
      "\n",
      "\n"
     ]
    },
    {
     "name": "stderr",
     "output_type": "stream",
     "text": [
      "To https://github.com/eylon-holon/python-a\n",
      "   9e8fcf0..2419d47  omri-grabli -> omri-grabli\n"
     ]
    }
   ],
   "source": [
    "from eylon.core import *\n",
    "store_all_changes_to_github()\n",
    "get_next_lesson()"
   ]
  }
 ],
 "metadata": {
  "kernelspec": {
   "display_name": "Python 3",
   "language": "python",
   "name": "python3"
  },
  "language_info": {
   "codemirror_mode": {
    "name": "ipython",
    "version": 3
   },
   "file_extension": ".py",
   "mimetype": "text/x-python",
   "name": "python",
   "nbconvert_exporter": "python",
   "pygments_lexer": "ipython3",
   "version": "3.12.1"
  }
 },
 "nbformat": 4,
 "nbformat_minor": 2
}
