{
 "cells": [
  {
   "cell_type": "code",
   "execution_count": 2,
   "metadata": {},
   "outputs": [
    {
     "name": "stdout",
     "output_type": "stream",
     "text": [
      "0\n",
      "1\n",
      "F\n",
      "E\n"
     ]
    }
   ],
   "source": [
    "str = \"0123456789ABCDEF\"\n",
    "print(str[0])\n",
    "print(str[1])\n",
    "print(str[-1])\n",
    "print(str[-2])"
   ]
  },
  {
   "cell_type": "markdown",
   "metadata": {},
   "source": [
    "מה העבדל בין גישה לאותיות מהתחלה ומהסוף (איפו האינדקס מתחיל בשני המקרים)?\n",
    "שאידקסים בלי מינוס כלומר משמאל לימין מתחילים ב0 והשאר שעם מינוס מתחלים מ-1"
   ]
  },
  {
   "cell_type": "code",
   "execution_count": null,
   "metadata": {},
   "outputs": [],
   "source": [
    "str = \"0123456789ABCDEF\"\n",
    "print(len(str))"
   ]
  },
  {
   "cell_type": "markdown",
   "metadata": {},
   "source": [
    "מחזירה 16 כלומר כמה תווים יש בסטרינג\n",
    "len - מה מחזירה פונקציה?"
   ]
  },
  {
   "cell_type": "code",
   "execution_count": null,
   "metadata": {},
   "outputs": [],
   "source": [
    "str = \"0123456789ABCDEF\"\n",
    "print(str[len(str)-1])\n",
    "print(str[-1])"
   ]
  },
  {
   "cell_type": "markdown",
   "metadata": {},
   "source": [
    "למה זה מדפיס אותה אות? \n",
    "כי הראשון מחזיר את גודל המערך פחות אחד כלומר 15 אז זה מדפיס אז מקטם 15 שזה F \n",
    "השני מחזיר את האות הראשונה מצד ימין"
   ]
  },
  {
   "cell_type": "code",
   "execution_count": null,
   "metadata": {},
   "outputs": [],
   "source": [
    "name = input(\"Enter your name: \")\n",
    "print(\"Hello \" + name + \"!\")"
   ]
  },
  {
   "cell_type": "markdown",
   "metadata": {},
   "source": [
    "מדפיסה את מה שאתה רושם כלומר השם שלך ואומרת שלום\n",
    " "
   ]
  },
  {
   "cell_type": "code",
   "execution_count": null,
   "metadata": {},
   "outputs": [],
   "source": [
    "name = input(\"Enter your name: \")\n",
    "print(\"Hello \"*2 + name*2)"
   ]
  },
  {
   "cell_type": "markdown",
   "metadata": {},
   "source": [
    "משרשר את המחרוזת פעמיים"
   ]
  },
  {
   "cell_type": "code",
   "execution_count": 2,
   "metadata": {},
   "outputs": [
    {
     "name": "stdout",
     "output_type": "stream",
     "text": [
      "0123456789ABCDEF\n",
      "0123456789ABCDEF\n",
      "0123456789ABCDEF\n",
      "0123456789ABCDEF\n"
     ]
    }
   ],
   "source": [
    "str = \"0123456789ABCDEF\"\n",
    "print(str[0:len(str):1])\n",
    "print(str[0::1])\n",
    "print(str[0::])\n",
    "print(str[::])\n"
   ]
  },
  {
   "cell_type": "markdown",
   "metadata": {},
   "source": [
    "איך זה שכל השורות מדפיסות אותו דבר?<br>\n",
    "מה המשמעות של ערכים דפולטיים (default)?\n",
    "דיפולט אומר שזה הרגיל כלומר הראשון שיהיה אם לא יהיה רשום אחרת"
   ]
  },
  {
   "cell_type": "code",
   "execution_count": null,
   "metadata": {},
   "outputs": [],
   "source": [
    "str = \"0123456789ABCDEF\"\n",
    "print(str[::])"
   ]
  },
  {
   "cell_type": "markdown",
   "metadata": {},
   "source": [
    "מהם הערכים הדפולטיים במקרה הזה?"
   ]
  },
  {
   "cell_type": "code",
   "execution_count": null,
   "metadata": {},
   "outputs": [],
   "source": [
    "str = \"0123456789ABCDEF\"\n",
    "print(str[0::])\n",
    "print(str[1::])\n",
    "print(str[5::])"
   ]
  },
  {
   "cell_type": "markdown",
   "metadata": {},
   "source": [
    "מה המשמעות של מספר הראשון בתווך?"
   ]
  },
  {
   "cell_type": "code",
   "execution_count": null,
   "metadata": {},
   "outputs": [],
   "source": [
    "str = \"0123456789ABCDEF\"\n",
    "print(str[:1:])\n",
    "print(str[:2:])\n",
    "print(str[:5:])"
   ]
  },
  {
   "cell_type": "markdown",
   "metadata": {},
   "source": [
    "מה המשמעות של מספר השני בתווך?"
   ]
  },
  {
   "cell_type": "code",
   "execution_count": null,
   "metadata": {},
   "outputs": [],
   "source": [
    "str = \"0123456789ABCDEF\"\n",
    "print(str[::1])\n",
    "print(str[::2])\n",
    "print(str[::3])"
   ]
  },
  {
   "cell_type": "markdown",
   "metadata": {},
   "source": [
    "מה המשמעות של מספר השלישי בתווך?"
   ]
  },
  {
   "cell_type": "code",
   "execution_count": null,
   "metadata": {},
   "outputs": [],
   "source": [
    "str = \"0123456789ABCDEF\"\n",
    "print(str[::-1])\n",
    "print(str[len(str)::-1])"
   ]
  },
  {
   "cell_type": "markdown",
   "metadata": {},
   "source": [
    "מה הערכים הדפולטיים עכשיו?<br>\n",
    "מה לדעתך גורם להבדל?"
   ]
  },
  {
   "cell_type": "code",
   "execution_count": null,
   "metadata": {},
   "outputs": [],
   "source": [
    "word = input(\"Enter word: \")\n",
    "print(word)\n",
    "print(word[::-1])\n",
    "print(word == word[::-1])"
   ]
  },
  {
   "cell_type": "markdown",
   "metadata": {},
   "source": [
    "true - מתי שורה שלישית מדפיסה?<br>\n",
    "מה זה אומר על המילה?"
   ]
  },
  {
   "cell_type": "code",
   "execution_count": null,
   "metadata": {},
   "outputs": [],
   "source": [
    "str = \"0123456789ABCDEF\"\n",
    "print(str[])\n",
    "print(str[])\n",
    "print(str[])"
   ]
  },
  {
   "cell_type": "markdown",
   "metadata": {},
   "source": [
    "תשלימו את הקוד כך שיודפס<br>\n",
    "02468ACE<br>\n",
    "13579BDF<br>\n",
    "56789"
   ]
  },
  {
   "cell_type": "code",
   "execution_count": null,
   "metadata": {},
   "outputs": [],
   "source": [
    "str = \"0123456789ABCDEF\"\n",
    "print(\"1\" in str)\n",
    "print(\"12\" in str)\n",
    "print(\"ABC\" in str)\n",
    "print(\"135\" in str)"
   ]
  },
  {
   "cell_type": "markdown",
   "metadata": {},
   "source": [
    "in - מה האופרטור מחזיר?"
   ]
  },
  {
   "cell_type": "code",
   "execution_count": null,
   "metadata": {},
   "outputs": [],
   "source": [
    "print(\"122333444455555\".count(\"1\"))\n",
    "print(\"122333444455555\".count(\"2\"))\n",
    "print(\"122333444455555\".count(\"4\"))\n",
    "print(\"122333444455555\".count(\"6\"))"
   ]
  },
  {
   "cell_type": "markdown",
   "metadata": {},
   "source": [
    "count - מה הפונקציה מחזירה?"
   ]
  },
  {
   "cell_type": "code",
   "execution_count": null,
   "metadata": {},
   "outputs": [],
   "source": [
    "str = \"0123456789ABCDEF\"\n",
    "print(str.find(\"0\"))\n",
    "print(str.find(\"01\"))\n",
    "print(str.find(\"789\"))\n",
    "print(str.find(\"EF\"))\n",
    "print(str.find(\"FE\"))"
   ]
  },
  {
   "cell_type": "markdown",
   "metadata": {},
   "source": [
    "find - מה הפונקציה מחזירה?"
   ]
  },
  {
   "cell_type": "code",
   "execution_count": null,
   "metadata": {},
   "outputs": [],
   "source": [
    "str = \"0123456789ABCDEF\"\n",
    "print(str.startswith(\"0123\"))\n",
    "print(str.startswith(\"1234\"))"
   ]
  },
  {
   "cell_type": "markdown",
   "metadata": {},
   "source": [
    "startswith - מה הפונקציה מחזירה?"
   ]
  },
  {
   "cell_type": "code",
   "execution_count": null,
   "metadata": {},
   "outputs": [],
   "source": [
    "str = \"0123456789ABCDEF\"\n",
    "print(str.endswith())\n",
    "print(str.endswith())"
   ]
  },
  {
   "cell_type": "markdown",
   "metadata": {},
   "source": [
    "endswith - תשלימו את קוד כך שיודפס<br>\n",
    "true<br>\n",
    "false "
   ]
  },
  {
   "cell_type": "code",
   "execution_count": null,
   "metadata": {},
   "outputs": [],
   "source": [
    "s1 = \"Hello name!\"\n",
    "name = input(\"Enter your name: \")\n",
    "s2 = s1.replace(\"name\", name)\n",
    "print(s2)"
   ]
  },
  {
   "cell_type": "markdown",
   "metadata": {},
   "source": [
    "replace - מה הפונקציה מחזירה?"
   ]
  },
  {
   "cell_type": "code",
   "execution_count": null,
   "metadata": {},
   "outputs": [],
   "source": [
    "print(\"1234\".isnumeric())\n",
    "print(\"1234\".isalpha())\n",
    "print(\"abcd\".isnumeric())\n",
    "print(\"abcd\".isalpha())\n"
   ]
  },
  {
   "cell_type": "markdown",
   "metadata": {},
   "source": [
    "isnumeric(), isalpha()<br>\n",
    "מה הפונקציות מחזירות?"
   ]
  },
  {
   "cell_type": "code",
   "execution_count": null,
   "metadata": {},
   "outputs": [],
   "source": [
    "print(\"-1234\".isnumeric())\n",
    "print(\"-1234\".isalpha())"
   ]
  },
  {
   "cell_type": "markdown",
   "metadata": {},
   "source": [
    "false - למה שניהם החזירו?"
   ]
  },
  {
   "cell_type": "code",
   "execution_count": null,
   "metadata": {},
   "outputs": [],
   "source": [
    "print(\"abcdef\".upper())\n",
    "print(\"ABCDEF\".lower())"
   ]
  },
  {
   "cell_type": "markdown",
   "metadata": {},
   "source": [
    "upper(), lower()<br>\n",
    "מה הפונקציות מחזירות?"
   ]
  },
  {
   "cell_type": "code",
   "execution_count": null,
   "metadata": {},
   "outputs": [],
   "source": [
    "s1 = \"One two THree\"\n",
    "s2 = \"one TWO three\"\n",
    "print(s1 == s2)\n",
    "print(s1 == s2)"
   ]
  },
  {
   "cell_type": "markdown",
   "metadata": {},
   "source": [
    "תשתמשו בפונקציות<br>\n",
    "upper() lower()<br>\n",
    "כך שיודפס<br>\n",
    "true<br>\n",
    "true"
   ]
  }
 ],
 "metadata": {
  "kernelspec": {
   "display_name": "Python 3",
   "language": "python",
   "name": "python3"
  },
  "language_info": {
   "codemirror_mode": {
    "name": "ipython",
    "version": 3
   },
   "file_extension": ".py",
   "mimetype": "text/x-python",
   "name": "python",
   "nbconvert_exporter": "python",
   "pygments_lexer": "ipython3",
   "version": "3.12.1"
  }
 },
 "nbformat": 4,
 "nbformat_minor": 2
}
