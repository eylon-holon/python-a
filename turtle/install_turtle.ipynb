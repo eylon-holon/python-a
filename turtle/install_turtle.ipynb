{
 "cells": [
  {
   "cell_type": "code",
   "execution_count": null,
   "metadata": {},
   "outputs": [],
   "source": [
    "import sys; sys.path.insert(0, '..')\n",
    "from eylon.utils import os_silent\n",
    "os_silent(\"code --install-extension natqe.reload\")\n",
    "os_silent(\"pip install ipyturtle3\")"
   ]
  },
  {
   "cell_type": "code",
   "execution_count": null,
   "metadata": {},
   "outputs": [],
   "source": [
    "import jturtle\n",
    "t = jturtle.Turtle()\n",
    "\n",
    "t.color(\"blue\")\n",
    "t.pensize(3)\n",
    "t.penup()\n",
    "t.goto(-200, -50)\n",
    "t.pendown()\n",
    "for i in range(4):\n",
    "    t.forward(200)\n",
    "    t.left(90)\n",
    "t.color(\"green\")\n",
    "t.pensize(10)\n",
    "t.penup()\n",
    "t.goto(-150, 50)\n",
    "t.pendown()\n",
    "t.goto(-100, 0)\n",
    "t.goto(-30, 120)\n"
   ]
  }
 ],
 "metadata": {
  "kernelspec": {
   "display_name": "Python 3",
   "language": "python",
   "name": "python3"
  },
  "language_info": {
   "codemirror_mode": {
    "name": "ipython",
    "version": 3
   },
   "file_extension": ".py",
   "mimetype": "text/x-python",
   "name": "python",
   "nbconvert_exporter": "python",
   "pygments_lexer": "ipython3",
   "version": "3.11.9"
  }
 },
 "nbformat": 4,
 "nbformat_minor": 2
}
